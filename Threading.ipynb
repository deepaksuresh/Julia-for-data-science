{
 "cells": [
  {
   "cell_type": "markdown",
   "metadata": {},
   "source": [
    "# CSV loading with Multi-Threading\n",
    "## Comparing Julia's CSV.jl with Python's pandas and R's data.table"
   ]
  },
  {
   "cell_type": "code",
   "execution_count": 1,
   "metadata": {},
   "outputs": [
    {
     "data": {
      "text/plain": [
       "10"
      ]
     },
     "execution_count": 1,
     "metadata": {},
     "output_type": "execute_result"
    }
   ],
   "source": [
    "Threads.nthreads()"
   ]
  },
  {
   "cell_type": "code",
   "execution_count": 2,
   "metadata": {},
   "outputs": [],
   "source": [
    "using CSV, CSV.DataFrames #for loading csv files\n",
    "using BenchmarkTools #for benchmarking load time\n",
    "using StatsPlots, CategoricalArrays #for plotting"
   ]
  },
  {
   "cell_type": "code",
   "execution_count": 3,
   "metadata": {},
   "outputs": [
    {
     "data": {
      "text/plain": [
       "plot_times (generic function with 1 method)"
      ]
     },
     "execution_count": 3,
     "metadata": {},
     "output_type": "execute_result"
    }
   ],
   "source": [
    "function plot_times(t_array)\n",
    "    group_name = CategoricalArray(repeat([\"Julia\",\"R\", \"Python\"], inner = 2), ordered=true)\n",
    "    names_ = repeat([\"1 thread\", \"20 threads\"], outer=3)\n",
    "    groupedbar(names_, t_array,  group = group_name, ylabel = \"milliseconds\", \n",
    "        title = \"CSV loading with multi-threading\", color = [:purple2 :grey70  :deepskyblue2],legend =:best)\n",
    "end"
   ]
  },
  {
   "cell_type": "markdown",
   "metadata": {},
   "source": [
    "## Homogenous Dataset\n",
    "This dataset contains 50M rows and 5 columns. The dataset is a simulation of apple stock prices over two decades. The columns are open, high, low and close; all columns are Floats"
   ]
  },
  {
   "cell_type": "markdown",
   "metadata": {},
   "source": [
    "### Single threaded"
   ]
  },
  {
   "cell_type": "code",
   "execution_count": 4,
   "metadata": {},
   "outputs": [
    {
     "name": "stdout",
     "output_type": "stream",
     "text": [
      "\n",
      "R version 3.4.4 (2018-03-15) -- \"Someone to Lean On\"\n",
      "Copyright (C) 2018 The R Foundation for Statistical Computing\n",
      "Platform: x86_64-pc-linux-gnu (64-bit)\n",
      "\n",
      "R is free software and comes with ABSOLUTELY NO WARRANTY.\n",
      "You are welcome to redistribute it under certain conditions.\n",
      "Type 'license()' or 'licence()' for distribution details.\n",
      "\n",
      "R is a collaborative project with many contributors.\n",
      "Type 'contributors()' for more information and\n",
      "'citation()' on how to cite R or R packages in publications.\n",
      "\n",
      "Type 'demo()' for some demos, 'help()' for on-line help, or\n",
      "'help.start()' for an HTML browser interface to help.\n",
      "Type 'q()' to quit R.\n",
      "\n",
      "> library(microbenchmark);library(data.table);setDTthreads(1);benchmark = microbenchmark(df50 = fread('/data/dpk1729/csv-benchmarks-master/uniform_float64.csv'),times=4);print(benchmark)\n",
      "Unit: milliseconds\n",
      " expr      min       lq     mean   median       uq      max neval\n",
      " df50 106.8524 107.1032 136.9665 117.4171 166.8298 206.1794     4\n",
      "> \n",
      "> \n"
     ]
    },
    {
     "data": {
      "text/plain": [
       "Process(`\u001b[4mR\u001b[24m \u001b[4m-e\u001b[24m \u001b[4m\"library(microbenchmark);library(data.table);setDTthreads(1);benchmark = microbenchmark(df50 = fread('/data/dpk1729/csv-benchmarks-master/uniform_float64.csv'),times=4);print(benchmark)\"\u001b[24m`, ProcessExited(0))"
      ]
     },
     "execution_count": 4,
     "metadata": {},
     "output_type": "execute_result"
    }
   ],
   "source": [
    "run(`R -e \"library(microbenchmark);library(data.table);setDTthreads(1);benchmark = microbenchmark(df50 = fread('/data/dpk1729/csv-benchmarks-master/uniform_float64.csv'),times=4);print(benchmark)\"`)"
   ]
  },
  {
   "cell_type": "code",
   "execution_count": 5,
   "metadata": {},
   "outputs": [
    {
     "name": "stdout",
     "output_type": "stream",
     "text": [
      "1 loop, best of 5: 226 msec per loop\n"
     ]
    },
    {
     "data": {
      "text/plain": [
       "Process(`\u001b[4mpython3\u001b[24m \u001b[4m-m\u001b[24m \u001b[4mtimeit\u001b[24m \u001b[4m-s\u001b[24m \u001b[4m'import pandas'\u001b[24m \u001b[4m-p\u001b[24m \u001b[4m\"pandas.read_csv('/data/dpk1729/csv-benchmarks-master/uniform_float64.csv')\"\u001b[24m`, ProcessExited(0))"
      ]
     },
     "execution_count": 5,
     "metadata": {},
     "output_type": "execute_result"
    }
   ],
   "source": [
    "run(`python3 -m timeit -s \"import pandas\" -p \"pandas.read_csv('/data/dpk1729/csv-benchmarks-master/uniform_float64.csv')\"`)"
   ]
  },
  {
   "cell_type": "code",
   "execution_count": 6,
   "metadata": {
    "scrolled": true
   },
   "outputs": [
    {
     "name": "stdout",
     "output_type": "stream",
     "text": [
      "  147.875 ms (2242 allocations: 32.86 MiB)\n"
     ]
    },
    {
     "data": {
      "text/html": [
       "<table class=\"data-frame\"><thead><tr><th></th><th>col1</th><th>col2</th><th>col3</th><th>col4</th><th>col5</th><th>col6</th><th>col7</th><th>col8</th></tr><tr><th></th><th>Float64?</th><th>Float64?</th><th>Float64?</th><th>Float64?</th><th>Float64?</th><th>Float64?</th><th>Float64?</th><th>Float64?</th></tr></thead><tbody><p>10,000 rows × 200 columns (omitted printing of 192 columns)</p><tr><th>1</th><td>0.311115</td><td>0.918089</td><td><em>missing</em></td><td>0.227775</td><td>0.794346</td><td>0.382668</td><td>0.399535</td><td>0.989645</td></tr><tr><th>2</th><td>0.799122</td><td><em>missing</em></td><td>0.780652</td><td>0.736077</td><td><em>missing</em></td><td>0.704279</td><td><em>missing</em></td><td><em>missing</em></td></tr><tr><th>3</th><td>0.508057</td><td><em>missing</em></td><td>0.667188</td><td><em>missing</em></td><td><em>missing</em></td><td><em>missing</em></td><td>0.00099084</td><td><em>missing</em></td></tr><tr><th>4</th><td><em>missing</em></td><td>0.362406</td><td><em>missing</em></td><td><em>missing</em></td><td>0.370311</td><td>0.886238</td><td><em>missing</em></td><td>0.853112</td></tr><tr><th>5</th><td>0.969545</td><td><em>missing</em></td><td>0.79815</td><td>0.120027</td><td><em>missing</em></td><td>0.389666</td><td><em>missing</em></td><td><em>missing</em></td></tr><tr><th>6</th><td>0.200118</td><td><em>missing</em></td><td>0.436662</td><td><em>missing</em></td><td>0.688606</td><td><em>missing</em></td><td><em>missing</em></td><td>0.510718</td></tr><tr><th>7</th><td>0.645989</td><td>0.840897</td><td><em>missing</em></td><td><em>missing</em></td><td>0.753339</td><td>0.339951</td><td><em>missing</em></td><td>0.30921</td></tr><tr><th>8</th><td><em>missing</em></td><td>0.963547</td><td><em>missing</em></td><td><em>missing</em></td><td>0.189656</td><td><em>missing</em></td><td><em>missing</em></td><td><em>missing</em></td></tr><tr><th>9</th><td>0.338033</td><td>0.376711</td><td>0.490633</td><td><em>missing</em></td><td><em>missing</em></td><td>0.195923</td><td>0.629909</td><td>0.871364</td></tr><tr><th>10</th><td>0.573587</td><td>0.590211</td><td><em>missing</em></td><td>0.769724</td><td><em>missing</em></td><td><em>missing</em></td><td><em>missing</em></td><td><em>missing</em></td></tr><tr><th>11</th><td>0.269144</td><td>0.302069</td><td><em>missing</em></td><td><em>missing</em></td><td>0.745949</td><td>0.504432</td><td><em>missing</em></td><td><em>missing</em></td></tr><tr><th>12</th><td>0.995356</td><td><em>missing</em></td><td>0.951129</td><td>0.390971</td><td>0.673875</td><td><em>missing</em></td><td>0.840105</td><td><em>missing</em></td></tr><tr><th>13</th><td><em>missing</em></td><td><em>missing</em></td><td>0.38766</td><td><em>missing</em></td><td><em>missing</em></td><td>0.959495</td><td><em>missing</em></td><td>0.823399</td></tr><tr><th>14</th><td><em>missing</em></td><td><em>missing</em></td><td><em>missing</em></td><td><em>missing</em></td><td><em>missing</em></td><td>0.0423966</td><td>0.126899</td><td><em>missing</em></td></tr><tr><th>15</th><td>0.619731</td><td>0.467691</td><td>0.659405</td><td>0.222398</td><td>0.946472</td><td>0.873825</td><td><em>missing</em></td><td>0.35413</td></tr><tr><th>16</th><td>0.365557</td><td><em>missing</em></td><td>0.974517</td><td><em>missing</em></td><td><em>missing</em></td><td>0.939826</td><td><em>missing</em></td><td><em>missing</em></td></tr><tr><th>17</th><td><em>missing</em></td><td><em>missing</em></td><td>0.435993</td><td>0.575145</td><td>0.344621</td><td>0.846514</td><td><em>missing</em></td><td>0.0151868</td></tr><tr><th>18</th><td><em>missing</em></td><td><em>missing</em></td><td>0.762793</td><td><em>missing</em></td><td>0.0740568</td><td>0.535194</td><td><em>missing</em></td><td><em>missing</em></td></tr><tr><th>19</th><td><em>missing</em></td><td>0.722767</td><td><em>missing</em></td><td><em>missing</em></td><td><em>missing</em></td><td>0.720479</td><td>0.144017</td><td><em>missing</em></td></tr><tr><th>20</th><td>0.882564</td><td><em>missing</em></td><td>0.880814</td><td>0.824719</td><td><em>missing</em></td><td>0.356363</td><td><em>missing</em></td><td><em>missing</em></td></tr><tr><th>21</th><td><em>missing</em></td><td>0.587536</td><td><em>missing</em></td><td>0.817954</td><td>0.836043</td><td>0.635057</td><td><em>missing</em></td><td><em>missing</em></td></tr><tr><th>22</th><td>0.0752626</td><td>0.97342</td><td><em>missing</em></td><td><em>missing</em></td><td>0.580666</td><td>0.992854</td><td>0.270849</td><td>0.506805</td></tr><tr><th>23</th><td>0.995823</td><td><em>missing</em></td><td>0.387043</td><td><em>missing</em></td><td>0.605506</td><td>0.940625</td><td>0.57193</td><td>0.451765</td></tr><tr><th>24</th><td><em>missing</em></td><td><em>missing</em></td><td><em>missing</em></td><td>0.306602</td><td><em>missing</em></td><td>0.941255</td><td><em>missing</em></td><td>0.100479</td></tr><tr><th>25</th><td><em>missing</em></td><td><em>missing</em></td><td><em>missing</em></td><td>0.543566</td><td><em>missing</em></td><td>0.03148</td><td>0.260369</td><td><em>missing</em></td></tr><tr><th>26</th><td>0.561693</td><td><em>missing</em></td><td>0.95152</td><td>0.139949</td><td>0.500103</td><td>0.683918</td><td><em>missing</em></td><td>0.757593</td></tr><tr><th>27</th><td>0.936075</td><td><em>missing</em></td><td><em>missing</em></td><td>0.714108</td><td><em>missing</em></td><td><em>missing</em></td><td>0.295755</td><td>0.612012</td></tr><tr><th>28</th><td>0.20309</td><td>0.888202</td><td><em>missing</em></td><td><em>missing</em></td><td><em>missing</em></td><td><em>missing</em></td><td>0.230405</td><td>0.324209</td></tr><tr><th>29</th><td>0.962047</td><td><em>missing</em></td><td>0.0137362</td><td><em>missing</em></td><td>0.320541</td><td><em>missing</em></td><td><em>missing</em></td><td><em>missing</em></td></tr><tr><th>30</th><td><em>missing</em></td><td>0.0583227</td><td><em>missing</em></td><td><em>missing</em></td><td>0.822197</td><td>0.0775871</td><td>0.486105</td><td>0.983052</td></tr><tr><th>&vellip;</th><td>&vellip;</td><td>&vellip;</td><td>&vellip;</td><td>&vellip;</td><td>&vellip;</td><td>&vellip;</td><td>&vellip;</td><td>&vellip;</td></tr></tbody></table>"
      ],
      "text/latex": [
       "\\begin{tabular}{r|ccccccccc}\n",
       "\t& col1 & col2 & col3 & col4 & col5 & col6 & col7 & col8 & \\\\\n",
       "\t\\hline\n",
       "\t& Float64? & Float64? & Float64? & Float64? & Float64? & Float64? & Float64? & Float64? & \\\\\n",
       "\t\\hline\n",
       "\t1 & 0.311115 & 0.918089 & \\emph{missing} & 0.227775 & 0.794346 & 0.382668 & 0.399535 & 0.989645 & $\\dots$ \\\\\n",
       "\t2 & 0.799122 & \\emph{missing} & 0.780652 & 0.736077 & \\emph{missing} & 0.704279 & \\emph{missing} & \\emph{missing} & $\\dots$ \\\\\n",
       "\t3 & 0.508057 & \\emph{missing} & 0.667188 & \\emph{missing} & \\emph{missing} & \\emph{missing} & 0.00099084 & \\emph{missing} & $\\dots$ \\\\\n",
       "\t4 & \\emph{missing} & 0.362406 & \\emph{missing} & \\emph{missing} & 0.370311 & 0.886238 & \\emph{missing} & 0.853112 & $\\dots$ \\\\\n",
       "\t5 & 0.969545 & \\emph{missing} & 0.79815 & 0.120027 & \\emph{missing} & 0.389666 & \\emph{missing} & \\emph{missing} & $\\dots$ \\\\\n",
       "\t6 & 0.200118 & \\emph{missing} & 0.436662 & \\emph{missing} & 0.688606 & \\emph{missing} & \\emph{missing} & 0.510718 & $\\dots$ \\\\\n",
       "\t7 & 0.645989 & 0.840897 & \\emph{missing} & \\emph{missing} & 0.753339 & 0.339951 & \\emph{missing} & 0.30921 & $\\dots$ \\\\\n",
       "\t8 & \\emph{missing} & 0.963547 & \\emph{missing} & \\emph{missing} & 0.189656 & \\emph{missing} & \\emph{missing} & \\emph{missing} & $\\dots$ \\\\\n",
       "\t9 & 0.338033 & 0.376711 & 0.490633 & \\emph{missing} & \\emph{missing} & 0.195923 & 0.629909 & 0.871364 & $\\dots$ \\\\\n",
       "\t10 & 0.573587 & 0.590211 & \\emph{missing} & 0.769724 & \\emph{missing} & \\emph{missing} & \\emph{missing} & \\emph{missing} & $\\dots$ \\\\\n",
       "\t11 & 0.269144 & 0.302069 & \\emph{missing} & \\emph{missing} & 0.745949 & 0.504432 & \\emph{missing} & \\emph{missing} & $\\dots$ \\\\\n",
       "\t12 & 0.995356 & \\emph{missing} & 0.951129 & 0.390971 & 0.673875 & \\emph{missing} & 0.840105 & \\emph{missing} & $\\dots$ \\\\\n",
       "\t13 & \\emph{missing} & \\emph{missing} & 0.38766 & \\emph{missing} & \\emph{missing} & 0.959495 & \\emph{missing} & 0.823399 & $\\dots$ \\\\\n",
       "\t14 & \\emph{missing} & \\emph{missing} & \\emph{missing} & \\emph{missing} & \\emph{missing} & 0.0423966 & 0.126899 & \\emph{missing} & $\\dots$ \\\\\n",
       "\t15 & 0.619731 & 0.467691 & 0.659405 & 0.222398 & 0.946472 & 0.873825 & \\emph{missing} & 0.35413 & $\\dots$ \\\\\n",
       "\t16 & 0.365557 & \\emph{missing} & 0.974517 & \\emph{missing} & \\emph{missing} & 0.939826 & \\emph{missing} & \\emph{missing} & $\\dots$ \\\\\n",
       "\t17 & \\emph{missing} & \\emph{missing} & 0.435993 & 0.575145 & 0.344621 & 0.846514 & \\emph{missing} & 0.0151868 & $\\dots$ \\\\\n",
       "\t18 & \\emph{missing} & \\emph{missing} & 0.762793 & \\emph{missing} & 0.0740568 & 0.535194 & \\emph{missing} & \\emph{missing} & $\\dots$ \\\\\n",
       "\t19 & \\emph{missing} & 0.722767 & \\emph{missing} & \\emph{missing} & \\emph{missing} & 0.720479 & 0.144017 & \\emph{missing} & $\\dots$ \\\\\n",
       "\t20 & 0.882564 & \\emph{missing} & 0.880814 & 0.824719 & \\emph{missing} & 0.356363 & \\emph{missing} & \\emph{missing} & $\\dots$ \\\\\n",
       "\t21 & \\emph{missing} & 0.587536 & \\emph{missing} & 0.817954 & 0.836043 & 0.635057 & \\emph{missing} & \\emph{missing} & $\\dots$ \\\\\n",
       "\t22 & 0.0752626 & 0.97342 & \\emph{missing} & \\emph{missing} & 0.580666 & 0.992854 & 0.270849 & 0.506805 & $\\dots$ \\\\\n",
       "\t23 & 0.995823 & \\emph{missing} & 0.387043 & \\emph{missing} & 0.605506 & 0.940625 & 0.57193 & 0.451765 & $\\dots$ \\\\\n",
       "\t24 & \\emph{missing} & \\emph{missing} & \\emph{missing} & 0.306602 & \\emph{missing} & 0.941255 & \\emph{missing} & 0.100479 & $\\dots$ \\\\\n",
       "\t25 & \\emph{missing} & \\emph{missing} & \\emph{missing} & 0.543566 & \\emph{missing} & 0.03148 & 0.260369 & \\emph{missing} & $\\dots$ \\\\\n",
       "\t26 & 0.561693 & \\emph{missing} & 0.95152 & 0.139949 & 0.500103 & 0.683918 & \\emph{missing} & 0.757593 & $\\dots$ \\\\\n",
       "\t27 & 0.936075 & \\emph{missing} & \\emph{missing} & 0.714108 & \\emph{missing} & \\emph{missing} & 0.295755 & 0.612012 & $\\dots$ \\\\\n",
       "\t28 & 0.20309 & 0.888202 & \\emph{missing} & \\emph{missing} & \\emph{missing} & \\emph{missing} & 0.230405 & 0.324209 & $\\dots$ \\\\\n",
       "\t29 & 0.962047 & \\emph{missing} & 0.0137362 & \\emph{missing} & 0.320541 & \\emph{missing} & \\emph{missing} & \\emph{missing} & $\\dots$ \\\\\n",
       "\t30 & \\emph{missing} & 0.0583227 & \\emph{missing} & \\emph{missing} & 0.822197 & 0.0775871 & 0.486105 & 0.983052 & $\\dots$ \\\\\n",
       "\t$\\dots$ & $\\dots$ & $\\dots$ & $\\dots$ & $\\dots$ & $\\dots$ & $\\dots$ & $\\dots$ & $\\dots$ &  \\\\\n",
       "\\end{tabular}\n"
      ],
      "text/plain": [
       "10000×200 DataFrame. Omitted printing of 194 columns\n",
       "│ Row   │ col1      │ col2     │ col3     │ col4      │ col5      │ col6     │\n",
       "│       │ \u001b[90mFloat64?\u001b[39m  │ \u001b[90mFloat64?\u001b[39m │ \u001b[90mFloat64?\u001b[39m │ \u001b[90mFloat64?\u001b[39m  │ \u001b[90mFloat64?\u001b[39m  │ \u001b[90mFloat64?\u001b[39m │\n",
       "├───────┼───────────┼──────────┼──────────┼───────────┼───────────┼──────────┤\n",
       "│ 1     │ 0.311115  │ 0.918089 │ \u001b[90mmissing\u001b[39m  │ 0.227775  │ 0.794346  │ 0.382668 │\n",
       "│ 2     │ 0.799122  │ \u001b[90mmissing\u001b[39m  │ 0.780652 │ 0.736077  │ \u001b[90mmissing\u001b[39m   │ 0.704279 │\n",
       "│ 3     │ 0.508057  │ \u001b[90mmissing\u001b[39m  │ 0.667188 │ \u001b[90mmissing\u001b[39m   │ \u001b[90mmissing\u001b[39m   │ \u001b[90mmissing\u001b[39m  │\n",
       "│ 4     │ \u001b[90mmissing\u001b[39m   │ 0.362406 │ \u001b[90mmissing\u001b[39m  │ \u001b[90mmissing\u001b[39m   │ 0.370311  │ 0.886238 │\n",
       "│ 5     │ 0.969545  │ \u001b[90mmissing\u001b[39m  │ 0.79815  │ 0.120027  │ \u001b[90mmissing\u001b[39m   │ 0.389666 │\n",
       "│ 6     │ 0.200118  │ \u001b[90mmissing\u001b[39m  │ 0.436662 │ \u001b[90mmissing\u001b[39m   │ 0.688606  │ \u001b[90mmissing\u001b[39m  │\n",
       "│ 7     │ 0.645989  │ 0.840897 │ \u001b[90mmissing\u001b[39m  │ \u001b[90mmissing\u001b[39m   │ 0.753339  │ 0.339951 │\n",
       "│ 8     │ \u001b[90mmissing\u001b[39m   │ 0.963547 │ \u001b[90mmissing\u001b[39m  │ \u001b[90mmissing\u001b[39m   │ 0.189656  │ \u001b[90mmissing\u001b[39m  │\n",
       "│ 9     │ 0.338033  │ 0.376711 │ 0.490633 │ \u001b[90mmissing\u001b[39m   │ \u001b[90mmissing\u001b[39m   │ 0.195923 │\n",
       "│ 10    │ 0.573587  │ 0.590211 │ \u001b[90mmissing\u001b[39m  │ 0.769724  │ \u001b[90mmissing\u001b[39m   │ \u001b[90mmissing\u001b[39m  │\n",
       "⋮\n",
       "│ 9990  │ 0.943526  │ \u001b[90mmissing\u001b[39m  │ 0.313818 │ \u001b[90mmissing\u001b[39m   │ \u001b[90mmissing\u001b[39m   │ 0.701071 │\n",
       "│ 9991  │ 0.215753  │ \u001b[90mmissing\u001b[39m  │ 0.243756 │ 0.652784  │ 0.245408  │ \u001b[90mmissing\u001b[39m  │\n",
       "│ 9992  │ 0.440009  │ 0.776294 │ 0.715526 │ \u001b[90mmissing\u001b[39m   │ 0.0641035 │ \u001b[90mmissing\u001b[39m  │\n",
       "│ 9993  │ 0.812131  │ 0.143428 │ \u001b[90mmissing\u001b[39m  │ 0.364518  │ 0.269455  │ 0.672579 │\n",
       "│ 9994  │ 0.330875  │ \u001b[90mmissing\u001b[39m  │ 0.381522 │ 0.0899133 │ 0.523073  │ 0.439885 │\n",
       "│ 9995  │ 0.164545  │ \u001b[90mmissing\u001b[39m  │ 0.373886 │ \u001b[90mmissing\u001b[39m   │ 0.507139  │ 0.791108 │\n",
       "│ 9996  │ \u001b[90mmissing\u001b[39m   │ \u001b[90mmissing\u001b[39m  │ 0.951039 │ \u001b[90mmissing\u001b[39m   │ 0.671339  │ \u001b[90mmissing\u001b[39m  │\n",
       "│ 9997  │ 0.462132  │ \u001b[90mmissing\u001b[39m  │ \u001b[90mmissing\u001b[39m  │ 0.36443   │ 0.925312  │ \u001b[90mmissing\u001b[39m  │\n",
       "│ 9998  │ 0.450544  │ \u001b[90mmissing\u001b[39m  │ \u001b[90mmissing\u001b[39m  │ 0.187587  │ \u001b[90mmissing\u001b[39m   │ \u001b[90mmissing\u001b[39m  │\n",
       "│ 9999  │ 0.474359  │ 0.776311 │ 0.339405 │ 0.550112  │ \u001b[90mmissing\u001b[39m   │ 0.630947 │\n",
       "│ 10000 │ 0.0115207 │ \u001b[90mmissing\u001b[39m  │ \u001b[90mmissing\u001b[39m  │ \u001b[90mmissing\u001b[39m   │ \u001b[90mmissing\u001b[39m   │ 0.151572 │"
      ]
     },
     "execution_count": 6,
     "metadata": {},
     "output_type": "execute_result"
    }
   ],
   "source": [
    "@btime CSV.read(\"/data/dpk1729/csv-benchmarks-master/uniform_float64.csv\", threaded=false)"
   ]
  },
  {
   "cell_type": "markdown",
   "metadata": {},
   "source": [
    "### Multi threaded"
   ]
  },
  {
   "cell_type": "code",
   "execution_count": 7,
   "metadata": {},
   "outputs": [
    {
     "name": "stdout",
     "output_type": "stream",
     "text": [
      "\n",
      "R version 3.4.4 (2018-03-15) -- \"Someone to Lean On\"\n",
      "Copyright (C) 2018 The R Foundation for Statistical Computing\n",
      "Platform: x86_64-pc-linux-gnu (64-bit)\n",
      "\n",
      "R is free software and comes with ABSOLUTELY NO WARRANTY.\n",
      "You are welcome to redistribute it under certain conditions.\n",
      "Type 'license()' or 'licence()' for distribution details.\n",
      "\n",
      "R is a collaborative project with many contributors.\n",
      "Type 'contributors()' for more information and\n",
      "'citation()' on how to cite R or R packages in publications.\n",
      "\n",
      "Type 'demo()' for some demos, 'help()' for on-line help, or\n",
      "'help.start()' for an HTML browser interface to help.\n",
      "Type 'q()' to quit R.\n",
      "\n",
      "> library(microbenchmark);library(data.table);setDTthreads(10);benchmark = microbenchmark(df50 = fread('/data/dpk1729/csv-benchmarks-master/uniform_float64.csv'),times=4);print(benchmark)\n",
      "Unit: milliseconds\n",
      " expr      min       lq     mean   median       uq      max neval\n",
      " df50 49.95472 51.55505 71.46087 63.44895 91.36668 108.9908     4\n",
      "> \n",
      "> \n"
     ]
    },
    {
     "data": {
      "text/plain": [
       "Process(`\u001b[4mR\u001b[24m \u001b[4m-e\u001b[24m \u001b[4m\"library(microbenchmark);library(data.table);setDTthreads(10);benchmark = microbenchmark(df50 = fread('/data/dpk1729/csv-benchmarks-master/uniform_float64.csv'),times=4);print(benchmark)\"\u001b[24m`, ProcessExited(0))"
      ]
     },
     "execution_count": 7,
     "metadata": {},
     "output_type": "execute_result"
    }
   ],
   "source": [
    "run(`R -e \"library(microbenchmark);library(data.table);setDTthreads(10);benchmark = microbenchmark(df50 = fread('/data/dpk1729/csv-benchmarks-master/uniform_float64.csv'),times=4);print(benchmark)\"`)"
   ]
  },
  {
   "cell_type": "code",
   "execution_count": 8,
   "metadata": {
    "scrolled": true
   },
   "outputs": [
    {
     "name": "stdout",
     "output_type": "stream",
     "text": [
      "  34.830 ms (12417 allocations: 33.70 MiB)\n"
     ]
    },
    {
     "data": {
      "text/html": [
       "<table class=\"data-frame\"><thead><tr><th></th><th>col1</th><th>col2</th><th>col3</th><th>col4</th><th>col5</th><th>col6</th><th>col7</th><th>col8</th></tr><tr><th></th><th>Float64?</th><th>Float64?</th><th>Float64?</th><th>Float64?</th><th>Float64?</th><th>Float64?</th><th>Float64?</th><th>Float64?</th></tr></thead><tbody><p>10,000 rows × 200 columns (omitted printing of 192 columns)</p><tr><th>1</th><td>0.311115</td><td>0.918089</td><td><em>missing</em></td><td>0.227775</td><td>0.794346</td><td>0.382668</td><td>0.399535</td><td>0.989645</td></tr><tr><th>2</th><td>0.799122</td><td><em>missing</em></td><td>0.780652</td><td>0.736077</td><td><em>missing</em></td><td>0.704279</td><td><em>missing</em></td><td><em>missing</em></td></tr><tr><th>3</th><td>0.508057</td><td><em>missing</em></td><td>0.667188</td><td><em>missing</em></td><td><em>missing</em></td><td><em>missing</em></td><td>0.00099084</td><td><em>missing</em></td></tr><tr><th>4</th><td><em>missing</em></td><td>0.362406</td><td><em>missing</em></td><td><em>missing</em></td><td>0.370311</td><td>0.886238</td><td><em>missing</em></td><td>0.853112</td></tr><tr><th>5</th><td>0.969545</td><td><em>missing</em></td><td>0.79815</td><td>0.120027</td><td><em>missing</em></td><td>0.389666</td><td><em>missing</em></td><td><em>missing</em></td></tr><tr><th>6</th><td>0.200118</td><td><em>missing</em></td><td>0.436662</td><td><em>missing</em></td><td>0.688606</td><td><em>missing</em></td><td><em>missing</em></td><td>0.510718</td></tr><tr><th>7</th><td>0.645989</td><td>0.840897</td><td><em>missing</em></td><td><em>missing</em></td><td>0.753339</td><td>0.339951</td><td><em>missing</em></td><td>0.30921</td></tr><tr><th>8</th><td><em>missing</em></td><td>0.963547</td><td><em>missing</em></td><td><em>missing</em></td><td>0.189656</td><td><em>missing</em></td><td><em>missing</em></td><td><em>missing</em></td></tr><tr><th>9</th><td>0.338033</td><td>0.376711</td><td>0.490633</td><td><em>missing</em></td><td><em>missing</em></td><td>0.195923</td><td>0.629909</td><td>0.871364</td></tr><tr><th>10</th><td>0.573587</td><td>0.590211</td><td><em>missing</em></td><td>0.769724</td><td><em>missing</em></td><td><em>missing</em></td><td><em>missing</em></td><td><em>missing</em></td></tr><tr><th>11</th><td>0.269144</td><td>0.302069</td><td><em>missing</em></td><td><em>missing</em></td><td>0.745949</td><td>0.504432</td><td><em>missing</em></td><td><em>missing</em></td></tr><tr><th>12</th><td>0.995356</td><td><em>missing</em></td><td>0.951129</td><td>0.390971</td><td>0.673875</td><td><em>missing</em></td><td>0.840105</td><td><em>missing</em></td></tr><tr><th>13</th><td><em>missing</em></td><td><em>missing</em></td><td>0.38766</td><td><em>missing</em></td><td><em>missing</em></td><td>0.959495</td><td><em>missing</em></td><td>0.823399</td></tr><tr><th>14</th><td><em>missing</em></td><td><em>missing</em></td><td><em>missing</em></td><td><em>missing</em></td><td><em>missing</em></td><td>0.0423966</td><td>0.126899</td><td><em>missing</em></td></tr><tr><th>15</th><td>0.619731</td><td>0.467691</td><td>0.659405</td><td>0.222398</td><td>0.946472</td><td>0.873825</td><td><em>missing</em></td><td>0.35413</td></tr><tr><th>16</th><td>0.365557</td><td><em>missing</em></td><td>0.974517</td><td><em>missing</em></td><td><em>missing</em></td><td>0.939826</td><td><em>missing</em></td><td><em>missing</em></td></tr><tr><th>17</th><td><em>missing</em></td><td><em>missing</em></td><td>0.435993</td><td>0.575145</td><td>0.344621</td><td>0.846514</td><td><em>missing</em></td><td>0.0151868</td></tr><tr><th>18</th><td><em>missing</em></td><td><em>missing</em></td><td>0.762793</td><td><em>missing</em></td><td>0.0740568</td><td>0.535194</td><td><em>missing</em></td><td><em>missing</em></td></tr><tr><th>19</th><td><em>missing</em></td><td>0.722767</td><td><em>missing</em></td><td><em>missing</em></td><td><em>missing</em></td><td>0.720479</td><td>0.144017</td><td><em>missing</em></td></tr><tr><th>20</th><td>0.882564</td><td><em>missing</em></td><td>0.880814</td><td>0.824719</td><td><em>missing</em></td><td>0.356363</td><td><em>missing</em></td><td><em>missing</em></td></tr><tr><th>21</th><td><em>missing</em></td><td>0.587536</td><td><em>missing</em></td><td>0.817954</td><td>0.836043</td><td>0.635057</td><td><em>missing</em></td><td><em>missing</em></td></tr><tr><th>22</th><td>0.0752626</td><td>0.97342</td><td><em>missing</em></td><td><em>missing</em></td><td>0.580666</td><td>0.992854</td><td>0.270849</td><td>0.506805</td></tr><tr><th>23</th><td>0.995823</td><td><em>missing</em></td><td>0.387043</td><td><em>missing</em></td><td>0.605506</td><td>0.940625</td><td>0.57193</td><td>0.451765</td></tr><tr><th>24</th><td><em>missing</em></td><td><em>missing</em></td><td><em>missing</em></td><td>0.306602</td><td><em>missing</em></td><td>0.941255</td><td><em>missing</em></td><td>0.100479</td></tr><tr><th>25</th><td><em>missing</em></td><td><em>missing</em></td><td><em>missing</em></td><td>0.543566</td><td><em>missing</em></td><td>0.03148</td><td>0.260369</td><td><em>missing</em></td></tr><tr><th>26</th><td>0.561693</td><td><em>missing</em></td><td>0.95152</td><td>0.139949</td><td>0.500103</td><td>0.683918</td><td><em>missing</em></td><td>0.757593</td></tr><tr><th>27</th><td>0.936075</td><td><em>missing</em></td><td><em>missing</em></td><td>0.714108</td><td><em>missing</em></td><td><em>missing</em></td><td>0.295755</td><td>0.612012</td></tr><tr><th>28</th><td>0.20309</td><td>0.888202</td><td><em>missing</em></td><td><em>missing</em></td><td><em>missing</em></td><td><em>missing</em></td><td>0.230405</td><td>0.324209</td></tr><tr><th>29</th><td>0.962047</td><td><em>missing</em></td><td>0.0137362</td><td><em>missing</em></td><td>0.320541</td><td><em>missing</em></td><td><em>missing</em></td><td><em>missing</em></td></tr><tr><th>30</th><td><em>missing</em></td><td>0.0583227</td><td><em>missing</em></td><td><em>missing</em></td><td>0.822197</td><td>0.0775871</td><td>0.486105</td><td>0.983052</td></tr><tr><th>&vellip;</th><td>&vellip;</td><td>&vellip;</td><td>&vellip;</td><td>&vellip;</td><td>&vellip;</td><td>&vellip;</td><td>&vellip;</td><td>&vellip;</td></tr></tbody></table>"
      ],
      "text/latex": [
       "\\begin{tabular}{r|ccccccccc}\n",
       "\t& col1 & col2 & col3 & col4 & col5 & col6 & col7 & col8 & \\\\\n",
       "\t\\hline\n",
       "\t& Float64? & Float64? & Float64? & Float64? & Float64? & Float64? & Float64? & Float64? & \\\\\n",
       "\t\\hline\n",
       "\t1 & 0.311115 & 0.918089 & \\emph{missing} & 0.227775 & 0.794346 & 0.382668 & 0.399535 & 0.989645 & $\\dots$ \\\\\n",
       "\t2 & 0.799122 & \\emph{missing} & 0.780652 & 0.736077 & \\emph{missing} & 0.704279 & \\emph{missing} & \\emph{missing} & $\\dots$ \\\\\n",
       "\t3 & 0.508057 & \\emph{missing} & 0.667188 & \\emph{missing} & \\emph{missing} & \\emph{missing} & 0.00099084 & \\emph{missing} & $\\dots$ \\\\\n",
       "\t4 & \\emph{missing} & 0.362406 & \\emph{missing} & \\emph{missing} & 0.370311 & 0.886238 & \\emph{missing} & 0.853112 & $\\dots$ \\\\\n",
       "\t5 & 0.969545 & \\emph{missing} & 0.79815 & 0.120027 & \\emph{missing} & 0.389666 & \\emph{missing} & \\emph{missing} & $\\dots$ \\\\\n",
       "\t6 & 0.200118 & \\emph{missing} & 0.436662 & \\emph{missing} & 0.688606 & \\emph{missing} & \\emph{missing} & 0.510718 & $\\dots$ \\\\\n",
       "\t7 & 0.645989 & 0.840897 & \\emph{missing} & \\emph{missing} & 0.753339 & 0.339951 & \\emph{missing} & 0.30921 & $\\dots$ \\\\\n",
       "\t8 & \\emph{missing} & 0.963547 & \\emph{missing} & \\emph{missing} & 0.189656 & \\emph{missing} & \\emph{missing} & \\emph{missing} & $\\dots$ \\\\\n",
       "\t9 & 0.338033 & 0.376711 & 0.490633 & \\emph{missing} & \\emph{missing} & 0.195923 & 0.629909 & 0.871364 & $\\dots$ \\\\\n",
       "\t10 & 0.573587 & 0.590211 & \\emph{missing} & 0.769724 & \\emph{missing} & \\emph{missing} & \\emph{missing} & \\emph{missing} & $\\dots$ \\\\\n",
       "\t11 & 0.269144 & 0.302069 & \\emph{missing} & \\emph{missing} & 0.745949 & 0.504432 & \\emph{missing} & \\emph{missing} & $\\dots$ \\\\\n",
       "\t12 & 0.995356 & \\emph{missing} & 0.951129 & 0.390971 & 0.673875 & \\emph{missing} & 0.840105 & \\emph{missing} & $\\dots$ \\\\\n",
       "\t13 & \\emph{missing} & \\emph{missing} & 0.38766 & \\emph{missing} & \\emph{missing} & 0.959495 & \\emph{missing} & 0.823399 & $\\dots$ \\\\\n",
       "\t14 & \\emph{missing} & \\emph{missing} & \\emph{missing} & \\emph{missing} & \\emph{missing} & 0.0423966 & 0.126899 & \\emph{missing} & $\\dots$ \\\\\n",
       "\t15 & 0.619731 & 0.467691 & 0.659405 & 0.222398 & 0.946472 & 0.873825 & \\emph{missing} & 0.35413 & $\\dots$ \\\\\n",
       "\t16 & 0.365557 & \\emph{missing} & 0.974517 & \\emph{missing} & \\emph{missing} & 0.939826 & \\emph{missing} & \\emph{missing} & $\\dots$ \\\\\n",
       "\t17 & \\emph{missing} & \\emph{missing} & 0.435993 & 0.575145 & 0.344621 & 0.846514 & \\emph{missing} & 0.0151868 & $\\dots$ \\\\\n",
       "\t18 & \\emph{missing} & \\emph{missing} & 0.762793 & \\emph{missing} & 0.0740568 & 0.535194 & \\emph{missing} & \\emph{missing} & $\\dots$ \\\\\n",
       "\t19 & \\emph{missing} & 0.722767 & \\emph{missing} & \\emph{missing} & \\emph{missing} & 0.720479 & 0.144017 & \\emph{missing} & $\\dots$ \\\\\n",
       "\t20 & 0.882564 & \\emph{missing} & 0.880814 & 0.824719 & \\emph{missing} & 0.356363 & \\emph{missing} & \\emph{missing} & $\\dots$ \\\\\n",
       "\t21 & \\emph{missing} & 0.587536 & \\emph{missing} & 0.817954 & 0.836043 & 0.635057 & \\emph{missing} & \\emph{missing} & $\\dots$ \\\\\n",
       "\t22 & 0.0752626 & 0.97342 & \\emph{missing} & \\emph{missing} & 0.580666 & 0.992854 & 0.270849 & 0.506805 & $\\dots$ \\\\\n",
       "\t23 & 0.995823 & \\emph{missing} & 0.387043 & \\emph{missing} & 0.605506 & 0.940625 & 0.57193 & 0.451765 & $\\dots$ \\\\\n",
       "\t24 & \\emph{missing} & \\emph{missing} & \\emph{missing} & 0.306602 & \\emph{missing} & 0.941255 & \\emph{missing} & 0.100479 & $\\dots$ \\\\\n",
       "\t25 & \\emph{missing} & \\emph{missing} & \\emph{missing} & 0.543566 & \\emph{missing} & 0.03148 & 0.260369 & \\emph{missing} & $\\dots$ \\\\\n",
       "\t26 & 0.561693 & \\emph{missing} & 0.95152 & 0.139949 & 0.500103 & 0.683918 & \\emph{missing} & 0.757593 & $\\dots$ \\\\\n",
       "\t27 & 0.936075 & \\emph{missing} & \\emph{missing} & 0.714108 & \\emph{missing} & \\emph{missing} & 0.295755 & 0.612012 & $\\dots$ \\\\\n",
       "\t28 & 0.20309 & 0.888202 & \\emph{missing} & \\emph{missing} & \\emph{missing} & \\emph{missing} & 0.230405 & 0.324209 & $\\dots$ \\\\\n",
       "\t29 & 0.962047 & \\emph{missing} & 0.0137362 & \\emph{missing} & 0.320541 & \\emph{missing} & \\emph{missing} & \\emph{missing} & $\\dots$ \\\\\n",
       "\t30 & \\emph{missing} & 0.0583227 & \\emph{missing} & \\emph{missing} & 0.822197 & 0.0775871 & 0.486105 & 0.983052 & $\\dots$ \\\\\n",
       "\t$\\dots$ & $\\dots$ & $\\dots$ & $\\dots$ & $\\dots$ & $\\dots$ & $\\dots$ & $\\dots$ & $\\dots$ &  \\\\\n",
       "\\end{tabular}\n"
      ],
      "text/plain": [
       "10000×200 DataFrame. Omitted printing of 194 columns\n",
       "│ Row   │ col1      │ col2     │ col3     │ col4      │ col5      │ col6     │\n",
       "│       │ \u001b[90mFloat64?\u001b[39m  │ \u001b[90mFloat64?\u001b[39m │ \u001b[90mFloat64?\u001b[39m │ \u001b[90mFloat64?\u001b[39m  │ \u001b[90mFloat64?\u001b[39m  │ \u001b[90mFloat64?\u001b[39m │\n",
       "├───────┼───────────┼──────────┼──────────┼───────────┼───────────┼──────────┤\n",
       "│ 1     │ 0.311115  │ 0.918089 │ \u001b[90mmissing\u001b[39m  │ 0.227775  │ 0.794346  │ 0.382668 │\n",
       "│ 2     │ 0.799122  │ \u001b[90mmissing\u001b[39m  │ 0.780652 │ 0.736077  │ \u001b[90mmissing\u001b[39m   │ 0.704279 │\n",
       "│ 3     │ 0.508057  │ \u001b[90mmissing\u001b[39m  │ 0.667188 │ \u001b[90mmissing\u001b[39m   │ \u001b[90mmissing\u001b[39m   │ \u001b[90mmissing\u001b[39m  │\n",
       "│ 4     │ \u001b[90mmissing\u001b[39m   │ 0.362406 │ \u001b[90mmissing\u001b[39m  │ \u001b[90mmissing\u001b[39m   │ 0.370311  │ 0.886238 │\n",
       "│ 5     │ 0.969545  │ \u001b[90mmissing\u001b[39m  │ 0.79815  │ 0.120027  │ \u001b[90mmissing\u001b[39m   │ 0.389666 │\n",
       "│ 6     │ 0.200118  │ \u001b[90mmissing\u001b[39m  │ 0.436662 │ \u001b[90mmissing\u001b[39m   │ 0.688606  │ \u001b[90mmissing\u001b[39m  │\n",
       "│ 7     │ 0.645989  │ 0.840897 │ \u001b[90mmissing\u001b[39m  │ \u001b[90mmissing\u001b[39m   │ 0.753339  │ 0.339951 │\n",
       "│ 8     │ \u001b[90mmissing\u001b[39m   │ 0.963547 │ \u001b[90mmissing\u001b[39m  │ \u001b[90mmissing\u001b[39m   │ 0.189656  │ \u001b[90mmissing\u001b[39m  │\n",
       "│ 9     │ 0.338033  │ 0.376711 │ 0.490633 │ \u001b[90mmissing\u001b[39m   │ \u001b[90mmissing\u001b[39m   │ 0.195923 │\n",
       "│ 10    │ 0.573587  │ 0.590211 │ \u001b[90mmissing\u001b[39m  │ 0.769724  │ \u001b[90mmissing\u001b[39m   │ \u001b[90mmissing\u001b[39m  │\n",
       "⋮\n",
       "│ 9990  │ 0.943526  │ \u001b[90mmissing\u001b[39m  │ 0.313818 │ \u001b[90mmissing\u001b[39m   │ \u001b[90mmissing\u001b[39m   │ 0.701071 │\n",
       "│ 9991  │ 0.215753  │ \u001b[90mmissing\u001b[39m  │ 0.243756 │ 0.652784  │ 0.245408  │ \u001b[90mmissing\u001b[39m  │\n",
       "│ 9992  │ 0.440009  │ 0.776294 │ 0.715526 │ \u001b[90mmissing\u001b[39m   │ 0.0641035 │ \u001b[90mmissing\u001b[39m  │\n",
       "│ 9993  │ 0.812131  │ 0.143428 │ \u001b[90mmissing\u001b[39m  │ 0.364518  │ 0.269455  │ 0.672579 │\n",
       "│ 9994  │ 0.330875  │ \u001b[90mmissing\u001b[39m  │ 0.381522 │ 0.0899133 │ 0.523073  │ 0.439885 │\n",
       "│ 9995  │ 0.164545  │ \u001b[90mmissing\u001b[39m  │ 0.373886 │ \u001b[90mmissing\u001b[39m   │ 0.507139  │ 0.791108 │\n",
       "│ 9996  │ \u001b[90mmissing\u001b[39m   │ \u001b[90mmissing\u001b[39m  │ 0.951039 │ \u001b[90mmissing\u001b[39m   │ 0.671339  │ \u001b[90mmissing\u001b[39m  │\n",
       "│ 9997  │ 0.462132  │ \u001b[90mmissing\u001b[39m  │ \u001b[90mmissing\u001b[39m  │ 0.36443   │ 0.925312  │ \u001b[90mmissing\u001b[39m  │\n",
       "│ 9998  │ 0.450544  │ \u001b[90mmissing\u001b[39m  │ \u001b[90mmissing\u001b[39m  │ 0.187587  │ \u001b[90mmissing\u001b[39m   │ \u001b[90mmissing\u001b[39m  │\n",
       "│ 9999  │ 0.474359  │ 0.776311 │ 0.339405 │ 0.550112  │ \u001b[90mmissing\u001b[39m   │ 0.630947 │\n",
       "│ 10000 │ 0.0115207 │ \u001b[90mmissing\u001b[39m  │ \u001b[90mmissing\u001b[39m  │ \u001b[90mmissing\u001b[39m   │ \u001b[90mmissing\u001b[39m   │ 0.151572 │"
      ]
     },
     "execution_count": 8,
     "metadata": {},
     "output_type": "execute_result"
    }
   ],
   "source": [
    "@btime CSV.read(\"/data/dpk1729/csv-benchmarks-master/uniform_float64.csv\", threaded=true)"
   ]
  },
  {
   "cell_type": "code",
   "execution_count": 9,
   "metadata": {},
   "outputs": [
    {
     "data": {
      "image/svg+xml": [
       "<?xml version=\"1.0\" encoding=\"utf-8\"?>\n",
       "<svg xmlns=\"http://www.w3.org/2000/svg\" xmlns:xlink=\"http://www.w3.org/1999/xlink\" width=\"600\" height=\"400\" viewBox=\"0 0 2400 1600\">\n",
       "<defs>\n",
       "  <clipPath id=\"clip890\">\n",
       "    <rect x=\"0\" y=\"0\" width=\"2400\" height=\"1600\"/>\n",
       "  </clipPath>\n",
       "</defs>\n",
       "<path clip-path=\"url(#clip890)\" d=\"\n",
       "M0 1600 L2400 1600 L2400 0 L0 0  Z\n",
       "  \" fill=\"#ffffff\" fill-rule=\"evenodd\" fill-opacity=\"1\"/>\n",
       "<defs>\n",
       "  <clipPath id=\"clip891\">\n",
       "    <rect x=\"480\" y=\"0\" width=\"1681\" height=\"1600\"/>\n",
       "  </clipPath>\n",
       "</defs>\n",
       "<path clip-path=\"url(#clip890)\" d=\"\n",
       "M226.232 1486.45 L2352.76 1486.45 L2352.76 123.472 L226.232 123.472  Z\n",
       "  \" fill=\"#ffffff\" fill-rule=\"evenodd\" fill-opacity=\"1\"/>\n",
       "<defs>\n",
       "  <clipPath id=\"clip892\">\n",
       "    <rect x=\"226\" y=\"123\" width=\"2128\" height=\"1364\"/>\n",
       "  </clipPath>\n",
       "</defs>\n",
       "<polyline clip-path=\"url(#clip892)\" style=\"stroke:#000000; stroke-width:2; stroke-opacity:0.1; fill:none\" points=\"\n",
       "  754.805,1486.45 754.805,123.472 \n",
       "  \"/>\n",
       "<polyline clip-path=\"url(#clip892)\" style=\"stroke:#000000; stroke-width:2; stroke-opacity:0.1; fill:none\" points=\"\n",
       "  1824.18,1486.45 1824.18,123.472 \n",
       "  \"/>\n",
       "<polyline clip-path=\"url(#clip892)\" style=\"stroke:#000000; stroke-width:2; stroke-opacity:0.1; fill:none\" points=\"\n",
       "  226.232,1447.87 2352.76,1447.87 \n",
       "  \"/>\n",
       "<polyline clip-path=\"url(#clip892)\" style=\"stroke:#000000; stroke-width:2; stroke-opacity:0.1; fill:none\" points=\"\n",
       "  226.232,1158.27 2352.76,1158.27 \n",
       "  \"/>\n",
       "<polyline clip-path=\"url(#clip892)\" style=\"stroke:#000000; stroke-width:2; stroke-opacity:0.1; fill:none\" points=\"\n",
       "  226.232,868.672 2352.76,868.672 \n",
       "  \"/>\n",
       "<polyline clip-path=\"url(#clip892)\" style=\"stroke:#000000; stroke-width:2; stroke-opacity:0.1; fill:none\" points=\"\n",
       "  226.232,579.072 2352.76,579.072 \n",
       "  \"/>\n",
       "<polyline clip-path=\"url(#clip892)\" style=\"stroke:#000000; stroke-width:2; stroke-opacity:0.1; fill:none\" points=\"\n",
       "  226.232,289.471 2352.76,289.471 \n",
       "  \"/>\n",
       "<polyline clip-path=\"url(#clip890)\" style=\"stroke:#000000; stroke-width:4; stroke-opacity:1; fill:none\" points=\"\n",
       "  226.232,1486.45 2352.76,1486.45 \n",
       "  \"/>\n",
       "<polyline clip-path=\"url(#clip890)\" style=\"stroke:#000000; stroke-width:4; stroke-opacity:1; fill:none\" points=\"\n",
       "  226.232,1486.45 226.232,123.472 \n",
       "  \"/>\n",
       "<polyline clip-path=\"url(#clip890)\" style=\"stroke:#000000; stroke-width:4; stroke-opacity:1; fill:none\" points=\"\n",
       "  754.805,1486.45 754.805,1470.09 \n",
       "  \"/>\n",
       "<polyline clip-path=\"url(#clip890)\" style=\"stroke:#000000; stroke-width:4; stroke-opacity:1; fill:none\" points=\"\n",
       "  1824.18,1486.45 1824.18,1470.09 \n",
       "  \"/>\n",
       "<polyline clip-path=\"url(#clip890)\" style=\"stroke:#000000; stroke-width:4; stroke-opacity:1; fill:none\" points=\"\n",
       "  226.232,1447.87 251.75,1447.87 \n",
       "  \"/>\n",
       "<polyline clip-path=\"url(#clip890)\" style=\"stroke:#000000; stroke-width:4; stroke-opacity:1; fill:none\" points=\"\n",
       "  226.232,1158.27 251.75,1158.27 \n",
       "  \"/>\n",
       "<polyline clip-path=\"url(#clip890)\" style=\"stroke:#000000; stroke-width:4; stroke-opacity:1; fill:none\" points=\"\n",
       "  226.232,868.672 251.75,868.672 \n",
       "  \"/>\n",
       "<polyline clip-path=\"url(#clip890)\" style=\"stroke:#000000; stroke-width:4; stroke-opacity:1; fill:none\" points=\"\n",
       "  226.232,579.072 251.75,579.072 \n",
       "  \"/>\n",
       "<polyline clip-path=\"url(#clip890)\" style=\"stroke:#000000; stroke-width:4; stroke-opacity:1; fill:none\" points=\"\n",
       "  226.232,289.471 251.75,289.471 \n",
       "  \"/>\n",
       "<path clip-path=\"url(#clip890)\" d=\"M 0 0 M668.104 1535.98 L675.742 1535.98 L675.742 1509.62 L667.432 1511.29 L667.432 1507.03 L675.696 1505.36 L680.372 1505.36 L680.372 1535.98 L688.011 1535.98 L688.011 1539.92 L668.104 1539.92 L668.104 1535.98 Z\" fill=\"#000000\" fill-rule=\"evenodd\" fill-opacity=\"1\" /><path clip-path=\"url(#clip890)\" d=\"M 0 0 M711.761 1506.63 L711.761 1513.99 L720.534 1513.99 L720.534 1517.3 L711.761 1517.3 L711.761 1531.38 Q711.761 1534.55 712.617 1535.45 Q713.497 1536.36 716.159 1536.36 L720.534 1536.36 L720.534 1539.92 L716.159 1539.92 Q711.228 1539.92 709.353 1538.09 Q707.478 1536.24 707.478 1531.38 L707.478 1517.3 L704.353 1517.3 L704.353 1513.99 L707.478 1513.99 L707.478 1506.63 L711.761 1506.63 Z\" fill=\"#000000\" fill-rule=\"evenodd\" fill-opacity=\"1\" /><path clip-path=\"url(#clip890)\" d=\"M 0 0 M746.552 1524.27 L746.552 1539.92 L742.293 1539.92 L742.293 1524.41 Q742.293 1520.73 740.858 1518.9 Q739.423 1517.07 736.552 1517.07 Q733.103 1517.07 731.113 1519.27 Q729.122 1521.47 729.122 1525.27 L729.122 1539.92 L724.839 1539.92 L724.839 1503.9 L729.122 1503.9 L729.122 1518.02 Q730.65 1515.68 732.71 1514.53 Q734.793 1513.37 737.501 1513.37 Q741.969 1513.37 744.261 1516.15 Q746.552 1518.9 746.552 1524.27 Z\" fill=\"#000000\" fill-rule=\"evenodd\" fill-opacity=\"1\" /><path clip-path=\"url(#clip890)\" d=\"M 0 0 M766.043 1517.98 Q765.325 1517.56 764.469 1517.37 Q763.636 1517.17 762.617 1517.17 Q759.006 1517.17 757.061 1519.53 Q755.14 1521.86 755.14 1526.26 L755.14 1539.92 L750.858 1539.92 L750.858 1513.99 L755.14 1513.99 L755.14 1518.02 Q756.483 1515.66 758.636 1514.53 Q760.788 1513.37 763.867 1513.37 Q764.307 1513.37 764.839 1513.44 Q765.372 1513.48 766.02 1513.6 L766.043 1517.98 Z\" fill=\"#000000\" fill-rule=\"evenodd\" fill-opacity=\"1\" /><path clip-path=\"url(#clip890)\" d=\"M 0 0 M791.645 1525.89 L791.645 1527.98 L772.061 1527.98 Q772.339 1532.37 774.7 1534.69 Q777.085 1536.98 781.321 1536.98 Q783.774 1536.98 786.066 1536.38 Q788.381 1535.78 790.649 1534.57 L790.649 1538.6 Q788.358 1539.57 785.95 1540.08 Q783.543 1540.59 781.066 1540.59 Q774.862 1540.59 771.228 1536.98 Q767.617 1533.37 767.617 1527.21 Q767.617 1520.85 771.043 1517.12 Q774.492 1513.37 780.325 1513.37 Q785.557 1513.37 788.589 1516.75 Q791.645 1520.11 791.645 1525.89 M787.385 1524.64 Q787.339 1521.15 785.418 1519.06 Q783.52 1516.98 780.372 1516.98 Q776.807 1516.98 774.654 1518.99 Q772.524 1521.01 772.2 1524.67 L787.385 1524.64 Z\" fill=\"#000000\" fill-rule=\"evenodd\" fill-opacity=\"1\" /><path clip-path=\"url(#clip890)\" d=\"M 0 0 M807.895 1526.89 Q802.733 1526.89 800.742 1528.07 Q798.751 1529.25 798.751 1532.1 Q798.751 1534.36 800.233 1535.71 Q801.737 1537.03 804.307 1537.03 Q807.848 1537.03 809.978 1534.53 Q812.131 1532 812.131 1527.84 L812.131 1526.89 L807.895 1526.89 M816.39 1525.13 L816.39 1539.92 L812.131 1539.92 L812.131 1535.98 Q810.672 1538.35 808.496 1539.48 Q806.32 1540.59 803.172 1540.59 Q799.191 1540.59 796.83 1538.37 Q794.492 1536.12 794.492 1532.37 Q794.492 1528 797.408 1525.78 Q800.348 1523.55 806.158 1523.55 L812.131 1523.55 L812.131 1523.14 Q812.131 1520.2 810.186 1518.6 Q808.265 1516.98 804.77 1516.98 Q802.547 1516.98 800.441 1517.51 Q798.334 1518.04 796.39 1519.11 L796.39 1515.17 Q798.728 1514.27 800.927 1513.83 Q803.126 1513.37 805.209 1513.37 Q810.834 1513.37 813.612 1516.29 Q816.39 1519.2 816.39 1525.13 Z\" fill=\"#000000\" fill-rule=\"evenodd\" fill-opacity=\"1\" /><path clip-path=\"url(#clip890)\" d=\"M 0 0 M837.918 1517.93 L837.918 1503.9 L842.177 1503.9 L842.177 1539.92 L837.918 1539.92 L837.918 1536.03 Q836.575 1538.35 834.515 1539.48 Q832.478 1540.59 829.607 1540.59 Q824.908 1540.59 821.945 1536.84 Q819.006 1533.09 819.006 1526.98 Q819.006 1520.87 821.945 1517.12 Q824.908 1513.37 829.607 1513.37 Q832.478 1513.37 834.515 1514.5 Q836.575 1515.61 837.918 1517.93 M823.404 1526.98 Q823.404 1531.68 825.325 1534.36 Q827.269 1537.03 830.649 1537.03 Q834.029 1537.03 835.973 1534.36 Q837.918 1531.68 837.918 1526.98 Q837.918 1522.28 835.973 1519.62 Q834.029 1516.93 830.649 1516.93 Q827.269 1516.93 825.325 1519.62 Q823.404 1522.28 823.404 1526.98 Z\" fill=\"#000000\" fill-rule=\"evenodd\" fill-opacity=\"1\" /><path clip-path=\"url(#clip890)\" d=\"M 0 0 M1717.05 1535.98 L1733.37 1535.98 L1733.37 1539.92 L1711.43 1539.92 L1711.43 1535.98 Q1714.09 1533.23 1718.67 1528.6 Q1723.28 1523.95 1724.46 1522.61 Q1726.71 1520.08 1727.59 1518.35 Q1728.49 1516.59 1728.49 1514.9 Q1728.49 1512.14 1726.54 1510.41 Q1724.62 1508.67 1721.52 1508.67 Q1719.32 1508.67 1716.87 1509.43 Q1714.44 1510.2 1711.66 1511.75 L1711.66 1507.03 Q1714.48 1505.89 1716.94 1505.31 Q1719.39 1504.73 1721.43 1504.73 Q1726.8 1504.73 1729.99 1507.42 Q1733.19 1510.11 1733.19 1514.6 Q1733.19 1516.73 1732.38 1518.65 Q1731.59 1520.54 1729.48 1523.14 Q1728.91 1523.81 1725.8 1527.03 Q1722.7 1530.22 1717.05 1535.98 Z\" fill=\"#000000\" fill-rule=\"evenodd\" fill-opacity=\"1\" /><path clip-path=\"url(#clip890)\" d=\"M 0 0 M1748.44 1508.44 Q1744.83 1508.44 1743 1512 Q1741.2 1515.55 1741.2 1522.67 Q1741.2 1529.78 1743 1533.35 Q1744.83 1536.89 1748.44 1536.89 Q1752.08 1536.89 1753.88 1533.35 Q1755.71 1529.78 1755.71 1522.67 Q1755.71 1515.55 1753.88 1512 Q1752.08 1508.44 1748.44 1508.44 M1748.44 1504.73 Q1754.25 1504.73 1757.31 1509.34 Q1760.39 1513.92 1760.39 1522.67 Q1760.39 1531.4 1757.31 1536.01 Q1754.25 1540.59 1748.44 1540.59 Q1742.63 1540.59 1739.55 1536.01 Q1736.5 1531.4 1736.5 1522.67 Q1736.5 1513.92 1739.55 1509.34 Q1742.63 1504.73 1748.44 1504.73 Z\" fill=\"#000000\" fill-rule=\"evenodd\" fill-opacity=\"1\" /><path clip-path=\"url(#clip890)\" d=\"M 0 0 M1784.14 1506.63 L1784.14 1513.99 L1792.91 1513.99 L1792.91 1517.3 L1784.14 1517.3 L1784.14 1531.38 Q1784.14 1534.55 1784.99 1535.45 Q1785.87 1536.36 1788.54 1536.36 L1792.91 1536.36 L1792.91 1539.92 L1788.54 1539.92 Q1783.6 1539.92 1781.73 1538.09 Q1779.85 1536.24 1779.85 1531.38 L1779.85 1517.3 L1776.73 1517.3 L1776.73 1513.99 L1779.85 1513.99 L1779.85 1506.63 L1784.14 1506.63 Z\" fill=\"#000000\" fill-rule=\"evenodd\" fill-opacity=\"1\" /><path clip-path=\"url(#clip890)\" d=\"M 0 0 M1818.93 1524.27 L1818.93 1539.92 L1814.67 1539.92 L1814.67 1524.41 Q1814.67 1520.73 1813.23 1518.9 Q1811.8 1517.07 1808.93 1517.07 Q1805.48 1517.07 1803.49 1519.27 Q1801.5 1521.47 1801.5 1525.27 L1801.5 1539.92 L1797.22 1539.92 L1797.22 1503.9 L1801.5 1503.9 L1801.5 1518.02 Q1803.03 1515.68 1805.09 1514.53 Q1807.17 1513.37 1809.88 1513.37 Q1814.35 1513.37 1816.64 1516.15 Q1818.93 1518.9 1818.93 1524.27 Z\" fill=\"#000000\" fill-rule=\"evenodd\" fill-opacity=\"1\" /><path clip-path=\"url(#clip890)\" d=\"M 0 0 M1838.42 1517.98 Q1837.7 1517.56 1836.85 1517.37 Q1836.01 1517.17 1834.99 1517.17 Q1831.38 1517.17 1829.44 1519.53 Q1827.52 1521.86 1827.52 1526.26 L1827.52 1539.92 L1823.23 1539.92 L1823.23 1513.99 L1827.52 1513.99 L1827.52 1518.02 Q1828.86 1515.66 1831.01 1514.53 Q1833.16 1513.37 1836.24 1513.37 Q1836.68 1513.37 1837.22 1513.44 Q1837.75 1513.48 1838.4 1513.6 L1838.42 1517.98 Z\" fill=\"#000000\" fill-rule=\"evenodd\" fill-opacity=\"1\" /><path clip-path=\"url(#clip890)\" d=\"M 0 0 M1864.02 1525.89 L1864.02 1527.98 L1844.44 1527.98 Q1844.72 1532.37 1847.08 1534.69 Q1849.46 1536.98 1853.7 1536.98 Q1856.15 1536.98 1858.44 1536.38 Q1860.76 1535.78 1863.03 1534.57 L1863.03 1538.6 Q1860.73 1539.57 1858.33 1540.08 Q1855.92 1540.59 1853.44 1540.59 Q1847.24 1540.59 1843.6 1536.98 Q1839.99 1533.37 1839.99 1527.21 Q1839.99 1520.85 1843.42 1517.12 Q1846.87 1513.37 1852.7 1513.37 Q1857.93 1513.37 1860.97 1516.75 Q1864.02 1520.11 1864.02 1525.89 M1859.76 1524.64 Q1859.72 1521.15 1857.79 1519.06 Q1855.9 1516.98 1852.75 1516.98 Q1849.18 1516.98 1847.03 1518.99 Q1844.9 1521.01 1844.58 1524.67 L1859.76 1524.64 Z\" fill=\"#000000\" fill-rule=\"evenodd\" fill-opacity=\"1\" /><path clip-path=\"url(#clip890)\" d=\"M 0 0 M1880.27 1526.89 Q1875.11 1526.89 1873.12 1528.07 Q1871.13 1529.25 1871.13 1532.1 Q1871.13 1534.36 1872.61 1535.71 Q1874.11 1537.03 1876.68 1537.03 Q1880.22 1537.03 1882.35 1534.53 Q1884.51 1532 1884.51 1527.84 L1884.51 1526.89 L1880.27 1526.89 M1888.77 1525.13 L1888.77 1539.92 L1884.51 1539.92 L1884.51 1535.98 Q1883.05 1538.35 1880.87 1539.48 Q1878.7 1540.59 1875.55 1540.59 Q1871.57 1540.59 1869.21 1538.37 Q1866.87 1536.12 1866.87 1532.37 Q1866.87 1528 1869.78 1525.78 Q1872.72 1523.55 1878.53 1523.55 L1884.51 1523.55 L1884.51 1523.14 Q1884.51 1520.2 1882.56 1518.6 Q1880.64 1516.98 1877.15 1516.98 Q1874.92 1516.98 1872.82 1517.51 Q1870.71 1518.04 1868.77 1519.11 L1868.77 1515.17 Q1871.1 1514.27 1873.3 1513.83 Q1875.5 1513.37 1877.59 1513.37 Q1883.21 1513.37 1885.99 1516.29 Q1888.77 1519.2 1888.77 1525.13 Z\" fill=\"#000000\" fill-rule=\"evenodd\" fill-opacity=\"1\" /><path clip-path=\"url(#clip890)\" d=\"M 0 0 M1910.29 1517.93 L1910.29 1503.9 L1914.55 1503.9 L1914.55 1539.92 L1910.29 1539.92 L1910.29 1536.03 Q1908.95 1538.35 1906.89 1539.48 Q1904.85 1540.59 1901.98 1540.59 Q1897.28 1540.59 1894.32 1536.84 Q1891.38 1533.09 1891.38 1526.98 Q1891.38 1520.87 1894.32 1517.12 Q1897.28 1513.37 1901.98 1513.37 Q1904.85 1513.37 1906.89 1514.5 Q1908.95 1515.61 1910.29 1517.93 M1895.78 1526.98 Q1895.78 1531.68 1897.7 1534.36 Q1899.65 1537.03 1903.03 1537.03 Q1906.41 1537.03 1908.35 1534.36 Q1910.29 1531.68 1910.29 1526.98 Q1910.29 1522.28 1908.35 1519.62 Q1906.41 1516.93 1903.03 1516.93 Q1899.65 1516.93 1897.7 1519.62 Q1895.78 1522.28 1895.78 1526.98 Z\" fill=\"#000000\" fill-rule=\"evenodd\" fill-opacity=\"1\" /><path clip-path=\"url(#clip890)\" d=\"M 0 0 M1935.55 1514.76 L1935.55 1518.79 Q1933.74 1517.86 1931.8 1517.4 Q1929.85 1516.93 1927.77 1516.93 Q1924.6 1516.93 1923 1517.91 Q1921.43 1518.88 1921.43 1520.82 Q1921.43 1522.3 1922.56 1523.16 Q1923.7 1523.99 1927.12 1524.76 L1928.58 1525.08 Q1933.12 1526.05 1935.02 1527.84 Q1936.94 1529.6 1936.94 1532.77 Q1936.94 1536.38 1934.07 1538.48 Q1931.22 1540.59 1926.22 1540.59 Q1924.14 1540.59 1921.87 1540.17 Q1919.62 1539.78 1917.12 1538.97 L1917.12 1534.57 Q1919.48 1535.8 1921.78 1536.42 Q1924.07 1537.03 1926.31 1537.03 Q1929.32 1537.03 1930.94 1536.01 Q1932.56 1534.97 1932.56 1533.09 Q1932.56 1531.36 1931.38 1530.43 Q1930.22 1529.5 1926.27 1528.65 L1924.78 1528.3 Q1920.83 1527.47 1919.07 1525.75 Q1917.31 1524.02 1917.31 1521.01 Q1917.31 1517.35 1919.9 1515.36 Q1922.49 1513.37 1927.26 1513.37 Q1929.62 1513.37 1931.71 1513.72 Q1933.79 1514.06 1935.55 1514.76 Z\" fill=\"#000000\" fill-rule=\"evenodd\" fill-opacity=\"1\" /><path clip-path=\"url(#clip890)\" d=\"M 0 0 M190.288 1433.67 Q186.677 1433.67 184.848 1437.24 Q183.042 1440.78 183.042 1447.91 Q183.042 1455.01 184.848 1458.58 Q186.677 1462.12 190.288 1462.12 Q193.922 1462.12 195.727 1458.58 Q197.556 1455.01 197.556 1447.91 Q197.556 1440.78 195.727 1437.24 Q193.922 1433.67 190.288 1433.67 M190.288 1429.97 Q196.098 1429.97 199.153 1434.57 Q202.232 1439.16 202.232 1447.91 Q202.232 1456.63 199.153 1461.24 Q196.098 1465.82 190.288 1465.82 Q184.477 1465.82 181.399 1461.24 Q178.343 1456.63 178.343 1447.91 Q178.343 1439.16 181.399 1434.57 Q184.477 1429.97 190.288 1429.97 Z\" fill=\"#000000\" fill-rule=\"evenodd\" fill-opacity=\"1\" /><path clip-path=\"url(#clip890)\" d=\"M 0 0 M154.316 1140.99 L172.672 1140.99 L172.672 1144.93 L158.598 1144.93 L158.598 1153.4 Q159.616 1153.05 160.635 1152.89 Q161.653 1152.71 162.672 1152.71 Q168.459 1152.71 171.839 1155.88 Q175.218 1159.05 175.218 1164.46 Q175.218 1170.04 171.746 1173.15 Q168.274 1176.22 161.954 1176.22 Q159.778 1176.22 157.51 1175.85 Q155.265 1175.48 152.857 1174.74 L152.857 1170.04 Q154.941 1171.18 157.163 1171.73 Q159.385 1172.29 161.862 1172.29 Q165.866 1172.29 168.204 1170.18 Q170.542 1168.08 170.542 1164.46 Q170.542 1160.85 168.204 1158.75 Q165.866 1156.64 161.862 1156.64 Q159.987 1156.64 158.112 1157.06 Q156.26 1157.47 154.316 1158.35 L154.316 1140.99 Z\" fill=\"#000000\" fill-rule=\"evenodd\" fill-opacity=\"1\" /><path clip-path=\"url(#clip890)\" d=\"M 0 0 M190.288 1144.07 Q186.677 1144.07 184.848 1147.64 Q183.042 1151.18 183.042 1158.31 Q183.042 1165.41 184.848 1168.98 Q186.677 1172.52 190.288 1172.52 Q193.922 1172.52 195.727 1168.98 Q197.556 1165.41 197.556 1158.31 Q197.556 1151.18 195.727 1147.64 Q193.922 1144.07 190.288 1144.07 M190.288 1140.37 Q196.098 1140.37 199.153 1144.97 Q202.232 1149.56 202.232 1158.31 Q202.232 1167.03 199.153 1171.64 Q196.098 1176.22 190.288 1176.22 Q184.477 1176.22 181.399 1171.64 Q178.343 1167.03 178.343 1158.31 Q178.343 1149.56 181.399 1144.97 Q184.477 1140.37 190.288 1140.37 Z\" fill=\"#000000\" fill-rule=\"evenodd\" fill-opacity=\"1\" /><path clip-path=\"url(#clip890)\" d=\"M 0 0 M128.297 882.017 L135.936 882.017 L135.936 855.651 L127.626 857.318 L127.626 853.059 L135.89 851.392 L140.566 851.392 L140.566 882.017 L148.204 882.017 L148.204 885.952 L128.297 885.952 L128.297 882.017 Z\" fill=\"#000000\" fill-rule=\"evenodd\" fill-opacity=\"1\" /><path clip-path=\"url(#clip890)\" d=\"M 0 0 M163.274 854.471 Q159.663 854.471 157.834 858.036 Q156.029 861.577 156.029 868.707 Q156.029 875.813 157.834 879.378 Q159.663 882.92 163.274 882.92 Q166.908 882.92 168.714 879.378 Q170.542 875.813 170.542 868.707 Q170.542 861.577 168.714 858.036 Q166.908 854.471 163.274 854.471 M163.274 850.767 Q169.084 850.767 172.14 855.374 Q175.218 859.957 175.218 868.707 Q175.218 877.434 172.14 882.04 Q169.084 886.623 163.274 886.623 Q157.464 886.623 154.385 882.04 Q151.329 877.434 151.329 868.707 Q151.329 859.957 154.385 855.374 Q157.464 850.767 163.274 850.767 Z\" fill=\"#000000\" fill-rule=\"evenodd\" fill-opacity=\"1\" /><path clip-path=\"url(#clip890)\" d=\"M 0 0 M190.288 854.471 Q186.677 854.471 184.848 858.036 Q183.042 861.577 183.042 868.707 Q183.042 875.813 184.848 879.378 Q186.677 882.92 190.288 882.92 Q193.922 882.92 195.727 879.378 Q197.556 875.813 197.556 868.707 Q197.556 861.577 195.727 858.036 Q193.922 854.471 190.288 854.471 M190.288 850.767 Q196.098 850.767 199.153 855.374 Q202.232 859.957 202.232 868.707 Q202.232 877.434 199.153 882.04 Q196.098 886.623 190.288 886.623 Q184.477 886.623 181.399 882.04 Q178.343 877.434 178.343 868.707 Q178.343 859.957 181.399 855.374 Q184.477 850.767 190.288 850.767 Z\" fill=\"#000000\" fill-rule=\"evenodd\" fill-opacity=\"1\" /><path clip-path=\"url(#clip890)\" d=\"M 0 0 M129.293 592.416 L136.931 592.416 L136.931 566.051 L128.621 567.718 L128.621 563.458 L136.885 561.792 L141.561 561.792 L141.561 592.416 L149.2 592.416 L149.2 596.352 L129.293 596.352 L129.293 592.416 Z\" fill=\"#000000\" fill-rule=\"evenodd\" fill-opacity=\"1\" /><path clip-path=\"url(#clip890)\" d=\"M 0 0 M154.316 561.792 L172.672 561.792 L172.672 565.727 L158.598 565.727 L158.598 574.199 Q159.616 573.852 160.635 573.69 Q161.653 573.505 162.672 573.505 Q168.459 573.505 171.839 576.676 Q175.218 579.847 175.218 585.264 Q175.218 590.842 171.746 593.944 Q168.274 597.023 161.954 597.023 Q159.778 597.023 157.51 596.653 Q155.265 596.282 152.857 595.541 L152.857 590.842 Q154.941 591.977 157.163 592.532 Q159.385 593.088 161.862 593.088 Q165.866 593.088 168.204 590.981 Q170.542 588.875 170.542 585.264 Q170.542 581.653 168.204 579.546 Q165.866 577.44 161.862 577.44 Q159.987 577.44 158.112 577.856 Q156.26 578.273 154.316 579.153 L154.316 561.792 Z\" fill=\"#000000\" fill-rule=\"evenodd\" fill-opacity=\"1\" /><path clip-path=\"url(#clip890)\" d=\"M 0 0 M190.288 564.87 Q186.677 564.87 184.848 568.435 Q183.042 571.977 183.042 579.106 Q183.042 586.213 184.848 589.778 Q186.677 593.319 190.288 593.319 Q193.922 593.319 195.727 589.778 Q197.556 586.213 197.556 579.106 Q197.556 571.977 195.727 568.435 Q193.922 564.87 190.288 564.87 M190.288 561.167 Q196.098 561.167 199.153 565.773 Q202.232 570.356 202.232 579.106 Q202.232 587.833 199.153 592.44 Q196.098 597.023 190.288 597.023 Q184.477 597.023 181.399 592.44 Q178.343 587.833 178.343 579.106 Q178.343 570.356 181.399 565.773 Q184.477 561.167 190.288 561.167 Z\" fill=\"#000000\" fill-rule=\"evenodd\" fill-opacity=\"1\" /><path clip-path=\"url(#clip890)\" d=\"M 0 0 M131.885 302.816 L148.204 302.816 L148.204 306.751 L126.26 306.751 L126.26 302.816 Q128.922 300.061 133.505 295.432 Q138.112 290.779 139.292 289.436 Q141.538 286.913 142.417 285.177 Q143.32 283.418 143.32 281.728 Q143.32 278.973 141.376 277.237 Q139.455 275.501 136.353 275.501 Q134.154 275.501 131.7 276.265 Q129.269 277.029 126.492 278.58 L126.492 273.858 Q129.316 272.724 131.769 272.145 Q134.223 271.566 136.26 271.566 Q141.63 271.566 144.825 274.251 Q148.019 276.936 148.019 281.427 Q148.019 283.557 147.209 285.478 Q146.422 287.376 144.316 289.969 Q143.737 290.64 140.635 293.858 Q137.533 297.052 131.885 302.816 Z\" fill=\"#000000\" fill-rule=\"evenodd\" fill-opacity=\"1\" /><path clip-path=\"url(#clip890)\" d=\"M 0 0 M163.274 275.27 Q159.663 275.27 157.834 278.835 Q156.029 282.376 156.029 289.506 Q156.029 296.612 157.834 300.177 Q159.663 303.719 163.274 303.719 Q166.908 303.719 168.714 300.177 Q170.542 296.612 170.542 289.506 Q170.542 282.376 168.714 278.835 Q166.908 275.27 163.274 275.27 M163.274 271.566 Q169.084 271.566 172.14 276.173 Q175.218 280.756 175.218 289.506 Q175.218 298.233 172.14 302.839 Q169.084 307.422 163.274 307.422 Q157.464 307.422 154.385 302.839 Q151.329 298.233 151.329 289.506 Q151.329 280.756 154.385 276.173 Q157.464 271.566 163.274 271.566 Z\" fill=\"#000000\" fill-rule=\"evenodd\" fill-opacity=\"1\" /><path clip-path=\"url(#clip890)\" d=\"M 0 0 M190.288 275.27 Q186.677 275.27 184.848 278.835 Q183.042 282.376 183.042 289.506 Q183.042 296.612 184.848 300.177 Q186.677 303.719 190.288 303.719 Q193.922 303.719 195.727 300.177 Q197.556 296.612 197.556 289.506 Q197.556 282.376 195.727 278.835 Q193.922 275.27 190.288 275.27 M190.288 271.566 Q196.098 271.566 199.153 276.173 Q202.232 280.756 202.232 289.506 Q202.232 298.233 199.153 302.839 Q196.098 307.422 190.288 307.422 Q184.477 307.422 181.399 302.839 Q178.343 298.233 178.343 289.506 Q178.343 280.756 181.399 276.173 Q184.477 271.566 190.288 271.566 Z\" fill=\"#000000\" fill-rule=\"evenodd\" fill-opacity=\"1\" /><path clip-path=\"url(#clip890)\" d=\"M 0 0 M738.915 16.7545 L738.915 25.383 Q734.783 21.5346 730.084 19.6307 Q725.426 17.7268 720.16 17.7268 Q709.789 17.7268 704.28 24.0867 Q698.771 30.4061 698.771 42.3968 Q698.771 54.3469 704.28 60.7069 Q709.789 67.0263 720.16 67.0263 Q725.426 67.0263 730.084 65.1223 Q734.783 63.2184 738.915 59.3701 L738.915 67.9175 Q734.621 70.8341 729.801 72.2924 Q725.021 73.7508 719.673 73.7508 Q705.941 73.7508 698.042 65.3654 Q690.142 56.9395 690.142 42.3968 Q690.142 27.8135 698.042 19.4281 Q705.941 11.0023 719.673 11.0023 Q725.102 11.0023 729.882 12.4606 Q734.702 13.8784 738.915 16.7545 Z\" fill=\"#000000\" fill-rule=\"evenodd\" fill-opacity=\"1\" /><path clip-path=\"url(#clip890)\" d=\"M 0 0 M783.313 14.0809 L783.313 22.0612 Q778.655 19.8332 774.523 18.7395 Q770.391 17.6457 766.542 17.6457 Q759.858 17.6457 756.213 20.2383 Q752.607 22.8309 752.607 27.611 Q752.607 31.6214 754.997 33.6873 Q757.428 35.7128 764.152 36.9686 L769.095 37.9813 Q778.25 39.7232 782.584 44.1387 Q786.959 48.5136 786.959 55.8863 Q786.959 64.6767 781.045 69.2137 Q775.171 73.7508 763.788 73.7508 Q759.494 73.7508 754.633 72.7785 Q749.812 71.8063 744.627 69.9024 L744.627 61.4765 Q749.61 64.2716 754.39 65.6895 Q759.17 67.1073 763.788 67.1073 Q770.796 67.1073 774.604 64.3527 Q778.412 61.598 778.412 56.4939 Q778.412 52.0379 775.657 49.5264 Q772.943 47.0148 766.704 45.759 L761.722 44.7868 Q752.567 42.9639 748.475 39.075 Q744.384 35.1862 744.384 28.2591 Q744.384 20.2383 750.015 15.6203 Q755.686 11.0023 765.611 11.0023 Q769.864 11.0023 774.28 11.7719 Q778.695 12.5416 783.313 14.0809 Z\" fill=\"#000000\" fill-rule=\"evenodd\" fill-opacity=\"1\" /><path clip-path=\"url(#clip890)\" d=\"M 0 0 M810.697 72.576 L787.607 12.096 L796.155 12.096 L815.315 63.0159 L834.517 12.096 L843.024 12.096 L819.974 72.576 L810.697 72.576 Z\" fill=\"#000000\" fill-rule=\"evenodd\" fill-opacity=\"1\" /><path clip-path=\"url(#clip890)\" d=\"M 0 0 M877.213 9.54393 L884.667 9.54393 L884.667 72.576 L877.213 72.576 L877.213 9.54393 Z\" fill=\"#000000\" fill-rule=\"evenodd\" fill-opacity=\"1\" /><path clip-path=\"url(#clip890)\" d=\"M 0 0 M910.066 32.4315 Q904.071 32.4315 900.587 37.1306 Q897.103 41.7891 897.103 49.9314 Q897.103 58.0738 900.546 62.7728 Q904.03 67.4314 910.066 67.4314 Q916.021 67.4314 919.505 62.7323 Q922.988 58.0333 922.988 49.9314 Q922.988 41.8701 919.505 37.1711 Q916.021 32.4315 910.066 32.4315 M910.066 26.1121 Q919.788 26.1121 925.338 32.4315 Q930.888 38.7509 930.888 49.9314 Q930.888 61.0714 925.338 67.4314 Q919.788 73.7508 910.066 73.7508 Q900.303 73.7508 894.754 67.4314 Q889.244 61.0714 889.244 49.9314 Q889.244 38.7509 894.754 32.4315 Q900.303 26.1121 910.066 26.1121 Z\" fill=\"#000000\" fill-rule=\"evenodd\" fill-opacity=\"1\" /><path clip-path=\"url(#clip890)\" d=\"M 0 0 M959.325 49.7694 Q950.291 49.7694 946.808 51.8354 Q943.324 53.9013 943.324 58.8839 Q943.324 62.8538 945.916 65.2034 Q948.55 67.5124 953.046 67.5124 Q959.244 67.5124 962.971 63.1374 Q966.738 58.7219 966.738 51.4303 L966.738 49.7694 L959.325 49.7694 M974.192 46.6907 L974.192 72.576 L966.738 72.576 L966.738 65.6895 Q964.186 69.8214 960.378 71.8063 Q956.57 73.7508 951.061 73.7508 Q944.094 73.7508 939.962 69.8619 Q935.87 65.9325 935.87 59.3701 Q935.87 51.7138 940.974 47.825 Q946.119 43.9361 956.287 43.9361 L966.738 43.9361 L966.738 43.2069 Q966.738 38.0623 963.335 35.2672 Q959.973 32.4315 953.856 32.4315 Q949.967 32.4315 946.281 33.3632 Q942.595 34.295 939.192 36.1584 L939.192 29.2718 Q943.283 27.692 947.132 26.9223 Q950.98 26.1121 954.626 26.1121 Q964.47 26.1121 969.331 31.2163 Q974.192 36.3204 974.192 46.6907 Z\" fill=\"#000000\" fill-rule=\"evenodd\" fill-opacity=\"1\" /><path clip-path=\"url(#clip890)\" d=\"M 0 0 M1011.87 34.0924 L1011.87 9.54393 L1019.32 9.54393 L1019.32 72.576 L1011.87 72.576 L1011.87 65.7705 Q1009.52 69.8214 1005.91 71.8063 Q1002.35 73.7508 997.322 73.7508 Q989.099 73.7508 983.914 67.1883 Q978.769 60.6258 978.769 49.9314 Q978.769 39.2371 983.914 32.6746 Q989.099 26.1121 997.322 26.1121 Q1002.35 26.1121 1005.91 28.0971 Q1009.52 30.0415 1011.87 34.0924 M986.466 49.9314 Q986.466 58.1548 989.828 62.8538 Q993.231 67.5124 999.145 67.5124 Q1005.06 67.5124 1008.46 62.8538 Q1011.87 58.1548 1011.87 49.9314 Q1011.87 41.7081 1008.46 37.0496 Q1005.06 32.3505 999.145 32.3505 Q993.231 32.3505 989.828 37.0496 Q986.466 41.7081 986.466 49.9314 Z\" fill=\"#000000\" fill-rule=\"evenodd\" fill-opacity=\"1\" /><path clip-path=\"url(#clip890)\" d=\"M 0 0 M1027.14 27.2059 L1034.59 27.2059 L1034.59 72.576 L1027.14 72.576 L1027.14 27.2059 M1027.14 9.54393 L1034.59 9.54393 L1034.59 18.9825 L1027.14 18.9825 L1027.14 9.54393 Z\" fill=\"#000000\" fill-rule=\"evenodd\" fill-opacity=\"1\" /><path clip-path=\"url(#clip890)\" d=\"M 0 0 M1080.12 45.1919 L1080.12 72.576 L1072.67 72.576 L1072.67 45.4349 Q1072.67 38.994 1070.16 35.7938 Q1067.65 32.5936 1062.62 32.5936 Q1056.59 32.5936 1053.1 36.4419 Q1049.62 40.2903 1049.62 46.9338 L1049.62 72.576 L1042.13 72.576 L1042.13 27.2059 L1049.62 27.2059 L1049.62 34.2544 Q1052.29 30.163 1055.9 28.1376 Q1059.54 26.1121 1064.28 26.1121 Q1072.1 26.1121 1076.11 30.9732 Q1080.12 35.7938 1080.12 45.1919 Z\" fill=\"#000000\" fill-rule=\"evenodd\" fill-opacity=\"1\" /><path clip-path=\"url(#clip890)\" d=\"M 0 0 M1117.8 49.3643 Q1117.8 41.2625 1114.43 36.8065 Q1111.11 32.3505 1105.08 32.3505 Q1099.08 32.3505 1095.72 36.8065 Q1092.4 41.2625 1092.4 49.3643 Q1092.4 57.4256 1095.72 61.8816 Q1099.08 66.3376 1105.08 66.3376 Q1111.11 66.3376 1114.43 61.8816 Q1117.8 57.4256 1117.8 49.3643 M1125.25 66.9452 Q1125.25 78.5308 1120.11 84.1616 Q1114.96 89.8329 1104.35 89.8329 Q1100.42 89.8329 1096.93 89.2252 Q1093.45 88.6581 1090.17 87.4428 L1090.17 80.1917 Q1093.45 81.9741 1096.65 82.8248 Q1099.85 83.6755 1103.17 83.6755 Q1110.5 83.6755 1114.15 79.8271 Q1117.8 76.0193 1117.8 68.282 L1117.8 64.5957 Q1115.49 68.6061 1111.88 70.5911 Q1108.28 72.576 1103.25 72.576 Q1094.91 72.576 1089.8 66.2161 Q1084.7 59.8562 1084.7 49.3643 Q1084.7 38.832 1089.8 32.472 Q1094.91 26.1121 1103.25 26.1121 Q1108.28 26.1121 1111.88 28.0971 Q1115.49 30.082 1117.8 34.0924 L1117.8 27.2059 L1125.25 27.2059 L1125.25 66.9452 Z\" fill=\"#000000\" fill-rule=\"evenodd\" fill-opacity=\"1\" /><path clip-path=\"url(#clip890)\" d=\"M 0 0 M1155.11 27.2059 L1162.56 27.2059 L1171.88 62.6108 L1181.15 27.2059 L1189.94 27.2059 L1199.26 62.6108 L1208.54 27.2059 L1215.99 27.2059 L1204.12 72.576 L1195.33 72.576 L1185.57 35.3887 L1175.76 72.576 L1166.97 72.576 L1155.11 27.2059 Z\" fill=\"#000000\" fill-rule=\"evenodd\" fill-opacity=\"1\" /><path clip-path=\"url(#clip890)\" d=\"M 0 0 M1223.81 27.2059 L1231.26 27.2059 L1231.26 72.576 L1223.81 72.576 L1223.81 27.2059 M1223.81 9.54393 L1231.26 9.54393 L1231.26 18.9825 L1223.81 18.9825 L1223.81 9.54393 Z\" fill=\"#000000\" fill-rule=\"evenodd\" fill-opacity=\"1\" /><path clip-path=\"url(#clip890)\" d=\"M 0 0 M1246.45 14.324 L1246.45 27.2059 L1261.81 27.2059 L1261.81 32.9987 L1246.45 32.9987 L1246.45 57.6282 Q1246.45 63.1779 1247.95 64.7578 Q1249.49 66.3376 1254.15 66.3376 L1261.81 66.3376 L1261.81 72.576 L1254.15 72.576 Q1245.52 72.576 1242.24 69.3758 Q1238.96 66.1351 1238.96 57.6282 L1238.96 32.9987 L1233.49 32.9987 L1233.49 27.2059 L1238.96 27.2059 L1238.96 14.324 L1246.45 14.324 Z\" fill=\"#000000\" fill-rule=\"evenodd\" fill-opacity=\"1\" /><path clip-path=\"url(#clip890)\" d=\"M 0 0 M1307.34 45.1919 L1307.34 72.576 L1299.88 72.576 L1299.88 45.4349 Q1299.88 38.994 1297.37 35.7938 Q1294.86 32.5936 1289.84 32.5936 Q1283.8 32.5936 1280.32 36.4419 Q1276.83 40.2903 1276.83 46.9338 L1276.83 72.576 L1269.34 72.576 L1269.34 9.54393 L1276.83 9.54393 L1276.83 34.2544 Q1279.51 30.163 1283.11 28.1376 Q1286.76 26.1121 1291.5 26.1121 Q1299.32 26.1121 1303.33 30.9732 Q1307.34 35.7938 1307.34 45.1919 Z\" fill=\"#000000\" fill-rule=\"evenodd\" fill-opacity=\"1\" /><path clip-path=\"url(#clip890)\" d=\"M 0 0 M1376.85 35.9153 Q1379.65 30.8922 1383.54 28.5022 Q1387.42 26.1121 1392.69 26.1121 Q1399.78 26.1121 1403.63 31.0947 Q1407.48 36.0368 1407.48 45.1919 L1407.48 72.576 L1399.98 72.576 L1399.98 45.4349 Q1399.98 38.913 1397.67 35.7533 Q1395.36 32.5936 1390.62 32.5936 Q1384.83 32.5936 1381.47 36.4419 Q1378.11 40.2903 1378.11 46.9338 L1378.11 72.576 L1370.61 72.576 L1370.61 45.4349 Q1370.61 38.8725 1368.3 35.7533 Q1366 32.5936 1361.17 32.5936 Q1355.46 32.5936 1352.1 36.4824 Q1348.74 40.3308 1348.74 46.9338 L1348.74 72.576 L1341.24 72.576 L1341.24 27.2059 L1348.74 27.2059 L1348.74 34.2544 Q1351.29 30.082 1354.86 28.0971 Q1358.42 26.1121 1363.32 26.1121 Q1368.26 26.1121 1371.71 28.6237 Q1375.19 31.1352 1376.85 35.9153 Z\" fill=\"#000000\" fill-rule=\"evenodd\" fill-opacity=\"1\" /><path clip-path=\"url(#clip890)\" d=\"M 0 0 M1414.53 54.671 L1414.53 27.2059 L1421.98 27.2059 L1421.98 54.3874 Q1421.98 60.8284 1424.49 64.0691 Q1427 67.2693 1432.03 67.2693 Q1438.06 67.2693 1441.54 63.421 Q1445.07 59.5726 1445.07 52.9291 L1445.07 27.2059 L1452.52 27.2059 L1452.52 72.576 L1445.07 72.576 L1445.07 65.6084 Q1442.35 69.7404 1438.75 71.7658 Q1435.18 73.7508 1430.45 73.7508 Q1422.63 73.7508 1418.58 68.8897 Q1414.53 64.0286 1414.53 54.671 M1433.28 26.1121 L1433.28 26.1121 Z\" fill=\"#000000\" fill-rule=\"evenodd\" fill-opacity=\"1\" /><path clip-path=\"url(#clip890)\" d=\"M 0 0 M1460.34 9.54393 L1467.79 9.54393 L1467.79 72.576 L1460.34 72.576 L1460.34 9.54393 Z\" fill=\"#000000\" fill-rule=\"evenodd\" fill-opacity=\"1\" /><path clip-path=\"url(#clip890)\" d=\"M 0 0 M1482.99 14.324 L1482.99 27.2059 L1498.34 27.2059 L1498.34 32.9987 L1482.99 32.9987 L1482.99 57.6282 Q1482.99 63.1779 1484.48 64.7578 Q1486.02 66.3376 1490.68 66.3376 L1498.34 66.3376 L1498.34 72.576 L1490.68 72.576 Q1482.05 72.576 1478.77 69.3758 Q1475.49 66.1351 1475.49 57.6282 L1475.49 32.9987 L1470.02 32.9987 L1470.02 27.2059 L1475.49 27.2059 L1475.49 14.324 L1482.99 14.324 Z\" fill=\"#000000\" fill-rule=\"evenodd\" fill-opacity=\"1\" /><path clip-path=\"url(#clip890)\" d=\"M 0 0 M1506.16 27.2059 L1513.61 27.2059 L1513.61 72.576 L1506.16 72.576 L1506.16 27.2059 M1506.16 9.54393 L1513.61 9.54393 L1513.61 18.9825 L1506.16 18.9825 L1506.16 9.54393 Z\" fill=\"#000000\" fill-rule=\"evenodd\" fill-opacity=\"1\" /><path clip-path=\"url(#clip890)\" d=\"M 0 0 M1517.66 46.5287 L1539.5 46.5287 L1539.5 53.1722 L1517.66 53.1722 L1517.66 46.5287 Z\" fill=\"#000000\" fill-rule=\"evenodd\" fill-opacity=\"1\" /><path clip-path=\"url(#clip890)\" d=\"M 0 0 M1554.69 14.324 L1554.69 27.2059 L1570.04 27.2059 L1570.04 32.9987 L1554.69 32.9987 L1554.69 57.6282 Q1554.69 63.1779 1556.19 64.7578 Q1557.72 66.3376 1562.38 66.3376 L1570.04 66.3376 L1570.04 72.576 L1562.38 72.576 Q1553.75 72.576 1550.47 69.3758 Q1547.19 66.1351 1547.19 57.6282 L1547.19 32.9987 L1541.72 32.9987 L1541.72 27.2059 L1547.19 27.2059 L1547.19 14.324 L1554.69 14.324 Z\" fill=\"#000000\" fill-rule=\"evenodd\" fill-opacity=\"1\" /><path clip-path=\"url(#clip890)\" d=\"M 0 0 M1615.57 45.1919 L1615.57 72.576 L1608.12 72.576 L1608.12 45.4349 Q1608.12 38.994 1605.61 35.7938 Q1603.09 32.5936 1598.07 32.5936 Q1592.04 32.5936 1588.55 36.4419 Q1585.07 40.2903 1585.07 46.9338 L1585.07 72.576 L1577.57 72.576 L1577.57 9.54393 L1585.07 9.54393 L1585.07 34.2544 Q1587.74 30.163 1591.35 28.1376 Q1594.99 26.1121 1599.73 26.1121 Q1607.55 26.1121 1611.56 30.9732 Q1615.57 35.7938 1615.57 45.1919 Z\" fill=\"#000000\" fill-rule=\"evenodd\" fill-opacity=\"1\" /><path clip-path=\"url(#clip890)\" d=\"M 0 0 M1649.68 34.1734 Q1648.42 33.4443 1646.93 33.1202 Q1645.47 32.7556 1643.68 32.7556 Q1637.37 32.7556 1633.96 36.8875 Q1630.6 40.9789 1630.6 48.6757 L1630.6 72.576 L1623.11 72.576 L1623.11 27.2059 L1630.6 27.2059 L1630.6 34.2544 Q1632.95 30.1225 1636.72 28.1376 Q1640.48 26.1121 1645.87 26.1121 Q1646.64 26.1121 1647.57 26.2337 Q1648.51 26.3147 1649.64 26.5172 L1649.68 34.1734 Z\" fill=\"#000000\" fill-rule=\"evenodd\" fill-opacity=\"1\" /><path clip-path=\"url(#clip890)\" d=\"M 0 0 M1694.48 48.0275 L1694.48 51.6733 L1660.21 51.6733 Q1660.7 59.3701 1664.83 63.421 Q1669 67.4314 1676.42 67.4314 Q1680.71 67.4314 1684.72 66.3781 Q1688.77 65.3249 1692.74 63.2184 L1692.74 70.267 Q1688.73 71.9684 1684.52 72.8596 Q1680.3 73.7508 1675.97 73.7508 Q1665.11 73.7508 1658.75 67.4314 Q1652.43 61.1119 1652.43 50.3365 Q1652.43 39.1965 1658.43 32.6746 Q1664.47 26.1121 1674.67 26.1121 Q1683.83 26.1121 1689.14 32.0264 Q1694.48 37.9003 1694.48 48.0275 M1687.03 45.84 Q1686.95 39.7232 1683.59 36.0774 Q1680.26 32.4315 1674.76 32.4315 Q1668.52 32.4315 1664.75 35.9558 Q1661.02 39.4801 1660.46 45.8805 L1687.03 45.84 Z\" fill=\"#000000\" fill-rule=\"evenodd\" fill-opacity=\"1\" /><path clip-path=\"url(#clip890)\" d=\"M 0 0 M1722.92 49.7694 Q1713.89 49.7694 1710.4 51.8354 Q1706.92 53.9013 1706.92 58.8839 Q1706.92 62.8538 1709.51 65.2034 Q1712.15 67.5124 1716.64 67.5124 Q1722.84 67.5124 1726.57 63.1374 Q1730.33 58.7219 1730.33 51.4303 L1730.33 49.7694 L1722.92 49.7694 M1737.79 46.6907 L1737.79 72.576 L1730.33 72.576 L1730.33 65.6895 Q1727.78 69.8214 1723.97 71.8063 Q1720.17 73.7508 1714.66 73.7508 Q1707.69 73.7508 1703.56 69.8619 Q1699.47 65.9325 1699.47 59.3701 Q1699.47 51.7138 1704.57 47.825 Q1709.71 43.9361 1719.88 43.9361 L1730.33 43.9361 L1730.33 43.2069 Q1730.33 38.0623 1726.93 35.2672 Q1723.57 32.4315 1717.45 32.4315 Q1713.56 32.4315 1709.88 33.3632 Q1706.19 34.295 1702.79 36.1584 L1702.79 29.2718 Q1706.88 27.692 1710.73 26.9223 Q1714.58 26.1121 1718.22 26.1121 Q1728.07 26.1121 1732.93 31.2163 Q1737.79 36.3204 1737.79 46.6907 Z\" fill=\"#000000\" fill-rule=\"evenodd\" fill-opacity=\"1\" /><path clip-path=\"url(#clip890)\" d=\"M 0 0 M1775.46 34.0924 L1775.46 9.54393 L1782.91 9.54393 L1782.91 72.576 L1775.46 72.576 L1775.46 65.7705 Q1773.11 69.8214 1769.51 71.8063 Q1765.94 73.7508 1760.92 73.7508 Q1752.69 73.7508 1747.51 67.1883 Q1742.36 60.6258 1742.36 49.9314 Q1742.36 39.2371 1747.51 32.6746 Q1752.69 26.1121 1760.92 26.1121 Q1765.94 26.1121 1769.51 28.0971 Q1773.11 30.0415 1775.46 34.0924 M1750.06 49.9314 Q1750.06 58.1548 1753.42 62.8538 Q1756.83 67.5124 1762.74 67.5124 Q1768.66 67.5124 1772.06 62.8538 Q1775.46 58.1548 1775.46 49.9314 Q1775.46 41.7081 1772.06 37.0496 Q1768.66 32.3505 1762.74 32.3505 Q1756.83 32.3505 1753.42 37.0496 Q1750.06 41.7081 1750.06 49.9314 Z\" fill=\"#000000\" fill-rule=\"evenodd\" fill-opacity=\"1\" /><path clip-path=\"url(#clip890)\" d=\"M 0 0 M1790.73 27.2059 L1798.19 27.2059 L1798.19 72.576 L1790.73 72.576 L1790.73 27.2059 M1790.73 9.54393 L1798.19 9.54393 L1798.19 18.9825 L1790.73 18.9825 L1790.73 9.54393 Z\" fill=\"#000000\" fill-rule=\"evenodd\" fill-opacity=\"1\" /><path clip-path=\"url(#clip890)\" d=\"M 0 0 M1843.72 45.1919 L1843.72 72.576 L1836.26 72.576 L1836.26 45.4349 Q1836.26 38.994 1833.75 35.7938 Q1831.24 32.5936 1826.22 32.5936 Q1820.18 32.5936 1816.7 36.4419 Q1813.22 40.2903 1813.22 46.9338 L1813.22 72.576 L1805.72 72.576 L1805.72 27.2059 L1813.22 27.2059 L1813.22 34.2544 Q1815.89 30.163 1819.49 28.1376 Q1823.14 26.1121 1827.88 26.1121 Q1835.7 26.1121 1839.71 30.9732 Q1843.72 35.7938 1843.72 45.1919 Z\" fill=\"#000000\" fill-rule=\"evenodd\" fill-opacity=\"1\" /><path clip-path=\"url(#clip890)\" d=\"M 0 0 M1881.39 49.3643 Q1881.39 41.2625 1878.03 36.8065 Q1874.71 32.3505 1868.67 32.3505 Q1862.68 32.3505 1859.31 36.8065 Q1855.99 41.2625 1855.99 49.3643 Q1855.99 57.4256 1859.31 61.8816 Q1862.68 66.3376 1868.67 66.3376 Q1874.71 66.3376 1878.03 61.8816 Q1881.39 57.4256 1881.39 49.3643 M1888.85 66.9452 Q1888.85 78.5308 1883.7 84.1616 Q1878.56 89.8329 1867.94 89.8329 Q1864.01 89.8329 1860.53 89.2252 Q1857.05 88.6581 1853.76 87.4428 L1853.76 80.1917 Q1857.05 81.9741 1860.25 82.8248 Q1863.45 83.6755 1866.77 83.6755 Q1874.1 83.6755 1877.75 79.8271 Q1881.39 76.0193 1881.39 68.282 L1881.39 64.5957 Q1879.08 68.6061 1875.48 70.5911 Q1871.87 72.576 1866.85 72.576 Q1858.5 72.576 1853.4 66.2161 Q1848.3 59.8562 1848.3 49.3643 Q1848.3 38.832 1853.4 32.472 Q1858.5 26.1121 1866.85 26.1121 Q1871.87 26.1121 1875.48 28.0971 Q1879.08 30.082 1881.39 34.0924 L1881.39 27.2059 L1888.85 27.2059 L1888.85 66.9452 Z\" fill=\"#000000\" fill-rule=\"evenodd\" fill-opacity=\"1\" /><path clip-path=\"url(#clip890)\" d=\"M 0 0 M59.1993 945.769 Q55.2526 943.573 53.3747 940.518 Q51.4968 937.462 51.4968 933.324 Q51.4968 927.754 55.4117 924.731 Q59.2948 921.707 66.4881 921.707 L88.0042 921.707 L88.0042 927.595 L66.679 927.595 Q61.5546 927.595 59.072 929.41 Q56.5894 931.224 56.5894 934.948 Q56.5894 939.499 59.6131 942.141 Q62.6368 944.783 67.8567 944.783 L88.0042 944.783 L88.0042 950.671 L66.679 950.671 Q61.5228 950.671 59.072 952.485 Q56.5894 954.299 56.5894 958.087 Q56.5894 962.575 59.6449 965.217 Q62.6686 967.858 67.8567 967.858 L88.0042 967.858 L88.0042 973.747 L52.3562 973.747 L52.3562 967.858 L57.8944 967.858 Q54.616 965.853 53.0564 963.052 Q51.4968 960.251 51.4968 956.4 Q51.4968 952.517 53.4702 949.812 Q55.4436 947.074 59.1993 945.769 Z\" fill=\"#000000\" fill-rule=\"evenodd\" fill-opacity=\"1\" /><path clip-path=\"url(#clip890)\" d=\"M 0 0 M52.3562 915.564 L52.3562 909.708 L88.0042 909.708 L88.0042 915.564 L52.3562 915.564 M38.479 915.564 L38.479 909.708 L45.895 909.708 L45.895 915.564 L38.479 915.564 Z\" fill=\"#000000\" fill-rule=\"evenodd\" fill-opacity=\"1\" /><path clip-path=\"url(#clip890)\" d=\"M 0 0 M38.479 903.565 L38.479 897.708 L88.0042 897.708 L88.0042 903.565 L38.479 903.565 Z\" fill=\"#000000\" fill-rule=\"evenodd\" fill-opacity=\"1\" /><path clip-path=\"url(#clip890)\" d=\"M 0 0 M38.479 891.565 L38.479 885.709 L88.0042 885.709 L88.0042 891.565 L38.479 891.565 Z\" fill=\"#000000\" fill-rule=\"evenodd\" fill-opacity=\"1\" /><path clip-path=\"url(#clip890)\" d=\"M 0 0 M52.3562 879.566 L52.3562 873.71 L88.0042 873.71 L88.0042 879.566 L52.3562 879.566 M38.479 879.566 L38.479 873.71 L45.895 873.71 L45.895 879.566 L38.479 879.566 Z\" fill=\"#000000\" fill-rule=\"evenodd\" fill-opacity=\"1\" /><path clip-path=\"url(#clip890)\" d=\"M 0 0 M53.4065 844.841 L58.9447 844.841 Q57.6716 847.324 57.035 849.997 Q56.3984 852.671 56.3984 855.536 Q56.3984 859.896 57.7352 862.092 Q59.072 864.257 61.7456 864.257 Q63.7826 864.257 64.9603 862.697 Q66.1061 861.137 67.1565 856.427 L67.6021 854.422 Q68.9389 848.183 71.3897 845.573 Q73.8086 842.931 78.1691 842.931 Q83.1344 842.931 86.0308 846.878 Q88.9272 850.793 88.9272 857.668 Q88.9272 860.533 88.3543 863.652 Q87.8132 866.739 86.6992 870.177 L80.6518 870.177 Q82.3387 866.93 83.198 863.779 Q84.0256 860.628 84.0256 857.541 Q84.0256 853.403 82.6251 851.175 Q81.1929 848.947 78.6147 848.947 Q76.2276 848.947 74.9545 850.57 Q73.6813 852.162 72.5037 857.604 L72.0262 859.641 Q70.8804 865.084 68.5251 867.503 Q66.138 869.922 62.0002 869.922 Q56.9713 869.922 54.2341 866.357 Q51.4968 862.792 51.4968 856.236 Q51.4968 852.989 51.9743 850.125 Q52.4517 847.26 53.4065 844.841 Z\" fill=\"#000000\" fill-rule=\"evenodd\" fill-opacity=\"1\" /><path clip-path=\"url(#clip890)\" d=\"M 0 0 M68.7161 806.297 L71.5806 806.297 L71.5806 833.224 Q77.6281 832.842 80.8109 829.595 Q83.9619 826.317 83.9619 820.492 Q83.9619 817.118 83.1344 813.967 Q82.3069 810.785 80.6518 807.665 L86.1899 807.665 Q87.5267 810.816 88.227 814.127 Q88.9272 817.437 88.9272 820.842 Q88.9272 829.372 83.9619 834.37 Q78.9967 839.335 70.5303 839.335 Q61.7774 839.335 56.6531 834.624 Q51.4968 829.882 51.4968 821.861 Q51.4968 814.668 56.1438 810.498 Q60.7589 806.297 68.7161 806.297 M66.9973 812.153 Q62.1912 812.217 59.3266 814.859 Q56.4621 817.469 56.4621 821.797 Q56.4621 826.699 59.2312 829.659 Q62.0002 832.587 67.0292 833.033 L66.9973 812.153 Z\" fill=\"#000000\" fill-rule=\"evenodd\" fill-opacity=\"1\" /><path clip-path=\"url(#clip890)\" d=\"M 0 0 M53.7248 774.5 L59.1993 774.5 Q57.8307 776.983 57.1623 779.497 Q56.4621 781.98 56.4621 784.526 Q56.4621 790.223 60.0905 793.374 Q63.6872 796.525 70.212 796.525 Q76.7369 796.525 80.3653 793.374 Q83.9619 790.223 83.9619 784.526 Q83.9619 781.98 83.2935 779.497 Q82.5933 776.983 81.2247 774.5 L86.6355 774.5 Q87.7814 776.951 88.3543 779.593 Q88.9272 782.203 88.9272 785.163 Q88.9272 793.215 83.8664 797.958 Q78.8057 802.7 70.212 802.7 Q61.491 802.7 56.4939 797.926 Q51.4968 793.12 51.4968 784.781 Q51.4968 782.075 52.0697 779.497 Q52.6108 776.919 53.7248 774.5 Z\" fill=\"#000000\" fill-rule=\"evenodd\" fill-opacity=\"1\" /><path clip-path=\"url(#clip890)\" d=\"M 0 0 M56.4621 754.544 Q56.4621 759.254 60.1542 761.991 Q63.8145 764.729 70.212 764.729 Q76.6095 764.729 80.3017 762.023 Q83.9619 759.286 83.9619 754.544 Q83.9619 749.865 80.2698 747.128 Q76.5777 744.39 70.212 744.39 Q63.8781 744.39 60.186 747.128 Q56.4621 749.865 56.4621 754.544 M51.4968 754.544 Q51.4968 746.905 56.4621 742.544 Q61.4273 738.184 70.212 738.184 Q78.9649 738.184 83.9619 742.544 Q88.9272 746.905 88.9272 754.544 Q88.9272 762.214 83.9619 766.575 Q78.9649 770.903 70.212 770.903 Q61.4273 770.903 56.4621 766.575 Q51.4968 762.214 51.4968 754.544 Z\" fill=\"#000000\" fill-rule=\"evenodd\" fill-opacity=\"1\" /><path clip-path=\"url(#clip890)\" d=\"M 0 0 M66.4881 702.408 L88.0042 702.408 L88.0042 708.265 L66.679 708.265 Q61.6183 708.265 59.1038 710.238 Q56.5894 712.212 56.5894 716.158 Q56.5894 720.901 59.6131 723.638 Q62.6368 726.375 67.8567 726.375 L88.0042 726.375 L88.0042 732.264 L52.3562 732.264 L52.3562 726.375 L57.8944 726.375 Q54.6797 724.275 53.0883 721.442 Q51.4968 718.577 51.4968 714.853 Q51.4968 708.711 55.3163 705.559 Q59.1038 702.408 66.4881 702.408 Z\" fill=\"#000000\" fill-rule=\"evenodd\" fill-opacity=\"1\" /><path clip-path=\"url(#clip890)\" d=\"M 0 0 M57.7671 672.808 L38.479 672.808 L38.479 666.951 L88.0042 666.951 L88.0042 672.808 L82.657 672.808 Q85.8398 674.654 87.3994 677.487 Q88.9272 680.288 88.9272 684.234 Q88.9272 690.696 83.771 694.77 Q78.6147 698.812 70.212 698.812 Q61.8093 698.812 56.6531 694.77 Q51.4968 690.696 51.4968 684.234 Q51.4968 680.288 53.0564 677.487 Q54.5842 674.654 57.7671 672.808 M70.212 692.764 Q76.6732 692.764 80.3653 690.123 Q84.0256 687.449 84.0256 682.802 Q84.0256 678.155 80.3653 675.482 Q76.6732 672.808 70.212 672.808 Q63.7508 672.808 60.0905 675.482 Q56.3984 678.155 56.3984 682.802 Q56.3984 687.449 60.0905 690.123 Q63.7508 692.764 70.212 692.764 Z\" fill=\"#000000\" fill-rule=\"evenodd\" fill-opacity=\"1\" /><path clip-path=\"url(#clip890)\" d=\"M 0 0 M53.4065 638.083 L58.9447 638.083 Q57.6716 640.566 57.035 643.239 Q56.3984 645.913 56.3984 648.777 Q56.3984 653.138 57.7352 655.334 Q59.072 657.498 61.7456 657.498 Q63.7826 657.498 64.9603 655.939 Q66.1061 654.379 67.1565 649.669 L67.6021 647.663 Q68.9389 641.425 71.3897 638.815 Q73.8086 636.173 78.1691 636.173 Q83.1344 636.173 86.0308 640.12 Q88.9272 644.035 88.9272 650.91 Q88.9272 653.774 88.3543 656.894 Q87.8132 659.981 86.6992 663.419 L80.6518 663.419 Q82.3387 660.172 83.198 657.021 Q84.0256 653.87 84.0256 650.783 Q84.0256 646.645 82.6251 644.417 Q81.1929 642.189 78.6147 642.189 Q76.2276 642.189 74.9545 643.812 Q73.6813 645.404 72.5037 650.846 L72.0262 652.883 Q70.8804 658.326 68.5251 660.745 Q66.138 663.164 62.0002 663.164 Q56.9713 663.164 54.2341 659.599 Q51.4968 656.034 51.4968 649.478 Q51.4968 646.231 51.9743 643.367 Q52.4517 640.502 53.4065 638.083 Z\" fill=\"#000000\" fill-rule=\"evenodd\" fill-opacity=\"1\" /><path clip-path=\"url(#clip892)\" d=\"\n",
       "M327.053 590.656 L327.053 1447.87 L612.221 1447.87 L612.221 590.656 L327.053 590.656 L327.053 590.656  Z\n",
       "  \" fill=\"#912cee\" fill-rule=\"evenodd\" fill-opacity=\"1\"/>\n",
       "<polyline clip-path=\"url(#clip892)\" style=\"stroke:#000000; stroke-width:4; stroke-opacity:1; fill:none\" points=\"\n",
       "  327.053,590.656 327.053,1447.87 612.221,1447.87 612.221,590.656 327.053,590.656 \n",
       "  \"/>\n",
       "<path clip-path=\"url(#clip892)\" d=\"\n",
       "M1396.43 1239.36 L1396.43 1447.87 L1681.6 1447.87 L1681.6 1239.36 L1396.43 1239.36 L1396.43 1239.36  Z\n",
       "  \" fill=\"#912cee\" fill-rule=\"evenodd\" fill-opacity=\"1\"/>\n",
       "<polyline clip-path=\"url(#clip892)\" style=\"stroke:#000000; stroke-width:4; stroke-opacity:1; fill:none\" points=\"\n",
       "  1396.43,1239.36 1396.43,1447.87 1681.6,1447.87 1681.6,1239.36 1396.43,1239.36 \n",
       "  \"/>\n",
       "<path clip-path=\"url(#clip892)\" d=\"\n",
       "M612.221 162.047 L612.221 1447.87 L897.388 1447.87 L897.388 162.047 L612.221 162.047 L612.221 162.047  Z\n",
       "  \" fill=\"#b3b3b3\" fill-rule=\"evenodd\" fill-opacity=\"1\"/>\n",
       "<polyline clip-path=\"url(#clip892)\" style=\"stroke:#000000; stroke-width:4; stroke-opacity:1; fill:none\" points=\"\n",
       "  612.221,162.047 612.221,1447.87 897.388,1447.87 897.388,162.047 612.221,162.047 \n",
       "  \"/>\n",
       "<path clip-path=\"url(#clip892)\" d=\"\n",
       "M1681.6 162.047 L1681.6 1447.87 L1966.77 1447.87 L1966.77 162.047 L1681.6 162.047 L1681.6 162.047  Z\n",
       "  \" fill=\"#b3b3b3\" fill-rule=\"evenodd\" fill-opacity=\"1\"/>\n",
       "<polyline clip-path=\"url(#clip892)\" style=\"stroke:#000000; stroke-width:4; stroke-opacity:1; fill:none\" points=\"\n",
       "  1681.6,162.047 1681.6,1447.87 1966.77,1447.87 1966.77,162.047 1681.6,162.047 \n",
       "  \"/>\n",
       "<path clip-path=\"url(#clip892)\" d=\"\n",
       "M897.388 857.088 L897.388 1447.87 L1182.56 1447.87 L1182.56 857.088 L897.388 857.088 L897.388 857.088  Z\n",
       "  \" fill=\"#00b2ee\" fill-rule=\"evenodd\" fill-opacity=\"1\"/>\n",
       "<polyline clip-path=\"url(#clip892)\" style=\"stroke:#000000; stroke-width:4; stroke-opacity:1; fill:none\" points=\"\n",
       "  897.388,857.088 897.388,1447.87 1182.56,1447.87 1182.56,857.088 897.388,857.088 \n",
       "  \"/>\n",
       "<path clip-path=\"url(#clip892)\" d=\"\n",
       "M1966.77 1158.27 L1966.77 1447.87 L2251.93 1447.87 L2251.93 1158.27 L1966.77 1158.27 L1966.77 1158.27  Z\n",
       "  \" fill=\"#00b2ee\" fill-rule=\"evenodd\" fill-opacity=\"1\"/>\n",
       "<polyline clip-path=\"url(#clip892)\" style=\"stroke:#000000; stroke-width:4; stroke-opacity:1; fill:none\" points=\"\n",
       "  1966.77,1158.27 1966.77,1447.87 2251.93,1447.87 2251.93,1158.27 1966.77,1158.27 \n",
       "  \"/>\n",
       "<path clip-path=\"url(#clip890)\" d=\"\n",
       "M1895.9 448.912 L2280.76 448.912 L2280.76 206.992 L1895.9 206.992  Z\n",
       "  \" fill=\"#ffffff\" fill-rule=\"evenodd\" fill-opacity=\"1\"/>\n",
       "<polyline clip-path=\"url(#clip890)\" style=\"stroke:#000000; stroke-width:4; stroke-opacity:1; fill:none\" points=\"\n",
       "  1895.9,448.912 2280.76,448.912 2280.76,206.992 1895.9,206.992 1895.9,448.912 \n",
       "  \"/>\n",
       "<path clip-path=\"url(#clip890)\" d=\"\n",
       "M1919.9 291.664 L2063.9 291.664 L2063.9 243.28 L1919.9 243.28 L1919.9 291.664  Z\n",
       "  \" fill=\"#912cee\" fill-rule=\"evenodd\" fill-opacity=\"1\"/>\n",
       "<polyline clip-path=\"url(#clip890)\" style=\"stroke:#000000; stroke-width:4; stroke-opacity:1; fill:none\" points=\"\n",
       "  1919.9,291.664 2063.9,291.664 2063.9,243.28 1919.9,243.28 1919.9,291.664 \n",
       "  \"/>\n",
       "<path clip-path=\"url(#clip890)\" d=\"M 0 0 M2095 250.192 L2099.68 250.192 L2099.68 282.345 Q2099.68 288.595 2097.29 291.419 Q2094.93 294.243 2089.68 294.243 L2087.9 294.243 L2087.9 290.308 L2089.35 290.308 Q2092.46 290.308 2093.73 288.572 Q2095 286.835 2095 282.345 L2095 250.192 Z\" fill=\"#000000\" fill-rule=\"evenodd\" fill-opacity=\"1\" /><path clip-path=\"url(#clip890)\" d=\"M 0 0 M2103.71 274.521 L2103.71 258.826 L2107.96 258.826 L2107.96 274.359 Q2107.96 278.039 2109.4 279.891 Q2110.84 281.72 2113.71 281.72 Q2117.15 281.72 2119.15 279.521 Q2121.16 277.322 2121.16 273.525 L2121.16 258.826 L2125.42 258.826 L2125.42 284.752 L2121.16 284.752 L2121.16 280.771 Q2119.61 283.132 2117.55 284.289 Q2115.51 285.423 2112.8 285.423 Q2108.34 285.423 2106.02 282.646 Q2103.71 279.868 2103.71 274.521 M2114.42 258.201 L2114.42 258.201 Z\" fill=\"#000000\" fill-rule=\"evenodd\" fill-opacity=\"1\" /><path clip-path=\"url(#clip890)\" d=\"M 0 0 M2129.89 248.734 L2134.15 248.734 L2134.15 284.752 L2129.89 284.752 L2129.89 248.734 Z\" fill=\"#000000\" fill-rule=\"evenodd\" fill-opacity=\"1\" /><path clip-path=\"url(#clip890)\" d=\"M 0 0 M2138.61 258.826 L2142.87 258.826 L2142.87 284.752 L2138.61 284.752 L2138.61 258.826 M2138.61 248.734 L2142.87 248.734 L2142.87 254.127 L2138.61 254.127 L2138.61 248.734 Z\" fill=\"#000000\" fill-rule=\"evenodd\" fill-opacity=\"1\" /><path clip-path=\"url(#clip890)\" d=\"M 0 0 M2159.12 271.72 Q2153.96 271.72 2151.97 272.9 Q2149.98 274.081 2149.98 276.928 Q2149.98 279.197 2151.46 280.539 Q2152.96 281.859 2155.53 281.859 Q2159.08 281.859 2161.21 279.359 Q2163.36 276.836 2163.36 272.669 L2163.36 271.72 L2159.12 271.72 M2167.62 269.961 L2167.62 284.752 L2163.36 284.752 L2163.36 280.817 Q2161.9 283.178 2159.72 284.312 Q2157.55 285.423 2154.4 285.423 Q2150.42 285.423 2148.06 283.201 Q2145.72 280.956 2145.72 277.206 Q2145.72 272.831 2148.64 270.609 Q2151.58 268.386 2157.39 268.386 L2163.36 268.386 L2163.36 267.97 Q2163.36 265.03 2161.41 263.433 Q2159.49 261.812 2156 261.812 Q2153.77 261.812 2151.67 262.345 Q2149.56 262.877 2147.62 263.942 L2147.62 260.007 Q2149.96 259.104 2152.15 258.664 Q2154.35 258.201 2156.44 258.201 Q2162.06 258.201 2164.84 261.118 Q2167.62 264.035 2167.62 269.961 Z\" fill=\"#000000\" fill-rule=\"evenodd\" fill-opacity=\"1\" /><path clip-path=\"url(#clip890)\" d=\"\n",
       "M1919.9 352.144 L2063.9 352.144 L2063.9 303.76 L1919.9 303.76 L1919.9 352.144  Z\n",
       "  \" fill=\"#b3b3b3\" fill-rule=\"evenodd\" fill-opacity=\"1\"/>\n",
       "<polyline clip-path=\"url(#clip890)\" style=\"stroke:#000000; stroke-width:4; stroke-opacity:1; fill:none\" points=\"\n",
       "  1919.9,352.144 2063.9,352.144 2063.9,303.76 1919.9,303.76 1919.9,352.144 \n",
       "  \"/>\n",
       "<path clip-path=\"url(#clip890)\" d=\"M 0 0 M2092.57 314.515 L2092.57 327.501 L2098.45 327.501 Q2101.71 327.501 2103.5 325.811 Q2105.28 324.121 2105.28 320.996 Q2105.28 317.894 2103.5 316.205 Q2101.71 314.515 2098.45 314.515 L2092.57 314.515 M2087.9 310.672 L2098.45 310.672 Q2104.26 310.672 2107.22 313.311 Q2110.21 315.927 2110.21 320.996 Q2110.21 326.112 2107.22 328.728 Q2104.26 331.343 2098.45 331.343 L2092.57 331.343 L2092.57 345.232 L2087.9 345.232 L2087.9 310.672 Z\" fill=\"#000000\" fill-rule=\"evenodd\" fill-opacity=\"1\" /><path clip-path=\"url(#clip890)\" d=\"M 0 0 M2125.46 347.64 Q2123.66 352.269 2121.95 353.681 Q2120.23 355.093 2117.36 355.093 L2113.96 355.093 L2113.96 351.528 L2116.46 351.528 Q2118.22 351.528 2119.19 350.695 Q2120.16 349.862 2121.34 346.76 L2122.11 344.815 L2111.62 319.306 L2116.14 319.306 L2124.24 339.584 L2132.34 319.306 L2136.85 319.306 L2125.46 347.64 Z\" fill=\"#000000\" fill-rule=\"evenodd\" fill-opacity=\"1\" /><path clip-path=\"url(#clip890)\" d=\"M 0 0 M2145.53 311.945 L2145.53 319.306 L2154.31 319.306 L2154.31 322.617 L2145.53 322.617 L2145.53 336.691 Q2145.53 339.862 2146.39 340.765 Q2147.27 341.667 2149.93 341.667 L2154.31 341.667 L2154.31 345.232 L2149.93 345.232 Q2145 345.232 2143.13 343.403 Q2141.25 341.552 2141.25 336.691 L2141.25 322.617 L2138.13 322.617 L2138.13 319.306 L2141.25 319.306 L2141.25 311.945 L2145.53 311.945 Z\" fill=\"#000000\" fill-rule=\"evenodd\" fill-opacity=\"1\" /><path clip-path=\"url(#clip890)\" d=\"M 0 0 M2180.33 329.584 L2180.33 345.232 L2176.07 345.232 L2176.07 329.723 Q2176.07 326.042 2174.63 324.214 Q2173.2 322.385 2170.33 322.385 Q2166.88 322.385 2164.89 324.584 Q2162.9 326.783 2162.9 330.579 L2162.9 345.232 L2158.61 345.232 L2158.61 309.214 L2162.9 309.214 L2162.9 323.334 Q2164.42 320.996 2166.48 319.839 Q2168.57 318.681 2171.27 318.681 Q2175.74 318.681 2178.03 321.459 Q2180.33 324.214 2180.33 329.584 Z\" fill=\"#000000\" fill-rule=\"evenodd\" fill-opacity=\"1\" /><path clip-path=\"url(#clip890)\" d=\"M 0 0 M2194.84 322.292 Q2191.41 322.292 2189.42 324.978 Q2187.43 327.64 2187.43 332.292 Q2187.43 336.945 2189.4 339.63 Q2191.39 342.292 2194.84 342.292 Q2198.24 342.292 2200.23 339.607 Q2202.22 336.922 2202.22 332.292 Q2202.22 327.686 2200.23 325.001 Q2198.24 322.292 2194.84 322.292 M2194.84 318.681 Q2200.39 318.681 2203.57 322.292 Q2206.74 325.904 2206.74 332.292 Q2206.74 338.658 2203.57 342.292 Q2200.39 345.903 2194.84 345.903 Q2189.26 345.903 2186.09 342.292 Q2182.94 338.658 2182.94 332.292 Q2182.94 325.904 2186.09 322.292 Q2189.26 318.681 2194.84 318.681 Z\" fill=\"#000000\" fill-rule=\"evenodd\" fill-opacity=\"1\" /><path clip-path=\"url(#clip890)\" d=\"M 0 0 M2232.76 329.584 L2232.76 345.232 L2228.5 345.232 L2228.5 329.723 Q2228.5 326.042 2227.06 324.214 Q2225.63 322.385 2222.76 322.385 Q2219.31 322.385 2217.32 324.584 Q2215.33 326.783 2215.33 330.579 L2215.33 345.232 L2211.04 345.232 L2211.04 319.306 L2215.33 319.306 L2215.33 323.334 Q2216.85 320.996 2218.91 319.839 Q2221 318.681 2223.71 318.681 Q2228.17 318.681 2230.46 321.459 Q2232.76 324.214 2232.76 329.584 Z\" fill=\"#000000\" fill-rule=\"evenodd\" fill-opacity=\"1\" /><path clip-path=\"url(#clip890)\" d=\"\n",
       "M1919.9 412.624 L2063.9 412.624 L2063.9 364.24 L1919.9 364.24 L1919.9 412.624  Z\n",
       "  \" fill=\"#00b2ee\" fill-rule=\"evenodd\" fill-opacity=\"1\"/>\n",
       "<polyline clip-path=\"url(#clip890)\" style=\"stroke:#000000; stroke-width:4; stroke-opacity:1; fill:none\" points=\"\n",
       "  1919.9,412.624 2063.9,412.624 2063.9,364.24 1919.9,364.24 1919.9,412.624 \n",
       "  \"/>\n",
       "<path clip-path=\"url(#clip890)\" d=\"M 0 0 M2104.28 389.509 Q2105.79 390.018 2107.2 391.684 Q2108.64 393.351 2110.07 396.268 L2114.82 405.712 L2109.79 405.712 L2105.37 396.846 Q2103.66 393.374 2102.04 392.24 Q2100.44 391.106 2097.66 391.106 L2092.57 391.106 L2092.57 405.712 L2087.9 405.712 L2087.9 371.152 L2098.45 371.152 Q2104.38 371.152 2107.29 373.629 Q2110.21 376.106 2110.21 381.106 Q2110.21 384.37 2108.68 386.522 Q2107.18 388.675 2104.28 389.509 M2092.57 374.995 L2092.57 387.263 L2098.45 387.263 Q2101.83 387.263 2103.54 385.712 Q2105.28 384.138 2105.28 381.106 Q2105.28 378.073 2103.54 376.546 Q2101.83 374.995 2098.45 374.995 L2092.57 374.995 Z\" fill=\"#000000\" fill-rule=\"evenodd\" fill-opacity=\"1\" /></svg>\n"
      ]
     },
     "execution_count": 9,
     "metadata": {},
     "output_type": "execute_result"
    }
   ],
   "source": [
    "plot_times([148,36,102,50,222,222])"
   ]
  },
  {
   "cell_type": "markdown",
   "metadata": {},
   "source": [
    "## Heterogenous Dataset"
   ]
  },
  {
   "cell_type": "markdown",
   "metadata": {},
   "source": [
    "### Single threaded"
   ]
  },
  {
   "cell_type": "code",
   "execution_count": 10,
   "metadata": {},
   "outputs": [
    {
     "name": "stdout",
     "output_type": "stream",
     "text": [
      "\n",
      "R version 3.4.4 (2018-03-15) -- \"Someone to Lean On\"\n",
      "Copyright (C) 2018 The R Foundation for Statistical Computing\n",
      "Platform: x86_64-pc-linux-gnu (64-bit)\n",
      "\n",
      "R is free software and comes with ABSOLUTELY NO WARRANTY.\n",
      "You are welcome to redistribute it under certain conditions.\n",
      "Type 'license()' or 'licence()' for distribution details.\n",
      "\n",
      "R is a collaborative project with many contributors.\n",
      "Type 'contributors()' for more information and\n",
      "'citation()' on how to cite R or R packages in publications.\n",
      "\n",
      "Type 'demo()' for some demos, 'help()' for on-line help, or\n",
      "'help.start()' for an HTML browser interface to help.\n",
      "Type 'q()' to quit R.\n",
      "\n",
      "> library(microbenchmark);library(data.table);setDTthreads(1);benchmark = microbenchmark(df50 = fread('/data/dpk1729/csv-benchmarks-master/mixed.csv'),times=4);print(benchmark)\n",
      "Unit: milliseconds\n",
      " expr      min       lq     mean  median       uq     max neval\n",
      " df50 302.6076 357.2326 446.0051 469.735 534.7776 541.943     4\n",
      "> \n",
      "> \n"
     ]
    },
    {
     "data": {
      "text/plain": [
       "Process(`\u001b[4mR\u001b[24m \u001b[4m-e\u001b[24m \u001b[4m\"library(microbenchmark);library(data.table);setDTthreads(1);benchmark = microbenchmark(df50 = fread('/data/dpk1729/csv-benchmarks-master/mixed.csv'),times=4);print(benchmark)\"\u001b[24m`, ProcessExited(0))"
      ]
     },
     "execution_count": 10,
     "metadata": {},
     "output_type": "execute_result"
    }
   ],
   "source": [
    "run(`R -e \"library(microbenchmark);library(data.table);setDTthreads(1);benchmark = microbenchmark(df50 = fread('/data/dpk1729/csv-benchmarks-master/mixed.csv'),times=4);print(benchmark)\"`)"
   ]
  },
  {
   "cell_type": "code",
   "execution_count": 11,
   "metadata": {},
   "outputs": [
    {
     "name": "stdout",
     "output_type": "stream",
     "text": [
      "1 loop, best of 5: 397 msec per loop\n"
     ]
    },
    {
     "data": {
      "text/plain": [
       "Process(`\u001b[4mpython3\u001b[24m \u001b[4m-m\u001b[24m \u001b[4mtimeit\u001b[24m \u001b[4m-s\u001b[24m \u001b[4m'import pandas'\u001b[24m \u001b[4m-p\u001b[24m \u001b[4m\"pandas.read_csv('/data/dpk1729/csv-benchmarks-master/mixed.csv')\"\u001b[24m`, ProcessExited(0))"
      ]
     },
     "execution_count": 11,
     "metadata": {},
     "output_type": "execute_result"
    }
   ],
   "source": [
    "run(`python3 -m timeit -s \"import pandas\" -p \"pandas.read_csv('/data/dpk1729/csv-benchmarks-master/mixed.csv')\"`)"
   ]
  },
  {
   "cell_type": "code",
   "execution_count": 12,
   "metadata": {
    "scrolled": true
   },
   "outputs": [
    {
     "name": "stdout",
     "output_type": "stream",
     "text": [
      "  138.789 ms (158672 allocations: 47.27 MiB)\n"
     ]
    },
    {
     "data": {
      "text/html": [
       "<table class=\"data-frame\"><thead><tr><th></th><th>col1</th><th>col2</th><th>col3</th><th>col4</th><th>col5</th></tr><tr><th></th><th>Float64?</th><th>Float64?</th><th>Int64?</th><th>Dates.D…?</th><th>String?</th></tr></thead><tbody><p>10,000 rows × 200 columns (omitted printing of 195 columns)</p><tr><th>1</th><td>0.164184</td><td><em>missing</em></td><td>-8618047875453619626</td><td><em>missing</em></td><td>J7BSebe75ZSElvwjLCmP</td></tr><tr><th>2</th><td><em>missing</em></td><td><em>missing</em></td><td>-50295243866911532</td><td><em>missing</em></td><td><em>missing</em></td></tr><tr><th>3</th><td>0.742546</td><td>0.4025</td><td><em>missing</em></td><td><em>missing</em></td><td><em>missing</em></td></tr><tr><th>4</th><td><em>missing</em></td><td>0.3716</td><td>4175438224706417676</td><td><em>missing</em></td><td><em>missing</em></td></tr><tr><th>5</th><td><em>missing</em></td><td>0.1643</td><td>-7177638387897108480</td><td>1960-10-17T14:20:12</td><td><em>missing</em></td></tr><tr><th>6</th><td><em>missing</em></td><td>0.4566</td><td>9111019825973752052</td><td>1955-09-04T18:25:02</td><td>qj0noCjbt5VBnBbAn6dZ</td></tr><tr><th>7</th><td><em>missing</em></td><td><em>missing</em></td><td>-8407312498829477465</td><td>1995-01-10T02:45:19</td><td><em>missing</em></td></tr><tr><th>8</th><td>0.532037</td><td>0.3458</td><td><em>missing</em></td><td><em>missing</em></td><td><em>missing</em></td></tr><tr><th>9</th><td>0.629863</td><td>0.2822</td><td><em>missing</em></td><td>1956-05-15T14:56:43</td><td>v807lN9xkiS6Q8aqx0Pz</td></tr><tr><th>10</th><td><em>missing</em></td><td>0.1311</td><td><em>missing</em></td><td><em>missing</em></td><td>k5YpMx1n4T8urNMLKM0q</td></tr><tr><th>11</th><td><em>missing</em></td><td><em>missing</em></td><td>6606225121116925454</td><td>1982-11-22T02:17:49</td><td><em>missing</em></td></tr><tr><th>12</th><td>0.613259</td><td><em>missing</em></td><td>-6694690359643326336</td><td>1965-07-06T02:07:49</td><td>lOnk2rLTXChE1TkTPw9p</td></tr><tr><th>13</th><td>0.00690529</td><td>0.2223</td><td><em>missing</em></td><td><em>missing</em></td><td><em>missing</em></td></tr><tr><th>14</th><td>0.0934527</td><td>0.4612</td><td><em>missing</em></td><td>1953-03-04T08:33:19</td><td>bOLm2HG99bfWYmqmNn9A</td></tr><tr><th>15</th><td><em>missing</em></td><td><em>missing</em></td><td>-4980953471863101178</td><td>1998-01-05T05:31:33</td><td>v4qwoO21n7AuIDtBTKvb</td></tr><tr><th>16</th><td>0.121257</td><td>0.0665</td><td><em>missing</em></td><td>1964-11-18T03:40:12</td><td>0jkiLphJMjLhNhsdFCpY</td></tr><tr><th>17</th><td><em>missing</em></td><td><em>missing</em></td><td>623640985040785297</td><td><em>missing</em></td><td><em>missing</em></td></tr><tr><th>18</th><td><em>missing</em></td><td>0.5108</td><td><em>missing</em></td><td>1997-08-16T02:22:31</td><td>pCikl1DXl3JacGEeAbqb</td></tr><tr><th>19</th><td>0.0920361</td><td><em>missing</em></td><td>8796636572667233886</td><td>1993-06-10T03:19:36</td><td>xZqS6QDwyfzEMSe2DEwD</td></tr><tr><th>20</th><td>0.655048</td><td>0.2823</td><td><em>missing</em></td><td><em>missing</em></td><td><em>missing</em></td></tr><tr><th>21</th><td>0.232342</td><td><em>missing</em></td><td><em>missing</em></td><td><em>missing</em></td><td><em>missing</em></td></tr><tr><th>22</th><td><em>missing</em></td><td><em>missing</em></td><td>6971740742996577735</td><td>1993-08-23T06:44:22</td><td><em>missing</em></td></tr><tr><th>23</th><td>0.464959</td><td><em>missing</em></td><td>-597876017509568371</td><td><em>missing</em></td><td><em>missing</em></td></tr><tr><th>24</th><td>0.731729</td><td>0.8595</td><td><em>missing</em></td><td>1969-07-03T12:35:47</td><td><em>missing</em></td></tr><tr><th>25</th><td><em>missing</em></td><td><em>missing</em></td><td><em>missing</em></td><td>1971-01-19T05:04:44</td><td><em>missing</em></td></tr><tr><th>26</th><td>0.0881639</td><td>0.2976</td><td><em>missing</em></td><td><em>missing</em></td><td><em>missing</em></td></tr><tr><th>27</th><td>0.531659</td><td><em>missing</em></td><td><em>missing</em></td><td><em>missing</em></td><td><em>missing</em></td></tr><tr><th>28</th><td><em>missing</em></td><td>0.9403</td><td>8996940578136433406</td><td><em>missing</em></td><td><em>missing</em></td></tr><tr><th>29</th><td>0.012695</td><td><em>missing</em></td><td>8186993451835868273</td><td><em>missing</em></td><td><em>missing</em></td></tr><tr><th>30</th><td>0.8103</td><td><em>missing</em></td><td>916944608073697174</td><td><em>missing</em></td><td><em>missing</em></td></tr><tr><th>&vellip;</th><td>&vellip;</td><td>&vellip;</td><td>&vellip;</td><td>&vellip;</td><td>&vellip;</td></tr></tbody></table>"
      ],
      "text/latex": [
       "\\begin{tabular}{r|cccccc}\n",
       "\t& col1 & col2 & col3 & col4 & col5 & \\\\\n",
       "\t\\hline\n",
       "\t& Float64? & Float64? & Int64? & Dates.D…? & String? & \\\\\n",
       "\t\\hline\n",
       "\t1 & 0.164184 & \\emph{missing} & -8618047875453619626 & \\emph{missing} & J7BSebe75ZSElvwjLCmP & $\\dots$ \\\\\n",
       "\t2 & \\emph{missing} & \\emph{missing} & -50295243866911532 & \\emph{missing} & \\emph{missing} & $\\dots$ \\\\\n",
       "\t3 & 0.742546 & 0.4025 & \\emph{missing} & \\emph{missing} & \\emph{missing} & $\\dots$ \\\\\n",
       "\t4 & \\emph{missing} & 0.3716 & 4175438224706417676 & \\emph{missing} & \\emph{missing} & $\\dots$ \\\\\n",
       "\t5 & \\emph{missing} & 0.1643 & -7177638387897108480 & 1960-10-17T14:20:12 & \\emph{missing} & $\\dots$ \\\\\n",
       "\t6 & \\emph{missing} & 0.4566 & 9111019825973752052 & 1955-09-04T18:25:02 & qj0noCjbt5VBnBbAn6dZ & $\\dots$ \\\\\n",
       "\t7 & \\emph{missing} & \\emph{missing} & -8407312498829477465 & 1995-01-10T02:45:19 & \\emph{missing} & $\\dots$ \\\\\n",
       "\t8 & 0.532037 & 0.3458 & \\emph{missing} & \\emph{missing} & \\emph{missing} & $\\dots$ \\\\\n",
       "\t9 & 0.629863 & 0.2822 & \\emph{missing} & 1956-05-15T14:56:43 & v807lN9xkiS6Q8aqx0Pz & $\\dots$ \\\\\n",
       "\t10 & \\emph{missing} & 0.1311 & \\emph{missing} & \\emph{missing} & k5YpMx1n4T8urNMLKM0q & $\\dots$ \\\\\n",
       "\t11 & \\emph{missing} & \\emph{missing} & 6606225121116925454 & 1982-11-22T02:17:49 & \\emph{missing} & $\\dots$ \\\\\n",
       "\t12 & 0.613259 & \\emph{missing} & -6694690359643326336 & 1965-07-06T02:07:49 & lOnk2rLTXChE1TkTPw9p & $\\dots$ \\\\\n",
       "\t13 & 0.00690529 & 0.2223 & \\emph{missing} & \\emph{missing} & \\emph{missing} & $\\dots$ \\\\\n",
       "\t14 & 0.0934527 & 0.4612 & \\emph{missing} & 1953-03-04T08:33:19 & bOLm2HG99bfWYmqmNn9A & $\\dots$ \\\\\n",
       "\t15 & \\emph{missing} & \\emph{missing} & -4980953471863101178 & 1998-01-05T05:31:33 & v4qwoO21n7AuIDtBTKvb & $\\dots$ \\\\\n",
       "\t16 & 0.121257 & 0.0665 & \\emph{missing} & 1964-11-18T03:40:12 & 0jkiLphJMjLhNhsdFCpY & $\\dots$ \\\\\n",
       "\t17 & \\emph{missing} & \\emph{missing} & 623640985040785297 & \\emph{missing} & \\emph{missing} & $\\dots$ \\\\\n",
       "\t18 & \\emph{missing} & 0.5108 & \\emph{missing} & 1997-08-16T02:22:31 & pCikl1DXl3JacGEeAbqb & $\\dots$ \\\\\n",
       "\t19 & 0.0920361 & \\emph{missing} & 8796636572667233886 & 1993-06-10T03:19:36 & xZqS6QDwyfzEMSe2DEwD & $\\dots$ \\\\\n",
       "\t20 & 0.655048 & 0.2823 & \\emph{missing} & \\emph{missing} & \\emph{missing} & $\\dots$ \\\\\n",
       "\t21 & 0.232342 & \\emph{missing} & \\emph{missing} & \\emph{missing} & \\emph{missing} & $\\dots$ \\\\\n",
       "\t22 & \\emph{missing} & \\emph{missing} & 6971740742996577735 & 1993-08-23T06:44:22 & \\emph{missing} & $\\dots$ \\\\\n",
       "\t23 & 0.464959 & \\emph{missing} & -597876017509568371 & \\emph{missing} & \\emph{missing} & $\\dots$ \\\\\n",
       "\t24 & 0.731729 & 0.8595 & \\emph{missing} & 1969-07-03T12:35:47 & \\emph{missing} & $\\dots$ \\\\\n",
       "\t25 & \\emph{missing} & \\emph{missing} & \\emph{missing} & 1971-01-19T05:04:44 & \\emph{missing} & $\\dots$ \\\\\n",
       "\t26 & 0.0881639 & 0.2976 & \\emph{missing} & \\emph{missing} & \\emph{missing} & $\\dots$ \\\\\n",
       "\t27 & 0.531659 & \\emph{missing} & \\emph{missing} & \\emph{missing} & \\emph{missing} & $\\dots$ \\\\\n",
       "\t28 & \\emph{missing} & 0.9403 & 8996940578136433406 & \\emph{missing} & \\emph{missing} & $\\dots$ \\\\\n",
       "\t29 & 0.012695 & \\emph{missing} & 8186993451835868273 & \\emph{missing} & \\emph{missing} & $\\dots$ \\\\\n",
       "\t30 & 0.8103 & \\emph{missing} & 916944608073697174 & \\emph{missing} & \\emph{missing} & $\\dots$ \\\\\n",
       "\t$\\dots$ & $\\dots$ & $\\dots$ & $\\dots$ & $\\dots$ & $\\dots$ &  \\\\\n",
       "\\end{tabular}\n"
      ],
      "text/plain": [
       "10000×200 DataFrame. Omitted printing of 196 columns\n",
       "│ Row   │ col1      │ col2     │ col3                 │ col4                │\n",
       "│       │ \u001b[90mFloat64?\u001b[39m  │ \u001b[90mFloat64?\u001b[39m │ \u001b[90mInt64?\u001b[39m               │ \u001b[90mDates.DateTime?\u001b[39m     │\n",
       "├───────┼───────────┼──────────┼──────────────────────┼─────────────────────┤\n",
       "│ 1     │ 0.164184  │ \u001b[90mmissing\u001b[39m  │ -8618047875453619626 │ \u001b[90mmissing\u001b[39m             │\n",
       "│ 2     │ \u001b[90mmissing\u001b[39m   │ \u001b[90mmissing\u001b[39m  │ -50295243866911532   │ \u001b[90mmissing\u001b[39m             │\n",
       "│ 3     │ 0.742546  │ 0.4025   │ \u001b[90mmissing\u001b[39m              │ \u001b[90mmissing\u001b[39m             │\n",
       "│ 4     │ \u001b[90mmissing\u001b[39m   │ 0.3716   │ 4175438224706417676  │ \u001b[90mmissing\u001b[39m             │\n",
       "│ 5     │ \u001b[90mmissing\u001b[39m   │ 0.1643   │ -7177638387897108480 │ 1960-10-17T14:20:12 │\n",
       "│ 6     │ \u001b[90mmissing\u001b[39m   │ 0.4566   │ 9111019825973752052  │ 1955-09-04T18:25:02 │\n",
       "│ 7     │ \u001b[90mmissing\u001b[39m   │ \u001b[90mmissing\u001b[39m  │ -8407312498829477465 │ 1995-01-10T02:45:19 │\n",
       "│ 8     │ 0.532037  │ 0.3458   │ \u001b[90mmissing\u001b[39m              │ \u001b[90mmissing\u001b[39m             │\n",
       "│ 9     │ 0.629863  │ 0.2822   │ \u001b[90mmissing\u001b[39m              │ 1956-05-15T14:56:43 │\n",
       "│ 10    │ \u001b[90mmissing\u001b[39m   │ 0.1311   │ \u001b[90mmissing\u001b[39m              │ \u001b[90mmissing\u001b[39m             │\n",
       "⋮\n",
       "│ 9990  │ 0.671318  │ \u001b[90mmissing\u001b[39m  │ 6875816119364369589  │ \u001b[90mmissing\u001b[39m             │\n",
       "│ 9991  │ 0.437143  │ \u001b[90mmissing\u001b[39m  │ \u001b[90mmissing\u001b[39m              │ \u001b[90mmissing\u001b[39m             │\n",
       "│ 9992  │ \u001b[90mmissing\u001b[39m   │ \u001b[90mmissing\u001b[39m  │ \u001b[90mmissing\u001b[39m              │ 1954-07-28T15:07:32 │\n",
       "│ 9993  │ 0.0070122 │ 0.8368   │ -8938616228964275973 │ 1993-11-27T11:34:28 │\n",
       "│ 9994  │ \u001b[90mmissing\u001b[39m   │ 0.1122   │ 1780285780469740430  │ \u001b[90mmissing\u001b[39m             │\n",
       "│ 9995  │ \u001b[90mmissing\u001b[39m   │ 0.5406   │ \u001b[90mmissing\u001b[39m              │ \u001b[90mmissing\u001b[39m             │\n",
       "│ 9996  │ 0.994674  │ 0.8337   │ \u001b[90mmissing\u001b[39m              │ \u001b[90mmissing\u001b[39m             │\n",
       "│ 9997  │ \u001b[90mmissing\u001b[39m   │ 0.5959   │ \u001b[90mmissing\u001b[39m              │ \u001b[90mmissing\u001b[39m             │\n",
       "│ 9998  │ \u001b[90mmissing\u001b[39m   │ \u001b[90mmissing\u001b[39m  │ \u001b[90mmissing\u001b[39m              │ \u001b[90mmissing\u001b[39m             │\n",
       "│ 9999  │ 0.517365  │ 0.2687   │ -4560827814254399358 │ 1965-11-22T15:27:01 │\n",
       "│ 10000 │ 0.896644  │ \u001b[90mmissing\u001b[39m  │ \u001b[90mmissing\u001b[39m              │ \u001b[90mmissing\u001b[39m             │"
      ]
     },
     "execution_count": 12,
     "metadata": {},
     "output_type": "execute_result"
    }
   ],
   "source": [
    "@btime CSV.read(\"/data/dpk1729/csv-benchmarks-master/mixed.csv\", threaded=false)"
   ]
  },
  {
   "cell_type": "markdown",
   "metadata": {},
   "source": [
    "### Multi threaded"
   ]
  },
  {
   "cell_type": "code",
   "execution_count": 13,
   "metadata": {},
   "outputs": [
    {
     "name": "stdout",
     "output_type": "stream",
     "text": [
      "\n",
      "R version 3.4.4 (2018-03-15) -- \"Someone to Lean On\"\n",
      "Copyright (C) 2018 The R Foundation for Statistical Computing\n",
      "Platform: x86_64-pc-linux-gnu (64-bit)\n",
      "\n",
      "R is free software and comes with ABSOLUTELY NO WARRANTY.\n",
      "You are welcome to redistribute it under certain conditions.\n",
      "Type 'license()' or 'licence()' for distribution details.\n",
      "\n",
      "R is a collaborative project with many contributors.\n",
      "Type 'contributors()' for more information and\n",
      "'citation()' on how to cite R or R packages in publications.\n",
      "\n",
      "Type 'demo()' for some demos, 'help()' for on-line help, or\n",
      "'help.start()' for an HTML browser interface to help.\n",
      "Type 'q()' to quit R.\n",
      "\n",
      "> library(microbenchmark);library(data.table);setDTthreads(10);benchmark = microbenchmark(df50 = fread('/data/dpk1729/csv-benchmarks-master/mixed.csv'),times=4);print(benchmark)\n",
      "Unit: milliseconds\n",
      " expr      min       lq     mean   median       uq      max neval\n",
      " df50 296.6476 367.3282 469.6355 494.0468 571.9427 593.8006     4\n",
      "> \n",
      "> \n"
     ]
    },
    {
     "data": {
      "text/plain": [
       "Process(`\u001b[4mR\u001b[24m \u001b[4m-e\u001b[24m \u001b[4m\"library(microbenchmark);library(data.table);setDTthreads(10);benchmark = microbenchmark(df50 = fread('/data/dpk1729/csv-benchmarks-master/mixed.csv'),times=4);print(benchmark)\"\u001b[24m`, ProcessExited(0))"
      ]
     },
     "execution_count": 13,
     "metadata": {},
     "output_type": "execute_result"
    }
   ],
   "source": [
    "run(`R -e \"library(microbenchmark);library(data.table);setDTthreads(10);benchmark = microbenchmark(df50 = fread('/data/dpk1729/csv-benchmarks-master/mixed.csv'),times=4);print(benchmark)\"`)"
   ]
  },
  {
   "cell_type": "code",
   "execution_count": 14,
   "metadata": {
    "scrolled": true
   },
   "outputs": [
    {
     "name": "stdout",
     "output_type": "stream",
     "text": [
      "  27.635 ms (113546 allocations: 43.77 MiB)\n"
     ]
    },
    {
     "data": {
      "text/html": [
       "<table class=\"data-frame\"><thead><tr><th></th><th>col1</th><th>col2</th><th>col3</th><th>col4</th><th>col5</th></tr><tr><th></th><th>Float64?</th><th>Float64?</th><th>Int64?</th><th>Dates.D…?</th><th>String?</th></tr></thead><tbody><p>10,000 rows × 200 columns (omitted printing of 195 columns)</p><tr><th>1</th><td>0.164184</td><td><em>missing</em></td><td>-8618047875453619626</td><td><em>missing</em></td><td>J7BSebe75ZSElvwjLCmP</td></tr><tr><th>2</th><td><em>missing</em></td><td><em>missing</em></td><td>-50295243866911532</td><td><em>missing</em></td><td><em>missing</em></td></tr><tr><th>3</th><td>0.742546</td><td>0.4025</td><td><em>missing</em></td><td><em>missing</em></td><td><em>missing</em></td></tr><tr><th>4</th><td><em>missing</em></td><td>0.3716</td><td>4175438224706417676</td><td><em>missing</em></td><td><em>missing</em></td></tr><tr><th>5</th><td><em>missing</em></td><td>0.1643</td><td>-7177638387897108480</td><td>1960-10-17T14:20:12</td><td><em>missing</em></td></tr><tr><th>6</th><td><em>missing</em></td><td>0.4566</td><td>9111019825973752052</td><td>1955-09-04T18:25:02</td><td>qj0noCjbt5VBnBbAn6dZ</td></tr><tr><th>7</th><td><em>missing</em></td><td><em>missing</em></td><td>-8407312498829477465</td><td>1995-01-10T02:45:19</td><td><em>missing</em></td></tr><tr><th>8</th><td>0.532037</td><td>0.3458</td><td><em>missing</em></td><td><em>missing</em></td><td><em>missing</em></td></tr><tr><th>9</th><td>0.629863</td><td>0.2822</td><td><em>missing</em></td><td>1956-05-15T14:56:43</td><td>v807lN9xkiS6Q8aqx0Pz</td></tr><tr><th>10</th><td><em>missing</em></td><td>0.1311</td><td><em>missing</em></td><td><em>missing</em></td><td>k5YpMx1n4T8urNMLKM0q</td></tr><tr><th>11</th><td><em>missing</em></td><td><em>missing</em></td><td>6606225121116925454</td><td>1982-11-22T02:17:49</td><td><em>missing</em></td></tr><tr><th>12</th><td>0.613259</td><td><em>missing</em></td><td>-6694690359643326336</td><td>1965-07-06T02:07:49</td><td>lOnk2rLTXChE1TkTPw9p</td></tr><tr><th>13</th><td>0.00690529</td><td>0.2223</td><td><em>missing</em></td><td><em>missing</em></td><td><em>missing</em></td></tr><tr><th>14</th><td>0.0934527</td><td>0.4612</td><td><em>missing</em></td><td>1953-03-04T08:33:19</td><td>bOLm2HG99bfWYmqmNn9A</td></tr><tr><th>15</th><td><em>missing</em></td><td><em>missing</em></td><td>-4980953471863101178</td><td>1998-01-05T05:31:33</td><td>v4qwoO21n7AuIDtBTKvb</td></tr><tr><th>16</th><td>0.121257</td><td>0.0665</td><td><em>missing</em></td><td>1964-11-18T03:40:12</td><td>0jkiLphJMjLhNhsdFCpY</td></tr><tr><th>17</th><td><em>missing</em></td><td><em>missing</em></td><td>623640985040785297</td><td><em>missing</em></td><td><em>missing</em></td></tr><tr><th>18</th><td><em>missing</em></td><td>0.5108</td><td><em>missing</em></td><td>1997-08-16T02:22:31</td><td>pCikl1DXl3JacGEeAbqb</td></tr><tr><th>19</th><td>0.0920361</td><td><em>missing</em></td><td>8796636572667233886</td><td>1993-06-10T03:19:36</td><td>xZqS6QDwyfzEMSe2DEwD</td></tr><tr><th>20</th><td>0.655048</td><td>0.2823</td><td><em>missing</em></td><td><em>missing</em></td><td><em>missing</em></td></tr><tr><th>21</th><td>0.232342</td><td><em>missing</em></td><td><em>missing</em></td><td><em>missing</em></td><td><em>missing</em></td></tr><tr><th>22</th><td><em>missing</em></td><td><em>missing</em></td><td>6971740742996577735</td><td>1993-08-23T06:44:22</td><td><em>missing</em></td></tr><tr><th>23</th><td>0.464959</td><td><em>missing</em></td><td>-597876017509568371</td><td><em>missing</em></td><td><em>missing</em></td></tr><tr><th>24</th><td>0.731729</td><td>0.8595</td><td><em>missing</em></td><td>1969-07-03T12:35:47</td><td><em>missing</em></td></tr><tr><th>25</th><td><em>missing</em></td><td><em>missing</em></td><td><em>missing</em></td><td>1971-01-19T05:04:44</td><td><em>missing</em></td></tr><tr><th>26</th><td>0.0881639</td><td>0.2976</td><td><em>missing</em></td><td><em>missing</em></td><td><em>missing</em></td></tr><tr><th>27</th><td>0.531659</td><td><em>missing</em></td><td><em>missing</em></td><td><em>missing</em></td><td><em>missing</em></td></tr><tr><th>28</th><td><em>missing</em></td><td>0.9403</td><td>8996940578136433406</td><td><em>missing</em></td><td><em>missing</em></td></tr><tr><th>29</th><td>0.012695</td><td><em>missing</em></td><td>8186993451835868273</td><td><em>missing</em></td><td><em>missing</em></td></tr><tr><th>30</th><td>0.8103</td><td><em>missing</em></td><td>916944608073697174</td><td><em>missing</em></td><td><em>missing</em></td></tr><tr><th>&vellip;</th><td>&vellip;</td><td>&vellip;</td><td>&vellip;</td><td>&vellip;</td><td>&vellip;</td></tr></tbody></table>"
      ],
      "text/latex": [
       "\\begin{tabular}{r|cccccc}\n",
       "\t& col1 & col2 & col3 & col4 & col5 & \\\\\n",
       "\t\\hline\n",
       "\t& Float64? & Float64? & Int64? & Dates.D…? & String? & \\\\\n",
       "\t\\hline\n",
       "\t1 & 0.164184 & \\emph{missing} & -8618047875453619626 & \\emph{missing} & J7BSebe75ZSElvwjLCmP & $\\dots$ \\\\\n",
       "\t2 & \\emph{missing} & \\emph{missing} & -50295243866911532 & \\emph{missing} & \\emph{missing} & $\\dots$ \\\\\n",
       "\t3 & 0.742546 & 0.4025 & \\emph{missing} & \\emph{missing} & \\emph{missing} & $\\dots$ \\\\\n",
       "\t4 & \\emph{missing} & 0.3716 & 4175438224706417676 & \\emph{missing} & \\emph{missing} & $\\dots$ \\\\\n",
       "\t5 & \\emph{missing} & 0.1643 & -7177638387897108480 & 1960-10-17T14:20:12 & \\emph{missing} & $\\dots$ \\\\\n",
       "\t6 & \\emph{missing} & 0.4566 & 9111019825973752052 & 1955-09-04T18:25:02 & qj0noCjbt5VBnBbAn6dZ & $\\dots$ \\\\\n",
       "\t7 & \\emph{missing} & \\emph{missing} & -8407312498829477465 & 1995-01-10T02:45:19 & \\emph{missing} & $\\dots$ \\\\\n",
       "\t8 & 0.532037 & 0.3458 & \\emph{missing} & \\emph{missing} & \\emph{missing} & $\\dots$ \\\\\n",
       "\t9 & 0.629863 & 0.2822 & \\emph{missing} & 1956-05-15T14:56:43 & v807lN9xkiS6Q8aqx0Pz & $\\dots$ \\\\\n",
       "\t10 & \\emph{missing} & 0.1311 & \\emph{missing} & \\emph{missing} & k5YpMx1n4T8urNMLKM0q & $\\dots$ \\\\\n",
       "\t11 & \\emph{missing} & \\emph{missing} & 6606225121116925454 & 1982-11-22T02:17:49 & \\emph{missing} & $\\dots$ \\\\\n",
       "\t12 & 0.613259 & \\emph{missing} & -6694690359643326336 & 1965-07-06T02:07:49 & lOnk2rLTXChE1TkTPw9p & $\\dots$ \\\\\n",
       "\t13 & 0.00690529 & 0.2223 & \\emph{missing} & \\emph{missing} & \\emph{missing} & $\\dots$ \\\\\n",
       "\t14 & 0.0934527 & 0.4612 & \\emph{missing} & 1953-03-04T08:33:19 & bOLm2HG99bfWYmqmNn9A & $\\dots$ \\\\\n",
       "\t15 & \\emph{missing} & \\emph{missing} & -4980953471863101178 & 1998-01-05T05:31:33 & v4qwoO21n7AuIDtBTKvb & $\\dots$ \\\\\n",
       "\t16 & 0.121257 & 0.0665 & \\emph{missing} & 1964-11-18T03:40:12 & 0jkiLphJMjLhNhsdFCpY & $\\dots$ \\\\\n",
       "\t17 & \\emph{missing} & \\emph{missing} & 623640985040785297 & \\emph{missing} & \\emph{missing} & $\\dots$ \\\\\n",
       "\t18 & \\emph{missing} & 0.5108 & \\emph{missing} & 1997-08-16T02:22:31 & pCikl1DXl3JacGEeAbqb & $\\dots$ \\\\\n",
       "\t19 & 0.0920361 & \\emph{missing} & 8796636572667233886 & 1993-06-10T03:19:36 & xZqS6QDwyfzEMSe2DEwD & $\\dots$ \\\\\n",
       "\t20 & 0.655048 & 0.2823 & \\emph{missing} & \\emph{missing} & \\emph{missing} & $\\dots$ \\\\\n",
       "\t21 & 0.232342 & \\emph{missing} & \\emph{missing} & \\emph{missing} & \\emph{missing} & $\\dots$ \\\\\n",
       "\t22 & \\emph{missing} & \\emph{missing} & 6971740742996577735 & 1993-08-23T06:44:22 & \\emph{missing} & $\\dots$ \\\\\n",
       "\t23 & 0.464959 & \\emph{missing} & -597876017509568371 & \\emph{missing} & \\emph{missing} & $\\dots$ \\\\\n",
       "\t24 & 0.731729 & 0.8595 & \\emph{missing} & 1969-07-03T12:35:47 & \\emph{missing} & $\\dots$ \\\\\n",
       "\t25 & \\emph{missing} & \\emph{missing} & \\emph{missing} & 1971-01-19T05:04:44 & \\emph{missing} & $\\dots$ \\\\\n",
       "\t26 & 0.0881639 & 0.2976 & \\emph{missing} & \\emph{missing} & \\emph{missing} & $\\dots$ \\\\\n",
       "\t27 & 0.531659 & \\emph{missing} & \\emph{missing} & \\emph{missing} & \\emph{missing} & $\\dots$ \\\\\n",
       "\t28 & \\emph{missing} & 0.9403 & 8996940578136433406 & \\emph{missing} & \\emph{missing} & $\\dots$ \\\\\n",
       "\t29 & 0.012695 & \\emph{missing} & 8186993451835868273 & \\emph{missing} & \\emph{missing} & $\\dots$ \\\\\n",
       "\t30 & 0.8103 & \\emph{missing} & 916944608073697174 & \\emph{missing} & \\emph{missing} & $\\dots$ \\\\\n",
       "\t$\\dots$ & $\\dots$ & $\\dots$ & $\\dots$ & $\\dots$ & $\\dots$ &  \\\\\n",
       "\\end{tabular}\n"
      ],
      "text/plain": [
       "10000×200 DataFrame. Omitted printing of 196 columns\n",
       "│ Row   │ col1      │ col2     │ col3                 │ col4                │\n",
       "│       │ \u001b[90mFloat64?\u001b[39m  │ \u001b[90mFloat64?\u001b[39m │ \u001b[90mInt64?\u001b[39m               │ \u001b[90mDates.DateTime?\u001b[39m     │\n",
       "├───────┼───────────┼──────────┼──────────────────────┼─────────────────────┤\n",
       "│ 1     │ 0.164184  │ \u001b[90mmissing\u001b[39m  │ -8618047875453619626 │ \u001b[90mmissing\u001b[39m             │\n",
       "│ 2     │ \u001b[90mmissing\u001b[39m   │ \u001b[90mmissing\u001b[39m  │ -50295243866911532   │ \u001b[90mmissing\u001b[39m             │\n",
       "│ 3     │ 0.742546  │ 0.4025   │ \u001b[90mmissing\u001b[39m              │ \u001b[90mmissing\u001b[39m             │\n",
       "│ 4     │ \u001b[90mmissing\u001b[39m   │ 0.3716   │ 4175438224706417676  │ \u001b[90mmissing\u001b[39m             │\n",
       "│ 5     │ \u001b[90mmissing\u001b[39m   │ 0.1643   │ -7177638387897108480 │ 1960-10-17T14:20:12 │\n",
       "│ 6     │ \u001b[90mmissing\u001b[39m   │ 0.4566   │ 9111019825973752052  │ 1955-09-04T18:25:02 │\n",
       "│ 7     │ \u001b[90mmissing\u001b[39m   │ \u001b[90mmissing\u001b[39m  │ -8407312498829477465 │ 1995-01-10T02:45:19 │\n",
       "│ 8     │ 0.532037  │ 0.3458   │ \u001b[90mmissing\u001b[39m              │ \u001b[90mmissing\u001b[39m             │\n",
       "│ 9     │ 0.629863  │ 0.2822   │ \u001b[90mmissing\u001b[39m              │ 1956-05-15T14:56:43 │\n",
       "│ 10    │ \u001b[90mmissing\u001b[39m   │ 0.1311   │ \u001b[90mmissing\u001b[39m              │ \u001b[90mmissing\u001b[39m             │\n",
       "⋮\n",
       "│ 9990  │ 0.671318  │ \u001b[90mmissing\u001b[39m  │ 6875816119364369589  │ \u001b[90mmissing\u001b[39m             │\n",
       "│ 9991  │ 0.437143  │ \u001b[90mmissing\u001b[39m  │ \u001b[90mmissing\u001b[39m              │ \u001b[90mmissing\u001b[39m             │\n",
       "│ 9992  │ \u001b[90mmissing\u001b[39m   │ \u001b[90mmissing\u001b[39m  │ \u001b[90mmissing\u001b[39m              │ 1954-07-28T15:07:32 │\n",
       "│ 9993  │ 0.0070122 │ 0.8368   │ -8938616228964275973 │ 1993-11-27T11:34:28 │\n",
       "│ 9994  │ \u001b[90mmissing\u001b[39m   │ 0.1122   │ 1780285780469740430  │ \u001b[90mmissing\u001b[39m             │\n",
       "│ 9995  │ \u001b[90mmissing\u001b[39m   │ 0.5406   │ \u001b[90mmissing\u001b[39m              │ \u001b[90mmissing\u001b[39m             │\n",
       "│ 9996  │ 0.994674  │ 0.8337   │ \u001b[90mmissing\u001b[39m              │ \u001b[90mmissing\u001b[39m             │\n",
       "│ 9997  │ \u001b[90mmissing\u001b[39m   │ 0.5959   │ \u001b[90mmissing\u001b[39m              │ \u001b[90mmissing\u001b[39m             │\n",
       "│ 9998  │ \u001b[90mmissing\u001b[39m   │ \u001b[90mmissing\u001b[39m  │ \u001b[90mmissing\u001b[39m              │ \u001b[90mmissing\u001b[39m             │\n",
       "│ 9999  │ 0.517365  │ 0.2687   │ -4560827814254399358 │ 1965-11-22T15:27:01 │\n",
       "│ 10000 │ 0.896644  │ \u001b[90mmissing\u001b[39m  │ \u001b[90mmissing\u001b[39m              │ \u001b[90mmissing\u001b[39m             │"
      ]
     },
     "execution_count": 14,
     "metadata": {},
     "output_type": "execute_result"
    }
   ],
   "source": [
    "@btime CSV.read(\"/data/dpk1729/csv-benchmarks-master/mixed.csv\", threaded=true)"
   ]
  },
  {
   "cell_type": "code",
   "execution_count": 15,
   "metadata": {},
   "outputs": [
    {
     "data": {
      "image/svg+xml": [
       "<?xml version=\"1.0\" encoding=\"utf-8\"?>\n",
       "<svg xmlns=\"http://www.w3.org/2000/svg\" xmlns:xlink=\"http://www.w3.org/1999/xlink\" width=\"600\" height=\"400\" viewBox=\"0 0 2400 1600\">\n",
       "<defs>\n",
       "  <clipPath id=\"clip930\">\n",
       "    <rect x=\"0\" y=\"0\" width=\"2400\" height=\"1600\"/>\n",
       "  </clipPath>\n",
       "</defs>\n",
       "<path clip-path=\"url(#clip930)\" d=\"\n",
       "M0 1600 L2400 1600 L2400 0 L0 0  Z\n",
       "  \" fill=\"#ffffff\" fill-rule=\"evenodd\" fill-opacity=\"1\"/>\n",
       "<defs>\n",
       "  <clipPath id=\"clip931\">\n",
       "    <rect x=\"480\" y=\"0\" width=\"1681\" height=\"1600\"/>\n",
       "  </clipPath>\n",
       "</defs>\n",
       "<path clip-path=\"url(#clip930)\" d=\"\n",
       "M229.473 1486.45 L2352.76 1486.45 L2352.76 123.472 L229.473 123.472  Z\n",
       "  \" fill=\"#ffffff\" fill-rule=\"evenodd\" fill-opacity=\"1\"/>\n",
       "<defs>\n",
       "  <clipPath id=\"clip932\">\n",
       "    <rect x=\"229\" y=\"123\" width=\"2124\" height=\"1364\"/>\n",
       "  </clipPath>\n",
       "</defs>\n",
       "<polyline clip-path=\"url(#clip932)\" style=\"stroke:#000000; stroke-width:2; stroke-opacity:0.1; fill:none\" points=\"\n",
       "  757.24,1486.45 757.24,123.472 \n",
       "  \"/>\n",
       "<polyline clip-path=\"url(#clip932)\" style=\"stroke:#000000; stroke-width:2; stroke-opacity:0.1; fill:none\" points=\"\n",
       "  1824.99,1486.45 1824.99,123.472 \n",
       "  \"/>\n",
       "<polyline clip-path=\"url(#clip932)\" style=\"stroke:#000000; stroke-width:2; stroke-opacity:0.1; fill:none\" points=\"\n",
       "  229.473,1447.87 2352.76,1447.87 \n",
       "  \"/>\n",
       "<polyline clip-path=\"url(#clip932)\" style=\"stroke:#000000; stroke-width:2; stroke-opacity:0.1; fill:none\" points=\"\n",
       "  229.473,1120.69 2352.76,1120.69 \n",
       "  \"/>\n",
       "<polyline clip-path=\"url(#clip932)\" style=\"stroke:#000000; stroke-width:2; stroke-opacity:0.1; fill:none\" points=\"\n",
       "  229.473,793.509 2352.76,793.509 \n",
       "  \"/>\n",
       "<polyline clip-path=\"url(#clip932)\" style=\"stroke:#000000; stroke-width:2; stroke-opacity:0.1; fill:none\" points=\"\n",
       "  229.473,466.326 2352.76,466.326 \n",
       "  \"/>\n",
       "<polyline clip-path=\"url(#clip932)\" style=\"stroke:#000000; stroke-width:2; stroke-opacity:0.1; fill:none\" points=\"\n",
       "  229.473,139.144 2352.76,139.144 \n",
       "  \"/>\n",
       "<polyline clip-path=\"url(#clip930)\" style=\"stroke:#000000; stroke-width:4; stroke-opacity:1; fill:none\" points=\"\n",
       "  229.473,1486.45 2352.76,1486.45 \n",
       "  \"/>\n",
       "<polyline clip-path=\"url(#clip930)\" style=\"stroke:#000000; stroke-width:4; stroke-opacity:1; fill:none\" points=\"\n",
       "  229.473,1486.45 229.473,123.472 \n",
       "  \"/>\n",
       "<polyline clip-path=\"url(#clip930)\" style=\"stroke:#000000; stroke-width:4; stroke-opacity:1; fill:none\" points=\"\n",
       "  757.24,1486.45 757.24,1470.09 \n",
       "  \"/>\n",
       "<polyline clip-path=\"url(#clip930)\" style=\"stroke:#000000; stroke-width:4; stroke-opacity:1; fill:none\" points=\"\n",
       "  1824.99,1486.45 1824.99,1470.09 \n",
       "  \"/>\n",
       "<polyline clip-path=\"url(#clip930)\" style=\"stroke:#000000; stroke-width:4; stroke-opacity:1; fill:none\" points=\"\n",
       "  229.473,1447.87 254.952,1447.87 \n",
       "  \"/>\n",
       "<polyline clip-path=\"url(#clip930)\" style=\"stroke:#000000; stroke-width:4; stroke-opacity:1; fill:none\" points=\"\n",
       "  229.473,1120.69 254.952,1120.69 \n",
       "  \"/>\n",
       "<polyline clip-path=\"url(#clip930)\" style=\"stroke:#000000; stroke-width:4; stroke-opacity:1; fill:none\" points=\"\n",
       "  229.473,793.509 254.952,793.509 \n",
       "  \"/>\n",
       "<polyline clip-path=\"url(#clip930)\" style=\"stroke:#000000; stroke-width:4; stroke-opacity:1; fill:none\" points=\"\n",
       "  229.473,466.326 254.952,466.326 \n",
       "  \"/>\n",
       "<polyline clip-path=\"url(#clip930)\" style=\"stroke:#000000; stroke-width:4; stroke-opacity:1; fill:none\" points=\"\n",
       "  229.473,139.144 254.952,139.144 \n",
       "  \"/>\n",
       "<path clip-path=\"url(#clip930)\" d=\"M 0 0 M670.539 1535.98 L678.178 1535.98 L678.178 1509.62 L669.868 1511.29 L669.868 1507.03 L678.131 1505.36 L682.807 1505.36 L682.807 1535.98 L690.446 1535.98 L690.446 1539.92 L670.539 1539.92 L670.539 1535.98 Z\" fill=\"#000000\" fill-rule=\"evenodd\" fill-opacity=\"1\" /><path clip-path=\"url(#clip930)\" d=\"M 0 0 M714.196 1506.63 L714.196 1513.99 L722.969 1513.99 L722.969 1517.3 L714.196 1517.3 L714.196 1531.38 Q714.196 1534.55 715.052 1535.45 Q715.932 1536.36 718.594 1536.36 L722.969 1536.36 L722.969 1539.92 L718.594 1539.92 Q713.664 1539.92 711.789 1538.09 Q709.914 1536.24 709.914 1531.38 L709.914 1517.3 L706.789 1517.3 L706.789 1513.99 L709.914 1513.99 L709.914 1506.63 L714.196 1506.63 Z\" fill=\"#000000\" fill-rule=\"evenodd\" fill-opacity=\"1\" /><path clip-path=\"url(#clip930)\" d=\"M 0 0 M748.987 1524.27 L748.987 1539.92 L744.728 1539.92 L744.728 1524.41 Q744.728 1520.73 743.293 1518.9 Q741.858 1517.07 738.988 1517.07 Q735.538 1517.07 733.548 1519.27 Q731.557 1521.47 731.557 1525.27 L731.557 1539.92 L727.275 1539.92 L727.275 1503.9 L731.557 1503.9 L731.557 1518.02 Q733.085 1515.68 735.145 1514.53 Q737.228 1513.37 739.937 1513.37 Q744.404 1513.37 746.696 1516.15 Q748.987 1518.9 748.987 1524.27 Z\" fill=\"#000000\" fill-rule=\"evenodd\" fill-opacity=\"1\" /><path clip-path=\"url(#clip930)\" d=\"M 0 0 M768.478 1517.98 Q767.761 1517.56 766.904 1517.37 Q766.071 1517.17 765.052 1517.17 Q761.441 1517.17 759.497 1519.53 Q757.575 1521.86 757.575 1526.26 L757.575 1539.92 L753.293 1539.92 L753.293 1513.99 L757.575 1513.99 L757.575 1518.02 Q758.918 1515.66 761.071 1514.53 Q763.224 1513.37 766.302 1513.37 Q766.742 1513.37 767.274 1513.44 Q767.807 1513.48 768.455 1513.6 L768.478 1517.98 Z\" fill=\"#000000\" fill-rule=\"evenodd\" fill-opacity=\"1\" /><path clip-path=\"url(#clip930)\" d=\"M 0 0 M794.08 1525.89 L794.08 1527.98 L774.497 1527.98 Q774.774 1532.37 777.135 1534.69 Q779.52 1536.98 783.756 1536.98 Q786.209 1536.98 788.501 1536.38 Q790.816 1535.78 793.084 1534.57 L793.084 1538.6 Q790.793 1539.57 788.385 1540.08 Q785.978 1540.59 783.501 1540.59 Q777.297 1540.59 773.663 1536.98 Q770.052 1533.37 770.052 1527.21 Q770.052 1520.85 773.478 1517.12 Q776.927 1513.37 782.76 1513.37 Q787.992 1513.37 791.024 1516.75 Q794.08 1520.11 794.08 1525.89 M789.821 1524.64 Q789.774 1521.15 787.853 1519.06 Q785.955 1516.98 782.807 1516.98 Q779.242 1516.98 777.089 1518.99 Q774.96 1521.01 774.635 1524.67 L789.821 1524.64 Z\" fill=\"#000000\" fill-rule=\"evenodd\" fill-opacity=\"1\" /><path clip-path=\"url(#clip930)\" d=\"M 0 0 M810.33 1526.89 Q805.168 1526.89 803.177 1528.07 Q801.186 1529.25 801.186 1532.1 Q801.186 1534.36 802.668 1535.71 Q804.172 1537.03 806.742 1537.03 Q810.283 1537.03 812.413 1534.53 Q814.566 1532 814.566 1527.84 L814.566 1526.89 L810.33 1526.89 M818.825 1525.13 L818.825 1539.92 L814.566 1539.92 L814.566 1535.98 Q813.107 1538.35 810.932 1539.48 Q808.756 1540.59 805.608 1540.59 Q801.626 1540.59 799.265 1538.37 Q796.927 1536.12 796.927 1532.37 Q796.927 1528 799.844 1525.78 Q802.783 1523.55 808.594 1523.55 L814.566 1523.55 L814.566 1523.14 Q814.566 1520.2 812.621 1518.6 Q810.7 1516.98 807.205 1516.98 Q804.983 1516.98 802.876 1517.51 Q800.77 1518.04 798.825 1519.11 L798.825 1515.17 Q801.163 1514.27 803.362 1513.83 Q805.561 1513.37 807.645 1513.37 Q813.27 1513.37 816.047 1516.29 Q818.825 1519.2 818.825 1525.13 Z\" fill=\"#000000\" fill-rule=\"evenodd\" fill-opacity=\"1\" /><path clip-path=\"url(#clip930)\" d=\"M 0 0 M840.353 1517.93 L840.353 1503.9 L844.612 1503.9 L844.612 1539.92 L840.353 1539.92 L840.353 1536.03 Q839.01 1538.35 836.95 1539.48 Q834.913 1540.59 832.043 1540.59 Q827.344 1540.59 824.381 1536.84 Q821.441 1533.09 821.441 1526.98 Q821.441 1520.87 824.381 1517.12 Q827.344 1513.37 832.043 1513.37 Q834.913 1513.37 836.95 1514.5 Q839.01 1515.61 840.353 1517.93 M825.839 1526.98 Q825.839 1531.68 827.76 1534.36 Q829.705 1537.03 833.084 1537.03 Q836.464 1537.03 838.408 1534.36 Q840.353 1531.68 840.353 1526.98 Q840.353 1522.28 838.408 1519.62 Q836.464 1516.93 833.084 1516.93 Q829.705 1516.93 827.76 1519.62 Q825.839 1522.28 825.839 1526.98 Z\" fill=\"#000000\" fill-rule=\"evenodd\" fill-opacity=\"1\" /><path clip-path=\"url(#clip930)\" d=\"M 0 0 M1717.86 1535.98 L1734.18 1535.98 L1734.18 1539.92 L1712.23 1539.92 L1712.23 1535.98 Q1714.9 1533.23 1719.48 1528.6 Q1724.09 1523.95 1725.27 1522.61 Q1727.51 1520.08 1728.39 1518.35 Q1729.29 1516.59 1729.29 1514.9 Q1729.29 1512.14 1727.35 1510.41 Q1725.43 1508.67 1722.33 1508.67 Q1720.13 1508.67 1717.67 1509.43 Q1715.24 1510.2 1712.47 1511.75 L1712.47 1507.03 Q1715.29 1505.89 1717.74 1505.31 Q1720.2 1504.73 1722.23 1504.73 Q1727.61 1504.73 1730.8 1507.42 Q1733.99 1510.11 1733.99 1514.6 Q1733.99 1516.73 1733.18 1518.65 Q1732.4 1520.54 1730.29 1523.14 Q1729.71 1523.81 1726.61 1527.03 Q1723.51 1530.22 1717.86 1535.98 Z\" fill=\"#000000\" fill-rule=\"evenodd\" fill-opacity=\"1\" /><path clip-path=\"url(#clip930)\" d=\"M 0 0 M1749.25 1508.44 Q1745.64 1508.44 1743.81 1512 Q1742 1515.55 1742 1522.67 Q1742 1529.78 1743.81 1533.35 Q1745.64 1536.89 1749.25 1536.89 Q1752.88 1536.89 1754.69 1533.35 Q1756.52 1529.78 1756.52 1522.67 Q1756.52 1515.55 1754.69 1512 Q1752.88 1508.44 1749.25 1508.44 M1749.25 1504.73 Q1755.06 1504.73 1758.11 1509.34 Q1761.19 1513.92 1761.19 1522.67 Q1761.19 1531.4 1758.11 1536.01 Q1755.06 1540.59 1749.25 1540.59 Q1743.44 1540.59 1740.36 1536.01 Q1737.3 1531.4 1737.3 1522.67 Q1737.3 1513.92 1740.36 1509.34 Q1743.44 1504.73 1749.25 1504.73 Z\" fill=\"#000000\" fill-rule=\"evenodd\" fill-opacity=\"1\" /><path clip-path=\"url(#clip930)\" d=\"M 0 0 M1784.94 1506.63 L1784.94 1513.99 L1793.72 1513.99 L1793.72 1517.3 L1784.94 1517.3 L1784.94 1531.38 Q1784.94 1534.55 1785.8 1535.45 Q1786.68 1536.36 1789.34 1536.36 L1793.72 1536.36 L1793.72 1539.92 L1789.34 1539.92 Q1784.41 1539.92 1782.54 1538.09 Q1780.66 1536.24 1780.66 1531.38 L1780.66 1517.3 L1777.54 1517.3 L1777.54 1513.99 L1780.66 1513.99 L1780.66 1506.63 L1784.94 1506.63 Z\" fill=\"#000000\" fill-rule=\"evenodd\" fill-opacity=\"1\" /><path clip-path=\"url(#clip930)\" d=\"M 0 0 M1819.73 1524.27 L1819.73 1539.92 L1815.48 1539.92 L1815.48 1524.41 Q1815.48 1520.73 1814.04 1518.9 Q1812.6 1517.07 1809.73 1517.07 Q1806.29 1517.07 1804.29 1519.27 Q1802.3 1521.47 1802.3 1525.27 L1802.3 1539.92 L1798.02 1539.92 L1798.02 1503.9 L1802.3 1503.9 L1802.3 1518.02 Q1803.83 1515.68 1805.89 1514.53 Q1807.98 1513.37 1810.68 1513.37 Q1815.15 1513.37 1817.44 1516.15 Q1819.73 1518.9 1819.73 1524.27 Z\" fill=\"#000000\" fill-rule=\"evenodd\" fill-opacity=\"1\" /><path clip-path=\"url(#clip930)\" d=\"M 0 0 M1839.22 1517.98 Q1838.51 1517.56 1837.65 1517.37 Q1836.82 1517.17 1835.8 1517.17 Q1832.19 1517.17 1830.24 1519.53 Q1828.32 1521.86 1828.32 1526.26 L1828.32 1539.92 L1824.04 1539.92 L1824.04 1513.99 L1828.32 1513.99 L1828.32 1518.02 Q1829.66 1515.66 1831.82 1514.53 Q1833.97 1513.37 1837.05 1513.37 Q1837.49 1513.37 1838.02 1513.44 Q1838.55 1513.48 1839.2 1513.6 L1839.22 1517.98 Z\" fill=\"#000000\" fill-rule=\"evenodd\" fill-opacity=\"1\" /><path clip-path=\"url(#clip930)\" d=\"M 0 0 M1864.83 1525.89 L1864.83 1527.98 L1845.24 1527.98 Q1845.52 1532.37 1847.88 1534.69 Q1850.27 1536.98 1854.5 1536.98 Q1856.96 1536.98 1859.25 1536.38 Q1861.56 1535.78 1863.83 1534.57 L1863.83 1538.6 Q1861.54 1539.57 1859.13 1540.08 Q1856.72 1540.59 1854.25 1540.59 Q1848.04 1540.59 1844.41 1536.98 Q1840.8 1533.37 1840.8 1527.21 Q1840.8 1520.85 1844.22 1517.12 Q1847.67 1513.37 1853.51 1513.37 Q1858.74 1513.37 1861.77 1516.75 Q1864.83 1520.11 1864.83 1525.89 M1860.57 1524.64 Q1860.52 1521.15 1858.6 1519.06 Q1856.7 1516.98 1853.55 1516.98 Q1849.99 1516.98 1847.84 1518.99 Q1845.71 1521.01 1845.38 1524.67 L1860.57 1524.64 Z\" fill=\"#000000\" fill-rule=\"evenodd\" fill-opacity=\"1\" /><path clip-path=\"url(#clip930)\" d=\"M 0 0 M1881.08 1526.89 Q1875.91 1526.89 1873.92 1528.07 Q1871.93 1529.25 1871.93 1532.1 Q1871.93 1534.36 1873.41 1535.71 Q1874.92 1537.03 1877.49 1537.03 Q1881.03 1537.03 1883.16 1534.53 Q1885.31 1532 1885.31 1527.84 L1885.31 1526.89 L1881.08 1526.89 M1889.57 1525.13 L1889.57 1539.92 L1885.31 1539.92 L1885.31 1535.98 Q1883.85 1538.35 1881.68 1539.48 Q1879.5 1540.59 1876.35 1540.59 Q1872.37 1540.59 1870.01 1538.37 Q1867.67 1536.12 1867.67 1532.37 Q1867.67 1528 1870.59 1525.78 Q1873.53 1523.55 1879.34 1523.55 L1885.31 1523.55 L1885.31 1523.14 Q1885.31 1520.2 1883.37 1518.6 Q1881.45 1516.98 1877.95 1516.98 Q1875.73 1516.98 1873.62 1517.51 Q1871.52 1518.04 1869.57 1519.11 L1869.57 1515.17 Q1871.91 1514.27 1874.11 1513.83 Q1876.31 1513.37 1878.39 1513.37 Q1884.02 1513.37 1886.79 1516.29 Q1889.57 1519.2 1889.57 1525.13 Z\" fill=\"#000000\" fill-rule=\"evenodd\" fill-opacity=\"1\" /><path clip-path=\"url(#clip930)\" d=\"M 0 0 M1911.1 1517.93 L1911.1 1503.9 L1915.36 1503.9 L1915.36 1539.92 L1911.1 1539.92 L1911.1 1536.03 Q1909.76 1538.35 1907.7 1539.48 Q1905.66 1540.59 1902.79 1540.59 Q1898.09 1540.59 1895.13 1536.84 Q1892.19 1533.09 1892.19 1526.98 Q1892.19 1520.87 1895.13 1517.12 Q1898.09 1513.37 1902.79 1513.37 Q1905.66 1513.37 1907.7 1514.5 Q1909.76 1515.61 1911.1 1517.93 M1896.59 1526.98 Q1896.59 1531.68 1898.51 1534.36 Q1900.45 1537.03 1903.83 1537.03 Q1907.21 1537.03 1909.16 1534.36 Q1911.1 1531.68 1911.1 1526.98 Q1911.1 1522.28 1909.16 1519.62 Q1907.21 1516.93 1903.83 1516.93 Q1900.45 1516.93 1898.51 1519.62 Q1896.59 1522.28 1896.59 1526.98 Z\" fill=\"#000000\" fill-rule=\"evenodd\" fill-opacity=\"1\" /><path clip-path=\"url(#clip930)\" d=\"M 0 0 M1936.35 1514.76 L1936.35 1518.79 Q1934.55 1517.86 1932.6 1517.4 Q1930.66 1516.93 1928.58 1516.93 Q1925.4 1516.93 1923.81 1517.91 Q1922.23 1518.88 1922.23 1520.82 Q1922.23 1522.3 1923.37 1523.16 Q1924.5 1523.99 1927.93 1524.76 L1929.39 1525.08 Q1933.92 1526.05 1935.82 1527.84 Q1937.74 1529.6 1937.74 1532.77 Q1937.74 1536.38 1934.87 1538.48 Q1932.03 1540.59 1927.03 1540.59 Q1924.94 1540.59 1922.67 1540.17 Q1920.43 1539.78 1917.93 1538.97 L1917.93 1534.57 Q1920.29 1535.8 1922.58 1536.42 Q1924.87 1537.03 1927.12 1537.03 Q1930.13 1537.03 1931.75 1536.01 Q1933.37 1534.97 1933.37 1533.09 Q1933.37 1531.36 1932.19 1530.43 Q1931.03 1529.5 1927.07 1528.65 L1925.59 1528.3 Q1921.63 1527.47 1919.87 1525.75 Q1918.11 1524.02 1918.11 1521.01 Q1918.11 1517.35 1920.71 1515.36 Q1923.3 1513.37 1928.07 1513.37 Q1930.43 1513.37 1932.51 1513.72 Q1934.59 1514.06 1936.35 1514.76 Z\" fill=\"#000000\" fill-rule=\"evenodd\" fill-opacity=\"1\" /><path clip-path=\"url(#clip930)\" d=\"M 0 0 M193.528 1433.67 Q189.917 1433.67 188.089 1437.24 Q186.283 1440.78 186.283 1447.91 Q186.283 1455.01 188.089 1458.58 Q189.917 1462.12 193.528 1462.12 Q197.163 1462.12 198.968 1458.58 Q200.797 1455.01 200.797 1447.91 Q200.797 1440.78 198.968 1437.24 Q197.163 1433.67 193.528 1433.67 M193.528 1429.97 Q199.338 1429.97 202.394 1434.57 Q205.473 1439.16 205.473 1447.91 Q205.473 1456.63 202.394 1461.24 Q199.338 1465.82 193.528 1465.82 Q187.718 1465.82 184.639 1461.24 Q181.584 1456.63 181.584 1447.91 Q181.584 1439.16 184.639 1434.57 Q187.718 1429.97 193.528 1429.97 Z\" fill=\"#000000\" fill-rule=\"evenodd\" fill-opacity=\"1\" /><path clip-path=\"url(#clip930)\" d=\"M 0 0 M131.538 1134.04 L139.177 1134.04 L139.177 1107.67 L130.867 1109.34 L130.867 1105.08 L139.13 1103.41 L143.806 1103.41 L143.806 1134.04 L151.445 1134.04 L151.445 1137.97 L131.538 1137.97 L131.538 1134.04 Z\" fill=\"#000000\" fill-rule=\"evenodd\" fill-opacity=\"1\" /><path clip-path=\"url(#clip930)\" d=\"M 0 0 M166.515 1106.49 Q162.903 1106.49 161.075 1110.05 Q159.269 1113.6 159.269 1120.73 Q159.269 1127.83 161.075 1131.4 Q162.903 1134.94 166.515 1134.94 Q170.149 1134.94 171.954 1131.4 Q173.783 1127.83 173.783 1120.73 Q173.783 1113.6 171.954 1110.05 Q170.149 1106.49 166.515 1106.49 M166.515 1102.79 Q172.325 1102.79 175.38 1107.39 Q178.459 1111.98 178.459 1120.73 Q178.459 1129.45 175.38 1134.06 Q172.325 1138.64 166.515 1138.64 Q160.704 1138.64 157.626 1134.06 Q154.57 1129.45 154.57 1120.73 Q154.57 1111.98 157.626 1107.39 Q160.704 1102.79 166.515 1102.79 Z\" fill=\"#000000\" fill-rule=\"evenodd\" fill-opacity=\"1\" /><path clip-path=\"url(#clip930)\" d=\"M 0 0 M193.528 1106.49 Q189.917 1106.49 188.089 1110.05 Q186.283 1113.6 186.283 1120.73 Q186.283 1127.83 188.089 1131.4 Q189.917 1134.94 193.528 1134.94 Q197.163 1134.94 198.968 1131.4 Q200.797 1127.83 200.797 1120.73 Q200.797 1113.6 198.968 1110.05 Q197.163 1106.49 193.528 1106.49 M193.528 1102.79 Q199.338 1102.79 202.394 1107.39 Q205.473 1111.98 205.473 1120.73 Q205.473 1129.45 202.394 1134.06 Q199.338 1138.64 193.528 1138.64 Q187.718 1138.64 184.639 1134.06 Q181.584 1129.45 181.584 1120.73 Q181.584 1111.98 184.639 1107.39 Q187.718 1102.79 193.528 1102.79 Z\" fill=\"#000000\" fill-rule=\"evenodd\" fill-opacity=\"1\" /><path clip-path=\"url(#clip930)\" d=\"M 0 0 M135.126 806.853 L151.445 806.853 L151.445 810.789 L129.501 810.789 L129.501 806.853 Q132.163 804.099 136.746 799.469 Q141.353 794.816 142.533 793.474 Q144.779 790.951 145.658 789.215 Q146.561 787.455 146.561 785.766 Q146.561 783.011 144.617 781.275 Q142.695 779.539 139.593 779.539 Q137.394 779.539 134.941 780.303 Q132.51 781.067 129.732 782.617 L129.732 777.895 Q132.556 776.761 135.01 776.182 Q137.464 775.604 139.501 775.604 Q144.871 775.604 148.066 778.289 Q151.26 780.974 151.26 785.465 Q151.26 787.594 150.45 789.516 Q149.663 791.414 147.556 794.006 Q146.978 794.678 143.876 797.895 Q140.774 801.09 135.126 806.853 Z\" fill=\"#000000\" fill-rule=\"evenodd\" fill-opacity=\"1\" /><path clip-path=\"url(#clip930)\" d=\"M 0 0 M166.515 779.307 Q162.903 779.307 161.075 782.872 Q159.269 786.414 159.269 793.543 Q159.269 800.65 161.075 804.215 Q162.903 807.756 166.515 807.756 Q170.149 807.756 171.954 804.215 Q173.783 800.65 173.783 793.543 Q173.783 786.414 171.954 782.872 Q170.149 779.307 166.515 779.307 M166.515 775.604 Q172.325 775.604 175.38 780.21 Q178.459 784.793 178.459 793.543 Q178.459 802.27 175.38 806.877 Q172.325 811.46 166.515 811.46 Q160.704 811.46 157.626 806.877 Q154.57 802.27 154.57 793.543 Q154.57 784.793 157.626 780.21 Q160.704 775.604 166.515 775.604 Z\" fill=\"#000000\" fill-rule=\"evenodd\" fill-opacity=\"1\" /><path clip-path=\"url(#clip930)\" d=\"M 0 0 M193.528 779.307 Q189.917 779.307 188.089 782.872 Q186.283 786.414 186.283 793.543 Q186.283 800.65 188.089 804.215 Q189.917 807.756 193.528 807.756 Q197.163 807.756 198.968 804.215 Q200.797 800.65 200.797 793.543 Q200.797 786.414 198.968 782.872 Q197.163 779.307 193.528 779.307 M193.528 775.604 Q199.338 775.604 202.394 780.21 Q205.473 784.793 205.473 793.543 Q205.473 802.27 202.394 806.877 Q199.338 811.46 193.528 811.46 Q187.718 811.46 184.639 806.877 Q181.584 802.27 181.584 793.543 Q181.584 784.793 184.639 780.21 Q187.718 775.604 193.528 775.604 Z\" fill=\"#000000\" fill-rule=\"evenodd\" fill-opacity=\"1\" /><path clip-path=\"url(#clip930)\" d=\"M 0 0 M144.316 464.972 Q147.672 465.69 149.547 467.958 Q151.445 470.227 151.445 473.56 Q151.445 478.676 147.927 481.477 Q144.408 484.278 137.927 484.278 Q135.751 484.278 133.436 483.838 Q131.144 483.421 128.691 482.565 L128.691 478.051 Q130.635 479.185 132.95 479.764 Q135.265 480.343 137.788 480.343 Q142.186 480.343 144.478 478.606 Q146.792 476.87 146.792 473.56 Q146.792 470.505 144.64 468.792 Q142.51 467.056 138.691 467.056 L134.663 467.056 L134.663 463.213 L138.876 463.213 Q142.325 463.213 144.154 461.847 Q145.982 460.458 145.982 457.866 Q145.982 455.204 144.084 453.792 Q142.209 452.357 138.691 452.357 Q136.769 452.357 134.57 452.773 Q132.371 453.19 129.732 454.07 L129.732 449.903 Q132.394 449.162 134.709 448.792 Q137.047 448.421 139.107 448.421 Q144.431 448.421 147.533 450.852 Q150.635 453.259 150.635 457.38 Q150.635 460.25 148.992 462.241 Q147.348 464.208 144.316 464.972 Z\" fill=\"#000000\" fill-rule=\"evenodd\" fill-opacity=\"1\" /><path clip-path=\"url(#clip930)\" d=\"M 0 0 M166.515 452.125 Q162.903 452.125 161.075 455.69 Q159.269 459.232 159.269 466.361 Q159.269 473.468 161.075 477.032 Q162.903 480.574 166.515 480.574 Q170.149 480.574 171.954 477.032 Q173.783 473.468 173.783 466.361 Q173.783 459.232 171.954 455.69 Q170.149 452.125 166.515 452.125 M166.515 448.421 Q172.325 448.421 175.38 453.028 Q178.459 457.611 178.459 466.361 Q178.459 475.088 175.38 479.694 Q172.325 484.278 166.515 484.278 Q160.704 484.278 157.626 479.694 Q154.57 475.088 154.57 466.361 Q154.57 457.611 157.626 453.028 Q160.704 448.421 166.515 448.421 Z\" fill=\"#000000\" fill-rule=\"evenodd\" fill-opacity=\"1\" /><path clip-path=\"url(#clip930)\" d=\"M 0 0 M193.528 452.125 Q189.917 452.125 188.089 455.69 Q186.283 459.232 186.283 466.361 Q186.283 473.468 188.089 477.032 Q189.917 480.574 193.528 480.574 Q197.163 480.574 198.968 477.032 Q200.797 473.468 200.797 466.361 Q200.797 459.232 198.968 455.69 Q197.163 452.125 193.528 452.125 M193.528 448.421 Q199.338 448.421 202.394 453.028 Q205.473 457.611 205.473 466.361 Q205.473 475.088 202.394 479.694 Q199.338 484.278 193.528 484.278 Q187.718 484.278 184.639 479.694 Q181.584 475.088 181.584 466.361 Q181.584 457.611 184.639 453.028 Q187.718 448.421 193.528 448.421 Z\" fill=\"#000000\" fill-rule=\"evenodd\" fill-opacity=\"1\" /><path clip-path=\"url(#clip930)\" d=\"M 0 0 M141.862 125.938 L130.056 144.387 L141.862 144.387 L141.862 125.938 M140.635 121.864 L146.515 121.864 L146.515 144.387 L151.445 144.387 L151.445 148.276 L146.515 148.276 L146.515 156.424 L141.862 156.424 L141.862 148.276 L126.26 148.276 L126.26 143.762 L140.635 121.864 Z\" fill=\"#000000\" fill-rule=\"evenodd\" fill-opacity=\"1\" /><path clip-path=\"url(#clip930)\" d=\"M 0 0 M166.515 124.943 Q162.903 124.943 161.075 128.508 Q159.269 132.049 159.269 139.179 Q159.269 146.285 161.075 149.85 Q162.903 153.392 166.515 153.392 Q170.149 153.392 171.954 149.85 Q173.783 146.285 173.783 139.179 Q173.783 132.049 171.954 128.508 Q170.149 124.943 166.515 124.943 M166.515 121.239 Q172.325 121.239 175.38 125.846 Q178.459 130.429 178.459 139.179 Q178.459 147.906 175.38 152.512 Q172.325 157.095 166.515 157.095 Q160.704 157.095 157.626 152.512 Q154.57 147.906 154.57 139.179 Q154.57 130.429 157.626 125.846 Q160.704 121.239 166.515 121.239 Z\" fill=\"#000000\" fill-rule=\"evenodd\" fill-opacity=\"1\" /><path clip-path=\"url(#clip930)\" d=\"M 0 0 M193.528 124.943 Q189.917 124.943 188.089 128.508 Q186.283 132.049 186.283 139.179 Q186.283 146.285 188.089 149.85 Q189.917 153.392 193.528 153.392 Q197.163 153.392 198.968 149.85 Q200.797 146.285 200.797 139.179 Q200.797 132.049 198.968 128.508 Q197.163 124.943 193.528 124.943 M193.528 121.239 Q199.338 121.239 202.394 125.846 Q205.473 130.429 205.473 139.179 Q205.473 147.906 202.394 152.512 Q199.338 157.095 193.528 157.095 Q187.718 157.095 184.639 152.512 Q181.584 147.906 181.584 139.179 Q181.584 130.429 184.639 125.846 Q187.718 121.239 193.528 121.239 Z\" fill=\"#000000\" fill-rule=\"evenodd\" fill-opacity=\"1\" /><path clip-path=\"url(#clip930)\" d=\"M 0 0 M740.536 16.7545 L740.536 25.383 Q736.404 21.5346 731.705 19.6307 Q727.046 17.7268 721.78 17.7268 Q711.41 17.7268 705.9 24.0867 Q700.391 30.4061 700.391 42.3968 Q700.391 54.3469 705.9 60.7069 Q711.41 67.0263 721.78 67.0263 Q727.046 67.0263 731.705 65.1223 Q736.404 63.2184 740.536 59.3701 L740.536 67.9175 Q736.242 70.8341 731.421 72.2924 Q726.641 73.7508 721.294 73.7508 Q707.561 73.7508 699.662 65.3654 Q691.763 56.9395 691.763 42.3968 Q691.763 27.8135 699.662 19.4281 Q707.561 11.0023 721.294 11.0023 Q726.722 11.0023 731.502 12.4606 Q736.323 13.8784 740.536 16.7545 Z\" fill=\"#000000\" fill-rule=\"evenodd\" fill-opacity=\"1\" /><path clip-path=\"url(#clip930)\" d=\"M 0 0 M784.934 14.0809 L784.934 22.0612 Q780.275 19.8332 776.143 18.7395 Q772.011 17.6457 768.163 17.6457 Q761.479 17.6457 757.833 20.2383 Q754.228 22.8309 754.228 27.611 Q754.228 31.6214 756.618 33.6873 Q759.048 35.7128 765.773 36.9686 L770.715 37.9813 Q779.87 39.7232 784.204 44.1387 Q788.579 48.5136 788.579 55.8863 Q788.579 64.6767 782.665 69.2137 Q776.791 73.7508 765.408 73.7508 Q761.114 73.7508 756.253 72.7785 Q751.433 71.8063 746.247 69.9024 L746.247 61.4765 Q751.23 64.2716 756.01 65.6895 Q760.79 67.1073 765.408 67.1073 Q772.416 67.1073 776.224 64.3527 Q780.032 61.598 780.032 56.4939 Q780.032 52.0379 777.277 49.5264 Q774.563 47.0148 768.325 45.759 L763.342 44.7868 Q754.187 42.9639 750.096 39.075 Q746.004 35.1862 746.004 28.2591 Q746.004 20.2383 751.635 15.6203 Q757.306 11.0023 767.231 11.0023 Q771.485 11.0023 775.9 11.7719 Q780.316 12.5416 784.934 14.0809 Z\" fill=\"#000000\" fill-rule=\"evenodd\" fill-opacity=\"1\" /><path clip-path=\"url(#clip930)\" d=\"M 0 0 M812.318 72.576 L789.228 12.096 L797.775 12.096 L816.936 63.0159 L836.137 12.096 L844.644 12.096 L821.594 72.576 L812.318 72.576 Z\" fill=\"#000000\" fill-rule=\"evenodd\" fill-opacity=\"1\" /><path clip-path=\"url(#clip930)\" d=\"M 0 0 M878.834 9.54393 L886.287 9.54393 L886.287 72.576 L878.834 72.576 L878.834 9.54393 Z\" fill=\"#000000\" fill-rule=\"evenodd\" fill-opacity=\"1\" /><path clip-path=\"url(#clip930)\" d=\"M 0 0 M911.686 32.4315 Q905.691 32.4315 902.207 37.1306 Q898.723 41.7891 898.723 49.9314 Q898.723 58.0738 902.167 62.7728 Q905.651 67.4314 911.686 67.4314 Q917.641 67.4314 921.125 62.7323 Q924.609 58.0333 924.609 49.9314 Q924.609 41.8701 921.125 37.1711 Q917.641 32.4315 911.686 32.4315 M911.686 26.1121 Q921.409 26.1121 926.958 32.4315 Q932.508 38.7509 932.508 49.9314 Q932.508 61.0714 926.958 67.4314 Q921.409 73.7508 911.686 73.7508 Q901.924 73.7508 896.374 67.4314 Q890.865 61.0714 890.865 49.9314 Q890.865 38.7509 896.374 32.4315 Q901.924 26.1121 911.686 26.1121 Z\" fill=\"#000000\" fill-rule=\"evenodd\" fill-opacity=\"1\" /><path clip-path=\"url(#clip930)\" d=\"M 0 0 M960.945 49.7694 Q951.912 49.7694 948.428 51.8354 Q944.944 53.9013 944.944 58.8839 Q944.944 62.8538 947.537 65.2034 Q950.17 67.5124 954.666 67.5124 Q960.864 67.5124 964.591 63.1374 Q968.359 58.7219 968.359 51.4303 L968.359 49.7694 L960.945 49.7694 M975.812 46.6907 L975.812 72.576 L968.359 72.576 L968.359 65.6895 Q965.806 69.8214 961.999 71.8063 Q958.191 73.7508 952.682 73.7508 Q945.714 73.7508 941.582 69.8619 Q937.491 65.9325 937.491 59.3701 Q937.491 51.7138 942.595 47.825 Q947.739 43.9361 957.907 43.9361 L968.359 43.9361 L968.359 43.2069 Q968.359 38.0623 964.956 35.2672 Q961.593 32.4315 955.477 32.4315 Q951.588 32.4315 947.901 33.3632 Q944.215 34.295 940.812 36.1584 L940.812 29.2718 Q944.904 27.692 948.752 26.9223 Q952.6 26.1121 956.246 26.1121 Q966.09 26.1121 970.951 31.2163 Q975.812 36.3204 975.812 46.6907 Z\" fill=\"#000000\" fill-rule=\"evenodd\" fill-opacity=\"1\" /><path clip-path=\"url(#clip930)\" d=\"M 0 0 M1013.49 34.0924 L1013.49 9.54393 L1020.94 9.54393 L1020.94 72.576 L1013.49 72.576 L1013.49 65.7705 Q1011.14 69.8214 1007.53 71.8063 Q1003.97 73.7508 998.943 73.7508 Q990.719 73.7508 985.534 67.1883 Q980.39 60.6258 980.39 49.9314 Q980.39 39.2371 985.534 32.6746 Q990.719 26.1121 998.943 26.1121 Q1003.97 26.1121 1007.53 28.0971 Q1011.14 30.0415 1013.49 34.0924 M988.086 49.9314 Q988.086 58.1548 991.449 62.8538 Q994.851 67.5124 1000.77 67.5124 Q1006.68 67.5124 1010.08 62.8538 Q1013.49 58.1548 1013.49 49.9314 Q1013.49 41.7081 1010.08 37.0496 Q1006.68 32.3505 1000.77 32.3505 Q994.851 32.3505 991.449 37.0496 Q988.086 41.7081 988.086 49.9314 Z\" fill=\"#000000\" fill-rule=\"evenodd\" fill-opacity=\"1\" /><path clip-path=\"url(#clip930)\" d=\"M 0 0 M1028.76 27.2059 L1036.21 27.2059 L1036.21 72.576 L1028.76 72.576 L1028.76 27.2059 M1028.76 9.54393 L1036.21 9.54393 L1036.21 18.9825 L1028.76 18.9825 L1028.76 9.54393 Z\" fill=\"#000000\" fill-rule=\"evenodd\" fill-opacity=\"1\" /><path clip-path=\"url(#clip930)\" d=\"M 0 0 M1081.74 45.1919 L1081.74 72.576 L1074.29 72.576 L1074.29 45.4349 Q1074.29 38.994 1071.78 35.7938 Q1069.27 32.5936 1064.24 32.5936 Q1058.21 32.5936 1054.72 36.4419 Q1051.24 40.2903 1051.24 46.9338 L1051.24 72.576 L1043.75 72.576 L1043.75 27.2059 L1051.24 27.2059 L1051.24 34.2544 Q1053.91 30.163 1057.52 28.1376 Q1061.16 26.1121 1065.9 26.1121 Q1073.72 26.1121 1077.73 30.9732 Q1081.74 35.7938 1081.74 45.1919 Z\" fill=\"#000000\" fill-rule=\"evenodd\" fill-opacity=\"1\" /><path clip-path=\"url(#clip930)\" d=\"M 0 0 M1119.42 49.3643 Q1119.42 41.2625 1116.05 36.8065 Q1112.73 32.3505 1106.7 32.3505 Q1100.7 32.3505 1097.34 36.8065 Q1094.02 41.2625 1094.02 49.3643 Q1094.02 57.4256 1097.34 61.8816 Q1100.7 66.3376 1106.7 66.3376 Q1112.73 66.3376 1116.05 61.8816 Q1119.42 57.4256 1119.42 49.3643 M1126.87 66.9452 Q1126.87 78.5308 1121.73 84.1616 Q1116.58 89.8329 1105.97 89.8329 Q1102.04 89.8329 1098.55 89.2252 Q1095.07 88.6581 1091.79 87.4428 L1091.79 80.1917 Q1095.07 81.9741 1098.27 82.8248 Q1101.47 83.6755 1104.79 83.6755 Q1112.13 83.6755 1115.77 79.8271 Q1119.42 76.0193 1119.42 68.282 L1119.42 64.5957 Q1117.11 68.6061 1113.5 70.5911 Q1109.9 72.576 1104.87 72.576 Q1096.53 72.576 1091.42 66.2161 Q1086.32 59.8562 1086.32 49.3643 Q1086.32 38.832 1091.42 32.472 Q1096.53 26.1121 1104.87 26.1121 Q1109.9 26.1121 1113.5 28.0971 Q1117.11 30.082 1119.42 34.0924 L1119.42 27.2059 L1126.87 27.2059 L1126.87 66.9452 Z\" fill=\"#000000\" fill-rule=\"evenodd\" fill-opacity=\"1\" /><path clip-path=\"url(#clip930)\" d=\"M 0 0 M1156.73 27.2059 L1164.18 27.2059 L1173.5 62.6108 L1182.77 27.2059 L1191.56 27.2059 L1200.88 62.6108 L1210.16 27.2059 L1217.61 27.2059 L1205.74 72.576 L1196.95 72.576 L1187.19 35.3887 L1177.39 72.576 L1168.59 72.576 L1156.73 27.2059 Z\" fill=\"#000000\" fill-rule=\"evenodd\" fill-opacity=\"1\" /><path clip-path=\"url(#clip930)\" d=\"M 0 0 M1225.43 27.2059 L1232.88 27.2059 L1232.88 72.576 L1225.43 72.576 L1225.43 27.2059 M1225.43 9.54393 L1232.88 9.54393 L1232.88 18.9825 L1225.43 18.9825 L1225.43 9.54393 Z\" fill=\"#000000\" fill-rule=\"evenodd\" fill-opacity=\"1\" /><path clip-path=\"url(#clip930)\" d=\"M 0 0 M1248.07 14.324 L1248.07 27.2059 L1263.43 27.2059 L1263.43 32.9987 L1248.07 32.9987 L1248.07 57.6282 Q1248.07 63.1779 1249.57 64.7578 Q1251.11 66.3376 1255.77 66.3376 L1263.43 66.3376 L1263.43 72.576 L1255.77 72.576 Q1247.14 72.576 1243.86 69.3758 Q1240.58 66.1351 1240.58 57.6282 L1240.58 32.9987 L1235.11 32.9987 L1235.11 27.2059 L1240.58 27.2059 L1240.58 14.324 L1248.07 14.324 Z\" fill=\"#000000\" fill-rule=\"evenodd\" fill-opacity=\"1\" /><path clip-path=\"url(#clip930)\" d=\"M 0 0 M1308.96 45.1919 L1308.96 72.576 L1301.5 72.576 L1301.5 45.4349 Q1301.5 38.994 1298.99 35.7938 Q1296.48 32.5936 1291.46 32.5936 Q1285.42 32.5936 1281.94 36.4419 Q1278.46 40.2903 1278.46 46.9338 L1278.46 72.576 L1270.96 72.576 L1270.96 9.54393 L1278.46 9.54393 L1278.46 34.2544 Q1281.13 30.163 1284.73 28.1376 Q1288.38 26.1121 1293.12 26.1121 Q1300.94 26.1121 1304.95 30.9732 Q1308.96 35.7938 1308.96 45.1919 Z\" fill=\"#000000\" fill-rule=\"evenodd\" fill-opacity=\"1\" /><path clip-path=\"url(#clip930)\" d=\"M 0 0 M1378.47 35.9153 Q1381.27 30.8922 1385.16 28.5022 Q1389.04 26.1121 1394.31 26.1121 Q1401.4 26.1121 1405.25 31.0947 Q1409.1 36.0368 1409.1 45.1919 L1409.1 72.576 L1401.6 72.576 L1401.6 45.4349 Q1401.6 38.913 1399.29 35.7533 Q1396.98 32.5936 1392.25 32.5936 Q1386.45 32.5936 1383.09 36.4419 Q1379.73 40.2903 1379.73 46.9338 L1379.73 72.576 L1372.23 72.576 L1372.23 45.4349 Q1372.23 38.8725 1369.92 35.7533 Q1367.62 32.5936 1362.8 32.5936 Q1357.08 32.5936 1353.72 36.4824 Q1350.36 40.3308 1350.36 46.9338 L1350.36 72.576 L1342.86 72.576 L1342.86 27.2059 L1350.36 27.2059 L1350.36 34.2544 Q1352.91 30.082 1356.48 28.0971 Q1360.04 26.1121 1364.94 26.1121 Q1369.88 26.1121 1373.33 28.6237 Q1376.81 31.1352 1378.47 35.9153 Z\" fill=\"#000000\" fill-rule=\"evenodd\" fill-opacity=\"1\" /><path clip-path=\"url(#clip930)\" d=\"M 0 0 M1416.15 54.671 L1416.15 27.2059 L1423.6 27.2059 L1423.6 54.3874 Q1423.6 60.8284 1426.11 64.0691 Q1428.62 67.2693 1433.65 67.2693 Q1439.68 67.2693 1443.16 63.421 Q1446.69 59.5726 1446.69 52.9291 L1446.69 27.2059 L1454.14 27.2059 L1454.14 72.576 L1446.69 72.576 L1446.69 65.6084 Q1443.98 69.7404 1440.37 71.7658 Q1436.81 73.7508 1432.07 73.7508 Q1424.25 73.7508 1420.2 68.8897 Q1416.15 64.0286 1416.15 54.671 M1434.9 26.1121 L1434.9 26.1121 Z\" fill=\"#000000\" fill-rule=\"evenodd\" fill-opacity=\"1\" /><path clip-path=\"url(#clip930)\" d=\"M 0 0 M1461.96 9.54393 L1469.41 9.54393 L1469.41 72.576 L1461.96 72.576 L1461.96 9.54393 Z\" fill=\"#000000\" fill-rule=\"evenodd\" fill-opacity=\"1\" /><path clip-path=\"url(#clip930)\" d=\"M 0 0 M1484.61 14.324 L1484.61 27.2059 L1499.96 27.2059 L1499.96 32.9987 L1484.61 32.9987 L1484.61 57.6282 Q1484.61 63.1779 1486.1 64.7578 Q1487.64 66.3376 1492.3 66.3376 L1499.96 66.3376 L1499.96 72.576 L1492.3 72.576 Q1483.67 72.576 1480.39 69.3758 Q1477.11 66.1351 1477.11 57.6282 L1477.11 32.9987 L1471.64 32.9987 L1471.64 27.2059 L1477.11 27.2059 L1477.11 14.324 L1484.61 14.324 Z\" fill=\"#000000\" fill-rule=\"evenodd\" fill-opacity=\"1\" /><path clip-path=\"url(#clip930)\" d=\"M 0 0 M1507.78 27.2059 L1515.23 27.2059 L1515.23 72.576 L1507.78 72.576 L1507.78 27.2059 M1507.78 9.54393 L1515.23 9.54393 L1515.23 18.9825 L1507.78 18.9825 L1507.78 9.54393 Z\" fill=\"#000000\" fill-rule=\"evenodd\" fill-opacity=\"1\" /><path clip-path=\"url(#clip930)\" d=\"M 0 0 M1519.28 46.5287 L1541.12 46.5287 L1541.12 53.1722 L1519.28 53.1722 L1519.28 46.5287 Z\" fill=\"#000000\" fill-rule=\"evenodd\" fill-opacity=\"1\" /><path clip-path=\"url(#clip930)\" d=\"M 0 0 M1556.31 14.324 L1556.31 27.2059 L1571.66 27.2059 L1571.66 32.9987 L1556.31 32.9987 L1556.31 57.6282 Q1556.31 63.1779 1557.81 64.7578 Q1559.34 66.3376 1564 66.3376 L1571.66 66.3376 L1571.66 72.576 L1564 72.576 Q1555.38 72.576 1552.09 69.3758 Q1548.81 66.1351 1548.81 57.6282 L1548.81 32.9987 L1543.34 32.9987 L1543.34 27.2059 L1548.81 27.2059 L1548.81 14.324 L1556.31 14.324 Z\" fill=\"#000000\" fill-rule=\"evenodd\" fill-opacity=\"1\" /><path clip-path=\"url(#clip930)\" d=\"M 0 0 M1617.19 45.1919 L1617.19 72.576 L1609.74 72.576 L1609.74 45.4349 Q1609.74 38.994 1607.23 35.7938 Q1604.72 32.5936 1599.69 32.5936 Q1593.66 32.5936 1590.17 36.4419 Q1586.69 40.2903 1586.69 46.9338 L1586.69 72.576 L1579.19 72.576 L1579.19 9.54393 L1586.69 9.54393 L1586.69 34.2544 Q1589.36 30.163 1592.97 28.1376 Q1596.61 26.1121 1601.35 26.1121 Q1609.17 26.1121 1613.18 30.9732 Q1617.19 35.7938 1617.19 45.1919 Z\" fill=\"#000000\" fill-rule=\"evenodd\" fill-opacity=\"1\" /><path clip-path=\"url(#clip930)\" d=\"M 0 0 M1651.3 34.1734 Q1650.04 33.4443 1648.55 33.1202 Q1647.09 32.7556 1645.31 32.7556 Q1638.99 32.7556 1635.58 36.8875 Q1632.22 40.9789 1632.22 48.6757 L1632.22 72.576 L1624.73 72.576 L1624.73 27.2059 L1632.22 27.2059 L1632.22 34.2544 Q1634.57 30.1225 1638.34 28.1376 Q1642.1 26.1121 1647.49 26.1121 Q1648.26 26.1121 1649.19 26.2337 Q1650.13 26.3147 1651.26 26.5172 L1651.3 34.1734 Z\" fill=\"#000000\" fill-rule=\"evenodd\" fill-opacity=\"1\" /><path clip-path=\"url(#clip930)\" d=\"M 0 0 M1696.1 48.0275 L1696.1 51.6733 L1661.83 51.6733 Q1662.32 59.3701 1666.45 63.421 Q1670.62 67.4314 1678.04 67.4314 Q1682.33 67.4314 1686.34 66.3781 Q1690.39 65.3249 1694.36 63.2184 L1694.36 70.267 Q1690.35 71.9684 1686.14 72.8596 Q1681.93 73.7508 1677.59 73.7508 Q1666.73 73.7508 1660.37 67.4314 Q1654.06 61.1119 1654.06 50.3365 Q1654.06 39.1965 1660.05 32.6746 Q1666.09 26.1121 1676.29 26.1121 Q1685.45 26.1121 1690.76 32.0264 Q1696.1 37.9003 1696.1 48.0275 M1688.65 45.84 Q1688.57 39.7232 1685.21 36.0774 Q1681.88 32.4315 1676.38 32.4315 Q1670.14 32.4315 1666.37 35.9558 Q1662.64 39.4801 1662.08 45.8805 L1688.65 45.84 Z\" fill=\"#000000\" fill-rule=\"evenodd\" fill-opacity=\"1\" /><path clip-path=\"url(#clip930)\" d=\"M 0 0 M1724.54 49.7694 Q1715.51 49.7694 1712.02 51.8354 Q1708.54 53.9013 1708.54 58.8839 Q1708.54 62.8538 1711.13 65.2034 Q1713.77 67.5124 1718.26 67.5124 Q1724.46 67.5124 1728.19 63.1374 Q1731.95 58.7219 1731.95 51.4303 L1731.95 49.7694 L1724.54 49.7694 M1739.41 46.6907 L1739.41 72.576 L1731.95 72.576 L1731.95 65.6895 Q1729.4 69.8214 1725.59 71.8063 Q1721.79 73.7508 1716.28 73.7508 Q1709.31 73.7508 1705.18 69.8619 Q1701.09 65.9325 1701.09 59.3701 Q1701.09 51.7138 1706.19 47.825 Q1711.33 43.9361 1721.5 43.9361 L1731.95 43.9361 L1731.95 43.2069 Q1731.95 38.0623 1728.55 35.2672 Q1725.19 32.4315 1719.07 32.4315 Q1715.18 32.4315 1711.5 33.3632 Q1707.81 34.295 1704.41 36.1584 L1704.41 29.2718 Q1708.5 27.692 1712.35 26.9223 Q1716.2 26.1121 1719.84 26.1121 Q1729.69 26.1121 1734.55 31.2163 Q1739.41 36.3204 1739.41 46.6907 Z\" fill=\"#000000\" fill-rule=\"evenodd\" fill-opacity=\"1\" /><path clip-path=\"url(#clip930)\" d=\"M 0 0 M1777.08 34.0924 L1777.08 9.54393 L1784.53 9.54393 L1784.53 72.576 L1777.08 72.576 L1777.08 65.7705 Q1774.73 69.8214 1771.13 71.8063 Q1767.56 73.7508 1762.54 73.7508 Q1754.31 73.7508 1749.13 67.1883 Q1743.99 60.6258 1743.99 49.9314 Q1743.99 39.2371 1749.13 32.6746 Q1754.31 26.1121 1762.54 26.1121 Q1767.56 26.1121 1771.13 28.0971 Q1774.73 30.0415 1777.08 34.0924 M1751.68 49.9314 Q1751.68 58.1548 1755.04 62.8538 Q1758.45 67.5124 1764.36 67.5124 Q1770.28 67.5124 1773.68 62.8538 Q1777.08 58.1548 1777.08 49.9314 Q1777.08 41.7081 1773.68 37.0496 Q1770.28 32.3505 1764.36 32.3505 Q1758.45 32.3505 1755.04 37.0496 Q1751.68 41.7081 1751.68 49.9314 Z\" fill=\"#000000\" fill-rule=\"evenodd\" fill-opacity=\"1\" /><path clip-path=\"url(#clip930)\" d=\"M 0 0 M1792.35 27.2059 L1799.81 27.2059 L1799.81 72.576 L1792.35 72.576 L1792.35 27.2059 M1792.35 9.54393 L1799.81 9.54393 L1799.81 18.9825 L1792.35 18.9825 L1792.35 9.54393 Z\" fill=\"#000000\" fill-rule=\"evenodd\" fill-opacity=\"1\" /><path clip-path=\"url(#clip930)\" d=\"M 0 0 M1845.34 45.1919 L1845.34 72.576 L1837.89 72.576 L1837.89 45.4349 Q1837.89 38.994 1835.37 35.7938 Q1832.86 32.5936 1827.84 32.5936 Q1821.8 32.5936 1818.32 36.4419 Q1814.84 40.2903 1814.84 46.9338 L1814.84 72.576 L1807.34 72.576 L1807.34 27.2059 L1814.84 27.2059 L1814.84 34.2544 Q1817.51 30.163 1821.11 28.1376 Q1824.76 26.1121 1829.5 26.1121 Q1837.32 26.1121 1841.33 30.9732 Q1845.34 35.7938 1845.34 45.1919 Z\" fill=\"#000000\" fill-rule=\"evenodd\" fill-opacity=\"1\" /><path clip-path=\"url(#clip930)\" d=\"M 0 0 M1883.01 49.3643 Q1883.01 41.2625 1879.65 36.8065 Q1876.33 32.3505 1870.29 32.3505 Q1864.3 32.3505 1860.93 36.8065 Q1857.61 41.2625 1857.61 49.3643 Q1857.61 57.4256 1860.93 61.8816 Q1864.3 66.3376 1870.29 66.3376 Q1876.33 66.3376 1879.65 61.8816 Q1883.01 57.4256 1883.01 49.3643 M1890.47 66.9452 Q1890.47 78.5308 1885.32 84.1616 Q1880.18 89.8329 1869.56 89.8329 Q1865.63 89.8329 1862.15 89.2252 Q1858.67 88.6581 1855.39 87.4428 L1855.39 80.1917 Q1858.67 81.9741 1861.87 82.8248 Q1865.07 83.6755 1868.39 83.6755 Q1875.72 83.6755 1879.37 79.8271 Q1883.01 76.0193 1883.01 68.282 L1883.01 64.5957 Q1880.7 68.6061 1877.1 70.5911 Q1873.49 72.576 1868.47 72.576 Q1860.12 72.576 1855.02 66.2161 Q1849.92 59.8562 1849.92 49.3643 Q1849.92 38.832 1855.02 32.472 Q1860.12 26.1121 1868.47 26.1121 Q1873.49 26.1121 1877.1 28.0971 Q1880.7 30.082 1883.01 34.0924 L1883.01 27.2059 L1890.47 27.2059 L1890.47 66.9452 Z\" fill=\"#000000\" fill-rule=\"evenodd\" fill-opacity=\"1\" /><path clip-path=\"url(#clip930)\" d=\"M 0 0 M59.1993 945.769 Q55.2526 943.573 53.3747 940.518 Q51.4968 937.462 51.4968 933.324 Q51.4968 927.754 55.4117 924.731 Q59.2948 921.707 66.4881 921.707 L88.0042 921.707 L88.0042 927.595 L66.679 927.595 Q61.5546 927.595 59.072 929.41 Q56.5894 931.224 56.5894 934.948 Q56.5894 939.499 59.6131 942.141 Q62.6368 944.783 67.8567 944.783 L88.0042 944.783 L88.0042 950.671 L66.679 950.671 Q61.5228 950.671 59.072 952.485 Q56.5894 954.299 56.5894 958.087 Q56.5894 962.575 59.6449 965.217 Q62.6686 967.858 67.8567 967.858 L88.0042 967.858 L88.0042 973.747 L52.3562 973.747 L52.3562 967.858 L57.8944 967.858 Q54.616 965.853 53.0564 963.052 Q51.4968 960.251 51.4968 956.4 Q51.4968 952.517 53.4702 949.812 Q55.4436 947.074 59.1993 945.769 Z\" fill=\"#000000\" fill-rule=\"evenodd\" fill-opacity=\"1\" /><path clip-path=\"url(#clip930)\" d=\"M 0 0 M52.3562 915.564 L52.3562 909.708 L88.0042 909.708 L88.0042 915.564 L52.3562 915.564 M38.479 915.564 L38.479 909.708 L45.895 909.708 L45.895 915.564 L38.479 915.564 Z\" fill=\"#000000\" fill-rule=\"evenodd\" fill-opacity=\"1\" /><path clip-path=\"url(#clip930)\" d=\"M 0 0 M38.479 903.565 L38.479 897.708 L88.0042 897.708 L88.0042 903.565 L38.479 903.565 Z\" fill=\"#000000\" fill-rule=\"evenodd\" fill-opacity=\"1\" /><path clip-path=\"url(#clip930)\" d=\"M 0 0 M38.479 891.565 L38.479 885.709 L88.0042 885.709 L88.0042 891.565 L38.479 891.565 Z\" fill=\"#000000\" fill-rule=\"evenodd\" fill-opacity=\"1\" /><path clip-path=\"url(#clip930)\" d=\"M 0 0 M52.3562 879.566 L52.3562 873.71 L88.0042 873.71 L88.0042 879.566 L52.3562 879.566 M38.479 879.566 L38.479 873.71 L45.895 873.71 L45.895 879.566 L38.479 879.566 Z\" fill=\"#000000\" fill-rule=\"evenodd\" fill-opacity=\"1\" /><path clip-path=\"url(#clip930)\" d=\"M 0 0 M53.4065 844.841 L58.9447 844.841 Q57.6716 847.324 57.035 849.997 Q56.3984 852.671 56.3984 855.536 Q56.3984 859.896 57.7352 862.092 Q59.072 864.257 61.7456 864.257 Q63.7826 864.257 64.9603 862.697 Q66.1061 861.137 67.1565 856.427 L67.6021 854.422 Q68.9389 848.183 71.3897 845.573 Q73.8086 842.931 78.1691 842.931 Q83.1344 842.931 86.0308 846.878 Q88.9272 850.793 88.9272 857.668 Q88.9272 860.533 88.3543 863.652 Q87.8132 866.739 86.6992 870.177 L80.6518 870.177 Q82.3387 866.93 83.198 863.779 Q84.0256 860.628 84.0256 857.541 Q84.0256 853.403 82.6251 851.175 Q81.1929 848.947 78.6147 848.947 Q76.2276 848.947 74.9545 850.57 Q73.6813 852.162 72.5037 857.604 L72.0262 859.641 Q70.8804 865.084 68.5251 867.503 Q66.138 869.922 62.0002 869.922 Q56.9713 869.922 54.2341 866.357 Q51.4968 862.792 51.4968 856.236 Q51.4968 852.989 51.9743 850.125 Q52.4517 847.26 53.4065 844.841 Z\" fill=\"#000000\" fill-rule=\"evenodd\" fill-opacity=\"1\" /><path clip-path=\"url(#clip930)\" d=\"M 0 0 M68.7161 806.297 L71.5806 806.297 L71.5806 833.224 Q77.6281 832.842 80.8109 829.595 Q83.9619 826.317 83.9619 820.492 Q83.9619 817.118 83.1344 813.967 Q82.3069 810.785 80.6518 807.665 L86.1899 807.665 Q87.5267 810.816 88.227 814.127 Q88.9272 817.437 88.9272 820.842 Q88.9272 829.372 83.9619 834.37 Q78.9967 839.335 70.5303 839.335 Q61.7774 839.335 56.6531 834.624 Q51.4968 829.882 51.4968 821.861 Q51.4968 814.668 56.1438 810.498 Q60.7589 806.297 68.7161 806.297 M66.9973 812.153 Q62.1912 812.217 59.3266 814.859 Q56.4621 817.469 56.4621 821.797 Q56.4621 826.699 59.2312 829.659 Q62.0002 832.587 67.0292 833.033 L66.9973 812.153 Z\" fill=\"#000000\" fill-rule=\"evenodd\" fill-opacity=\"1\" /><path clip-path=\"url(#clip930)\" d=\"M 0 0 M53.7248 774.5 L59.1993 774.5 Q57.8307 776.983 57.1623 779.497 Q56.4621 781.98 56.4621 784.526 Q56.4621 790.223 60.0905 793.374 Q63.6872 796.525 70.212 796.525 Q76.7369 796.525 80.3653 793.374 Q83.9619 790.223 83.9619 784.526 Q83.9619 781.98 83.2935 779.497 Q82.5933 776.983 81.2247 774.5 L86.6355 774.5 Q87.7814 776.951 88.3543 779.593 Q88.9272 782.203 88.9272 785.163 Q88.9272 793.215 83.8664 797.958 Q78.8057 802.7 70.212 802.7 Q61.491 802.7 56.4939 797.926 Q51.4968 793.12 51.4968 784.781 Q51.4968 782.075 52.0697 779.497 Q52.6108 776.919 53.7248 774.5 Z\" fill=\"#000000\" fill-rule=\"evenodd\" fill-opacity=\"1\" /><path clip-path=\"url(#clip930)\" d=\"M 0 0 M56.4621 754.544 Q56.4621 759.254 60.1542 761.991 Q63.8145 764.729 70.212 764.729 Q76.6095 764.729 80.3017 762.023 Q83.9619 759.286 83.9619 754.544 Q83.9619 749.865 80.2698 747.128 Q76.5777 744.39 70.212 744.39 Q63.8781 744.39 60.186 747.128 Q56.4621 749.865 56.4621 754.544 M51.4968 754.544 Q51.4968 746.905 56.4621 742.544 Q61.4273 738.184 70.212 738.184 Q78.9649 738.184 83.9619 742.544 Q88.9272 746.905 88.9272 754.544 Q88.9272 762.214 83.9619 766.575 Q78.9649 770.903 70.212 770.903 Q61.4273 770.903 56.4621 766.575 Q51.4968 762.214 51.4968 754.544 Z\" fill=\"#000000\" fill-rule=\"evenodd\" fill-opacity=\"1\" /><path clip-path=\"url(#clip930)\" d=\"M 0 0 M66.4881 702.408 L88.0042 702.408 L88.0042 708.265 L66.679 708.265 Q61.6183 708.265 59.1038 710.238 Q56.5894 712.212 56.5894 716.158 Q56.5894 720.901 59.6131 723.638 Q62.6368 726.375 67.8567 726.375 L88.0042 726.375 L88.0042 732.264 L52.3562 732.264 L52.3562 726.375 L57.8944 726.375 Q54.6797 724.275 53.0883 721.442 Q51.4968 718.577 51.4968 714.853 Q51.4968 708.711 55.3163 705.559 Q59.1038 702.408 66.4881 702.408 Z\" fill=\"#000000\" fill-rule=\"evenodd\" fill-opacity=\"1\" /><path clip-path=\"url(#clip930)\" d=\"M 0 0 M57.7671 672.808 L38.479 672.808 L38.479 666.951 L88.0042 666.951 L88.0042 672.808 L82.657 672.808 Q85.8398 674.654 87.3994 677.487 Q88.9272 680.288 88.9272 684.234 Q88.9272 690.696 83.771 694.77 Q78.6147 698.812 70.212 698.812 Q61.8093 698.812 56.6531 694.77 Q51.4968 690.696 51.4968 684.234 Q51.4968 680.288 53.0564 677.487 Q54.5842 674.654 57.7671 672.808 M70.212 692.764 Q76.6732 692.764 80.3653 690.123 Q84.0256 687.449 84.0256 682.802 Q84.0256 678.155 80.3653 675.482 Q76.6732 672.808 70.212 672.808 Q63.7508 672.808 60.0905 675.482 Q56.3984 678.155 56.3984 682.802 Q56.3984 687.449 60.0905 690.123 Q63.7508 692.764 70.212 692.764 Z\" fill=\"#000000\" fill-rule=\"evenodd\" fill-opacity=\"1\" /><path clip-path=\"url(#clip930)\" d=\"M 0 0 M53.4065 638.083 L58.9447 638.083 Q57.6716 640.566 57.035 643.239 Q56.3984 645.913 56.3984 648.777 Q56.3984 653.138 57.7352 655.334 Q59.072 657.498 61.7456 657.498 Q63.7826 657.498 64.9603 655.939 Q66.1061 654.379 67.1565 649.669 L67.6021 647.663 Q68.9389 641.425 71.3897 638.815 Q73.8086 636.173 78.1691 636.173 Q83.1344 636.173 86.0308 640.12 Q88.9272 644.035 88.9272 650.91 Q88.9272 653.774 88.3543 656.894 Q87.8132 659.981 86.6992 663.419 L80.6518 663.419 Q82.3387 660.172 83.198 657.021 Q84.0256 653.87 84.0256 650.783 Q84.0256 646.645 82.6251 644.417 Q81.1929 642.189 78.6147 642.189 Q76.2276 642.189 74.9545 643.812 Q73.6813 645.404 72.5037 650.846 L72.0262 652.883 Q70.8804 658.326 68.5251 660.745 Q66.138 663.164 62.0002 663.164 Q56.9713 663.164 54.2341 659.599 Q51.4968 656.034 51.4968 649.478 Q51.4968 646.231 51.9743 643.367 Q52.4517 640.502 53.4065 638.083 Z\" fill=\"#000000\" fill-rule=\"evenodd\" fill-opacity=\"1\" /><path clip-path=\"url(#clip932)\" d=\"\n",
       "M330.14 986.546 L330.14 1447.87 L614.873 1447.87 L614.873 986.546 L330.14 986.546 L330.14 986.546  Z\n",
       "  \" fill=\"#912cee\" fill-rule=\"evenodd\" fill-opacity=\"1\"/>\n",
       "<polyline clip-path=\"url(#clip932)\" style=\"stroke:#000000; stroke-width:4; stroke-opacity:1; fill:none\" points=\"\n",
       "  330.14,986.546 330.14,1447.87 614.873,1447.87 614.873,986.546 330.14,986.546 \n",
       "  \"/>\n",
       "<path clip-path=\"url(#clip932)\" d=\"\n",
       "M1397.89 1352.99 L1397.89 1447.87 L1682.62 1447.87 L1682.62 1352.99 L1397.89 1352.99 L1397.89 1352.99  Z\n",
       "  \" fill=\"#912cee\" fill-rule=\"evenodd\" fill-opacity=\"1\"/>\n",
       "<polyline clip-path=\"url(#clip932)\" style=\"stroke:#000000; stroke-width:4; stroke-opacity:1; fill:none\" points=\"\n",
       "  1397.89,1352.99 1397.89,1447.87 1682.62,1447.87 1682.62,1352.99 1397.89,1352.99 \n",
       "  \"/>\n",
       "<path clip-path=\"url(#clip932)\" d=\"\n",
       "M614.873 162.047 L614.873 1447.87 L899.606 1447.87 L899.606 162.047 L614.873 162.047 L614.873 162.047  Z\n",
       "  \" fill=\"#b3b3b3\" fill-rule=\"evenodd\" fill-opacity=\"1\"/>\n",
       "<polyline clip-path=\"url(#clip932)\" style=\"stroke:#000000; stroke-width:4; stroke-opacity:1; fill:none\" points=\"\n",
       "  614.873,162.047 614.873,1447.87 899.606,1447.87 899.606,162.047 614.873,162.047 \n",
       "  \"/>\n",
       "<path clip-path=\"url(#clip932)\" d=\"\n",
       "M1682.62 162.047 L1682.62 1447.87 L1967.36 1447.87 L1967.36 162.047 L1682.62 162.047 L1682.62 162.047  Z\n",
       "  \" fill=\"#b3b3b3\" fill-rule=\"evenodd\" fill-opacity=\"1\"/>\n",
       "<polyline clip-path=\"url(#clip932)\" style=\"stroke:#000000; stroke-width:4; stroke-opacity:1; fill:none\" points=\"\n",
       "  1682.62,162.047 1682.62,1447.87 1967.36,1447.87 1967.36,162.047 1682.62,162.047 \n",
       "  \"/>\n",
       "<path clip-path=\"url(#clip932)\" d=\"\n",
       "M899.606 525.219 L899.606 1447.87 L1184.34 1447.87 L1184.34 525.219 L899.606 525.219 L899.606 525.219  Z\n",
       "  \" fill=\"#00b2ee\" fill-rule=\"evenodd\" fill-opacity=\"1\"/>\n",
       "<polyline clip-path=\"url(#clip932)\" style=\"stroke:#000000; stroke-width:4; stroke-opacity:1; fill:none\" points=\"\n",
       "  899.606,525.219 899.606,1447.87 1184.34,1447.87 1184.34,525.219 899.606,525.219 \n",
       "  \"/>\n",
       "<path clip-path=\"url(#clip932)\" d=\"\n",
       "M1967.36 538.306 L1967.36 1447.87 L2252.09 1447.87 L2252.09 538.306 L1967.36 538.306 L1967.36 538.306  Z\n",
       "  \" fill=\"#00b2ee\" fill-rule=\"evenodd\" fill-opacity=\"1\"/>\n",
       "<polyline clip-path=\"url(#clip932)\" style=\"stroke:#000000; stroke-width:4; stroke-opacity:1; fill:none\" points=\"\n",
       "  1967.36,538.306 1967.36,1447.87 2252.09,1447.87 2252.09,538.306 1967.36,538.306 \n",
       "  \"/>\n",
       "<path clip-path=\"url(#clip930)\" d=\"\n",
       "M1895.9 448.912 L2280.76 448.912 L2280.76 206.992 L1895.9 206.992  Z\n",
       "  \" fill=\"#ffffff\" fill-rule=\"evenodd\" fill-opacity=\"1\"/>\n",
       "<polyline clip-path=\"url(#clip930)\" style=\"stroke:#000000; stroke-width:4; stroke-opacity:1; fill:none\" points=\"\n",
       "  1895.9,448.912 2280.76,448.912 2280.76,206.992 1895.9,206.992 1895.9,448.912 \n",
       "  \"/>\n",
       "<path clip-path=\"url(#clip930)\" d=\"\n",
       "M1919.9 291.664 L2063.9 291.664 L2063.9 243.28 L1919.9 243.28 L1919.9 291.664  Z\n",
       "  \" fill=\"#912cee\" fill-rule=\"evenodd\" fill-opacity=\"1\"/>\n",
       "<polyline clip-path=\"url(#clip930)\" style=\"stroke:#000000; stroke-width:4; stroke-opacity:1; fill:none\" points=\"\n",
       "  1919.9,291.664 2063.9,291.664 2063.9,243.28 1919.9,243.28 1919.9,291.664 \n",
       "  \"/>\n",
       "<path clip-path=\"url(#clip930)\" d=\"M 0 0 M2095 250.192 L2099.68 250.192 L2099.68 282.345 Q2099.68 288.595 2097.29 291.419 Q2094.93 294.243 2089.68 294.243 L2087.9 294.243 L2087.9 290.308 L2089.35 290.308 Q2092.46 290.308 2093.73 288.572 Q2095 286.835 2095 282.345 L2095 250.192 Z\" fill=\"#000000\" fill-rule=\"evenodd\" fill-opacity=\"1\" /><path clip-path=\"url(#clip930)\" d=\"M 0 0 M2103.71 274.521 L2103.71 258.826 L2107.96 258.826 L2107.96 274.359 Q2107.96 278.039 2109.4 279.891 Q2110.84 281.72 2113.71 281.72 Q2117.15 281.72 2119.15 279.521 Q2121.16 277.322 2121.16 273.525 L2121.16 258.826 L2125.42 258.826 L2125.42 284.752 L2121.16 284.752 L2121.16 280.771 Q2119.61 283.132 2117.55 284.289 Q2115.51 285.423 2112.8 285.423 Q2108.34 285.423 2106.02 282.646 Q2103.71 279.868 2103.71 274.521 M2114.42 258.201 L2114.42 258.201 Z\" fill=\"#000000\" fill-rule=\"evenodd\" fill-opacity=\"1\" /><path clip-path=\"url(#clip930)\" d=\"M 0 0 M2129.89 248.734 L2134.15 248.734 L2134.15 284.752 L2129.89 284.752 L2129.89 248.734 Z\" fill=\"#000000\" fill-rule=\"evenodd\" fill-opacity=\"1\" /><path clip-path=\"url(#clip930)\" d=\"M 0 0 M2138.61 258.826 L2142.87 258.826 L2142.87 284.752 L2138.61 284.752 L2138.61 258.826 M2138.61 248.734 L2142.87 248.734 L2142.87 254.127 L2138.61 254.127 L2138.61 248.734 Z\" fill=\"#000000\" fill-rule=\"evenodd\" fill-opacity=\"1\" /><path clip-path=\"url(#clip930)\" d=\"M 0 0 M2159.12 271.72 Q2153.96 271.72 2151.97 272.9 Q2149.98 274.081 2149.98 276.928 Q2149.98 279.197 2151.46 280.539 Q2152.96 281.859 2155.53 281.859 Q2159.08 281.859 2161.21 279.359 Q2163.36 276.836 2163.36 272.669 L2163.36 271.72 L2159.12 271.72 M2167.62 269.961 L2167.62 284.752 L2163.36 284.752 L2163.36 280.817 Q2161.9 283.178 2159.72 284.312 Q2157.55 285.423 2154.4 285.423 Q2150.42 285.423 2148.06 283.201 Q2145.72 280.956 2145.72 277.206 Q2145.72 272.831 2148.64 270.609 Q2151.58 268.386 2157.39 268.386 L2163.36 268.386 L2163.36 267.97 Q2163.36 265.03 2161.41 263.433 Q2159.49 261.812 2156 261.812 Q2153.77 261.812 2151.67 262.345 Q2149.56 262.877 2147.62 263.942 L2147.62 260.007 Q2149.96 259.104 2152.15 258.664 Q2154.35 258.201 2156.44 258.201 Q2162.06 258.201 2164.84 261.118 Q2167.62 264.035 2167.62 269.961 Z\" fill=\"#000000\" fill-rule=\"evenodd\" fill-opacity=\"1\" /><path clip-path=\"url(#clip930)\" d=\"\n",
       "M1919.9 352.144 L2063.9 352.144 L2063.9 303.76 L1919.9 303.76 L1919.9 352.144  Z\n",
       "  \" fill=\"#b3b3b3\" fill-rule=\"evenodd\" fill-opacity=\"1\"/>\n",
       "<polyline clip-path=\"url(#clip930)\" style=\"stroke:#000000; stroke-width:4; stroke-opacity:1; fill:none\" points=\"\n",
       "  1919.9,352.144 2063.9,352.144 2063.9,303.76 1919.9,303.76 1919.9,352.144 \n",
       "  \"/>\n",
       "<path clip-path=\"url(#clip930)\" d=\"M 0 0 M2092.57 314.515 L2092.57 327.501 L2098.45 327.501 Q2101.71 327.501 2103.5 325.811 Q2105.28 324.121 2105.28 320.996 Q2105.28 317.894 2103.5 316.205 Q2101.71 314.515 2098.45 314.515 L2092.57 314.515 M2087.9 310.672 L2098.45 310.672 Q2104.26 310.672 2107.22 313.311 Q2110.21 315.927 2110.21 320.996 Q2110.21 326.112 2107.22 328.728 Q2104.26 331.343 2098.45 331.343 L2092.57 331.343 L2092.57 345.232 L2087.9 345.232 L2087.9 310.672 Z\" fill=\"#000000\" fill-rule=\"evenodd\" fill-opacity=\"1\" /><path clip-path=\"url(#clip930)\" d=\"M 0 0 M2125.46 347.64 Q2123.66 352.269 2121.95 353.681 Q2120.23 355.093 2117.36 355.093 L2113.96 355.093 L2113.96 351.528 L2116.46 351.528 Q2118.22 351.528 2119.19 350.695 Q2120.16 349.862 2121.34 346.76 L2122.11 344.815 L2111.62 319.306 L2116.14 319.306 L2124.24 339.584 L2132.34 319.306 L2136.85 319.306 L2125.46 347.64 Z\" fill=\"#000000\" fill-rule=\"evenodd\" fill-opacity=\"1\" /><path clip-path=\"url(#clip930)\" d=\"M 0 0 M2145.53 311.945 L2145.53 319.306 L2154.31 319.306 L2154.31 322.617 L2145.53 322.617 L2145.53 336.691 Q2145.53 339.862 2146.39 340.765 Q2147.27 341.667 2149.93 341.667 L2154.31 341.667 L2154.31 345.232 L2149.93 345.232 Q2145 345.232 2143.13 343.403 Q2141.25 341.552 2141.25 336.691 L2141.25 322.617 L2138.13 322.617 L2138.13 319.306 L2141.25 319.306 L2141.25 311.945 L2145.53 311.945 Z\" fill=\"#000000\" fill-rule=\"evenodd\" fill-opacity=\"1\" /><path clip-path=\"url(#clip930)\" d=\"M 0 0 M2180.33 329.584 L2180.33 345.232 L2176.07 345.232 L2176.07 329.723 Q2176.07 326.042 2174.63 324.214 Q2173.2 322.385 2170.33 322.385 Q2166.88 322.385 2164.89 324.584 Q2162.9 326.783 2162.9 330.579 L2162.9 345.232 L2158.61 345.232 L2158.61 309.214 L2162.9 309.214 L2162.9 323.334 Q2164.42 320.996 2166.48 319.839 Q2168.57 318.681 2171.27 318.681 Q2175.74 318.681 2178.03 321.459 Q2180.33 324.214 2180.33 329.584 Z\" fill=\"#000000\" fill-rule=\"evenodd\" fill-opacity=\"1\" /><path clip-path=\"url(#clip930)\" d=\"M 0 0 M2194.84 322.292 Q2191.41 322.292 2189.42 324.978 Q2187.43 327.64 2187.43 332.292 Q2187.43 336.945 2189.4 339.63 Q2191.39 342.292 2194.84 342.292 Q2198.24 342.292 2200.23 339.607 Q2202.22 336.922 2202.22 332.292 Q2202.22 327.686 2200.23 325.001 Q2198.24 322.292 2194.84 322.292 M2194.84 318.681 Q2200.39 318.681 2203.57 322.292 Q2206.74 325.904 2206.74 332.292 Q2206.74 338.658 2203.57 342.292 Q2200.39 345.903 2194.84 345.903 Q2189.26 345.903 2186.09 342.292 Q2182.94 338.658 2182.94 332.292 Q2182.94 325.904 2186.09 322.292 Q2189.26 318.681 2194.84 318.681 Z\" fill=\"#000000\" fill-rule=\"evenodd\" fill-opacity=\"1\" /><path clip-path=\"url(#clip930)\" d=\"M 0 0 M2232.76 329.584 L2232.76 345.232 L2228.5 345.232 L2228.5 329.723 Q2228.5 326.042 2227.06 324.214 Q2225.63 322.385 2222.76 322.385 Q2219.31 322.385 2217.32 324.584 Q2215.33 326.783 2215.33 330.579 L2215.33 345.232 L2211.04 345.232 L2211.04 319.306 L2215.33 319.306 L2215.33 323.334 Q2216.85 320.996 2218.91 319.839 Q2221 318.681 2223.71 318.681 Q2228.17 318.681 2230.46 321.459 Q2232.76 324.214 2232.76 329.584 Z\" fill=\"#000000\" fill-rule=\"evenodd\" fill-opacity=\"1\" /><path clip-path=\"url(#clip930)\" d=\"\n",
       "M1919.9 412.624 L2063.9 412.624 L2063.9 364.24 L1919.9 364.24 L1919.9 412.624  Z\n",
       "  \" fill=\"#00b2ee\" fill-rule=\"evenodd\" fill-opacity=\"1\"/>\n",
       "<polyline clip-path=\"url(#clip930)\" style=\"stroke:#000000; stroke-width:4; stroke-opacity:1; fill:none\" points=\"\n",
       "  1919.9,412.624 2063.9,412.624 2063.9,364.24 1919.9,364.24 1919.9,412.624 \n",
       "  \"/>\n",
       "<path clip-path=\"url(#clip930)\" d=\"M 0 0 M2104.28 389.509 Q2105.79 390.018 2107.2 391.684 Q2108.64 393.351 2110.07 396.268 L2114.82 405.712 L2109.79 405.712 L2105.37 396.846 Q2103.66 393.374 2102.04 392.24 Q2100.44 391.106 2097.66 391.106 L2092.57 391.106 L2092.57 405.712 L2087.9 405.712 L2087.9 371.152 L2098.45 371.152 Q2104.38 371.152 2107.29 373.629 Q2110.21 376.106 2110.21 381.106 Q2110.21 384.37 2108.68 386.522 Q2107.18 388.675 2104.28 389.509 M2092.57 374.995 L2092.57 387.263 L2098.45 387.263 Q2101.83 387.263 2103.54 385.712 Q2105.28 384.138 2105.28 381.106 Q2105.28 378.073 2103.54 376.546 Q2101.83 374.995 2098.45 374.995 L2092.57 374.995 Z\" fill=\"#000000\" fill-rule=\"evenodd\" fill-opacity=\"1\" /></svg>\n"
      ]
     },
     "execution_count": 15,
     "metadata": {},
     "output_type": "execute_result"
    }
   ],
   "source": [
    "plot_times([141,29,282,278,393,393])"
   ]
  }
 ],
 "metadata": {
  "kernelspec": {
   "display_name": "Julia 1.4.1",
   "language": "julia",
   "name": "julia-1.4"
  },
  "language_info": {
   "file_extension": ".jl",
   "mimetype": "application/julia",
   "name": "julia",
   "version": "1.4.1"
  }
 },
 "nbformat": 4,
 "nbformat_minor": 4
}
